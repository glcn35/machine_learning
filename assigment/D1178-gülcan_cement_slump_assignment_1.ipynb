{
 "cells": [
  {
   "cell_type": "markdown",
   "metadata": {
    "id": "eHhytqKxLkKN"
   },
   "source": [
    "# Concrete Slump Test Regression"
   ]
  },
  {
   "cell_type": "markdown",
   "metadata": {
    "id": "FyMIezE2LkKR"
   },
   "source": [
    "The concrete slump test measures the consistency of fresh concrete before it sets. It is performed to check the workability of freshly made concrete, and therefore the ease with which concrete flows. It can also be used as an indicator of an improperly mixed batch.\n",
    "\n",
    "<img src=\"https://i0.wp.com/civiconcepts.com/wp-content/uploads/2019/08/Slump-Cone-test-of-concrete.jpg?fit=977%2C488&ssl=1\">\n",
    "\n",
    "Our data set consists of various cement properties and the resulting slump test metrics in cm. Later on the set concrete is tested for its compressive strength 28 days later.\n",
    "\n",
    "Input variables (9):\n",
    "\n",
    "(component kg in one M^3 concrete)(7):\n",
    "* Cement\n",
    "* Slag\n",
    "* Fly ash\n",
    "* Water\n",
    "* SP\n",
    "* Coarse Aggr.\n",
    "* Fine Aggr.\n",
    "\n",
    "(Measurements)(2)\n",
    "* SLUMP (cm)\n",
    "* FLOW (cm)\n",
    "\n",
    "Target variable (1):\n",
    "* **28-day Compressive Strength (Mpa)**\n",
    "\n",
    "Data Source: https://archive.ics.uci.edu/ml/datasets/Concrete+Slump+Test\n",
    "\n",
    "*Credit: Yeh, I-Cheng, \"Modeling slump flow of concrete using second-order regressions and artificial neural networks,\" Cement and Concrete Composites, Vol.29, No. 6, 474-480, 2007.*"
   ]
  },
  {
   "cell_type": "markdown",
   "metadata": {
    "id": "Ml-0HrEBLkKU"
   },
   "source": [
    "# Importing dependencies"
   ]
  },
  {
   "cell_type": "code",
   "execution_count": 1,
   "metadata": {
    "id": "SLDkU8VtZiFx"
   },
   "outputs": [],
   "source": [
    "import numpy as np\n",
    "import pandas as pd\n",
    "import seaborn as sns\n",
    "import matplotlib.pyplot as plt\n",
    "\n",
    "#%matplotlib inline\n",
    "#%matplotlib notebook\n",
    "plt.rcParams[\"figure.figsize\"] = (10,6)\n",
    "import warnings\n",
    "warnings.filterwarnings(\"ignore\")\n",
    "warnings.warn(\"this will not show\")\n",
    "pd.set_option('display.float_format', lambda x: '%.3f' % x)"
   ]
  },
  {
   "cell_type": "markdown",
   "metadata": {
    "id": "LU3s6xZXLkKW"
   },
   "source": [
    "# Loading data"
   ]
  },
  {
   "cell_type": "code",
   "execution_count": 2,
   "metadata": {
    "id": "uT2BCHzfLvLu"
   },
   "outputs": [
    {
     "data": {
      "text/html": [
       "<div>\n",
       "<style scoped>\n",
       "    .dataframe tbody tr th:only-of-type {\n",
       "        vertical-align: middle;\n",
       "    }\n",
       "\n",
       "    .dataframe tbody tr th {\n",
       "        vertical-align: top;\n",
       "    }\n",
       "\n",
       "    .dataframe thead th {\n",
       "        text-align: right;\n",
       "    }\n",
       "</style>\n",
       "<table border=\"1\" class=\"dataframe\">\n",
       "  <thead>\n",
       "    <tr style=\"text-align: right;\">\n",
       "      <th></th>\n",
       "      <th>Cement</th>\n",
       "      <th>Slag</th>\n",
       "      <th>Fly ash</th>\n",
       "      <th>Water</th>\n",
       "      <th>SP</th>\n",
       "      <th>Coarse Aggr.</th>\n",
       "      <th>Fine Aggr.</th>\n",
       "      <th>SLUMP(cm)</th>\n",
       "      <th>FLOW(cm)</th>\n",
       "      <th>Compressive Strength (28-day)(Mpa)</th>\n",
       "    </tr>\n",
       "  </thead>\n",
       "  <tbody>\n",
       "    <tr>\n",
       "      <th>0</th>\n",
       "      <td>273.000</td>\n",
       "      <td>82.000</td>\n",
       "      <td>105.000</td>\n",
       "      <td>210.000</td>\n",
       "      <td>9.000</td>\n",
       "      <td>904.000</td>\n",
       "      <td>680.000</td>\n",
       "      <td>23.000</td>\n",
       "      <td>62.000</td>\n",
       "      <td>34.990</td>\n",
       "    </tr>\n",
       "    <tr>\n",
       "      <th>1</th>\n",
       "      <td>163.000</td>\n",
       "      <td>149.000</td>\n",
       "      <td>191.000</td>\n",
       "      <td>180.000</td>\n",
       "      <td>12.000</td>\n",
       "      <td>843.000</td>\n",
       "      <td>746.000</td>\n",
       "      <td>0.000</td>\n",
       "      <td>20.000</td>\n",
       "      <td>41.140</td>\n",
       "    </tr>\n",
       "    <tr>\n",
       "      <th>2</th>\n",
       "      <td>162.000</td>\n",
       "      <td>148.000</td>\n",
       "      <td>191.000</td>\n",
       "      <td>179.000</td>\n",
       "      <td>16.000</td>\n",
       "      <td>840.000</td>\n",
       "      <td>743.000</td>\n",
       "      <td>1.000</td>\n",
       "      <td>20.000</td>\n",
       "      <td>41.810</td>\n",
       "    </tr>\n",
       "    <tr>\n",
       "      <th>3</th>\n",
       "      <td>162.000</td>\n",
       "      <td>148.000</td>\n",
       "      <td>190.000</td>\n",
       "      <td>179.000</td>\n",
       "      <td>19.000</td>\n",
       "      <td>838.000</td>\n",
       "      <td>741.000</td>\n",
       "      <td>3.000</td>\n",
       "      <td>21.500</td>\n",
       "      <td>42.080</td>\n",
       "    </tr>\n",
       "    <tr>\n",
       "      <th>4</th>\n",
       "      <td>154.000</td>\n",
       "      <td>112.000</td>\n",
       "      <td>144.000</td>\n",
       "      <td>220.000</td>\n",
       "      <td>10.000</td>\n",
       "      <td>923.000</td>\n",
       "      <td>658.000</td>\n",
       "      <td>20.000</td>\n",
       "      <td>64.000</td>\n",
       "      <td>26.820</td>\n",
       "    </tr>\n",
       "    <tr>\n",
       "      <th>...</th>\n",
       "      <td>...</td>\n",
       "      <td>...</td>\n",
       "      <td>...</td>\n",
       "      <td>...</td>\n",
       "      <td>...</td>\n",
       "      <td>...</td>\n",
       "      <td>...</td>\n",
       "      <td>...</td>\n",
       "      <td>...</td>\n",
       "      <td>...</td>\n",
       "    </tr>\n",
       "    <tr>\n",
       "      <th>98</th>\n",
       "      <td>248.300</td>\n",
       "      <td>101.000</td>\n",
       "      <td>239.100</td>\n",
       "      <td>168.900</td>\n",
       "      <td>7.700</td>\n",
       "      <td>954.200</td>\n",
       "      <td>640.600</td>\n",
       "      <td>0.000</td>\n",
       "      <td>20.000</td>\n",
       "      <td>49.970</td>\n",
       "    </tr>\n",
       "    <tr>\n",
       "      <th>99</th>\n",
       "      <td>248.000</td>\n",
       "      <td>101.000</td>\n",
       "      <td>239.900</td>\n",
       "      <td>169.100</td>\n",
       "      <td>7.700</td>\n",
       "      <td>949.900</td>\n",
       "      <td>644.100</td>\n",
       "      <td>2.000</td>\n",
       "      <td>20.000</td>\n",
       "      <td>50.230</td>\n",
       "    </tr>\n",
       "    <tr>\n",
       "      <th>100</th>\n",
       "      <td>258.800</td>\n",
       "      <td>88.000</td>\n",
       "      <td>239.600</td>\n",
       "      <td>175.300</td>\n",
       "      <td>7.600</td>\n",
       "      <td>938.900</td>\n",
       "      <td>646.000</td>\n",
       "      <td>0.000</td>\n",
       "      <td>20.000</td>\n",
       "      <td>50.500</td>\n",
       "    </tr>\n",
       "    <tr>\n",
       "      <th>101</th>\n",
       "      <td>297.100</td>\n",
       "      <td>40.900</td>\n",
       "      <td>239.900</td>\n",
       "      <td>194.000</td>\n",
       "      <td>7.500</td>\n",
       "      <td>908.900</td>\n",
       "      <td>651.800</td>\n",
       "      <td>27.500</td>\n",
       "      <td>67.000</td>\n",
       "      <td>49.170</td>\n",
       "    </tr>\n",
       "    <tr>\n",
       "      <th>102</th>\n",
       "      <td>348.700</td>\n",
       "      <td>0.100</td>\n",
       "      <td>223.100</td>\n",
       "      <td>208.500</td>\n",
       "      <td>9.600</td>\n",
       "      <td>786.200</td>\n",
       "      <td>758.100</td>\n",
       "      <td>29.000</td>\n",
       "      <td>78.000</td>\n",
       "      <td>48.700</td>\n",
       "    </tr>\n",
       "  </tbody>\n",
       "</table>\n",
       "<p>103 rows × 10 columns</p>\n",
       "</div>"
      ],
      "text/plain": [
       "     Cement    Slag  Fly ash   Water     SP  Coarse Aggr.  Fine Aggr.  \\\n",
       "0   273.000  82.000  105.000 210.000  9.000       904.000     680.000   \n",
       "1   163.000 149.000  191.000 180.000 12.000       843.000     746.000   \n",
       "2   162.000 148.000  191.000 179.000 16.000       840.000     743.000   \n",
       "3   162.000 148.000  190.000 179.000 19.000       838.000     741.000   \n",
       "4   154.000 112.000  144.000 220.000 10.000       923.000     658.000   \n",
       "..      ...     ...      ...     ...    ...           ...         ...   \n",
       "98  248.300 101.000  239.100 168.900  7.700       954.200     640.600   \n",
       "99  248.000 101.000  239.900 169.100  7.700       949.900     644.100   \n",
       "100 258.800  88.000  239.600 175.300  7.600       938.900     646.000   \n",
       "101 297.100  40.900  239.900 194.000  7.500       908.900     651.800   \n",
       "102 348.700   0.100  223.100 208.500  9.600       786.200     758.100   \n",
       "\n",
       "     SLUMP(cm)  FLOW(cm)  Compressive Strength (28-day)(Mpa)  \n",
       "0       23.000    62.000                              34.990  \n",
       "1        0.000    20.000                              41.140  \n",
       "2        1.000    20.000                              41.810  \n",
       "3        3.000    21.500                              42.080  \n",
       "4       20.000    64.000                              26.820  \n",
       "..         ...       ...                                 ...  \n",
       "98       0.000    20.000                              49.970  \n",
       "99       2.000    20.000                              50.230  \n",
       "100      0.000    20.000                              50.500  \n",
       "101     27.500    67.000                              49.170  \n",
       "102     29.000    78.000                              48.700  \n",
       "\n",
       "[103 rows x 10 columns]"
      ]
     },
     "execution_count": 2,
     "metadata": {},
     "output_type": "execute_result"
    }
   ],
   "source": [
    "df = pd.read_csv('cement_slump.csv')\n",
    "df"
   ]
  },
  {
   "cell_type": "markdown",
   "metadata": {
    "id": "1xsgyEZ5LkKb"
   },
   "source": [
    "# EDA and Graphical analysis"
   ]
  },
  {
   "cell_type": "code",
   "execution_count": 3,
   "metadata": {
    "colab": {
     "base_uri": "https://localhost:8080/",
     "height": 206
    },
    "id": "OOynhUc7Lv1F",
    "outputId": "bbc14638-dd1b-49dd-d9e8-796226a9f50c"
   },
   "outputs": [
    {
     "data": {
      "text/html": [
       "<div>\n",
       "<style scoped>\n",
       "    .dataframe tbody tr th:only-of-type {\n",
       "        vertical-align: middle;\n",
       "    }\n",
       "\n",
       "    .dataframe tbody tr th {\n",
       "        vertical-align: top;\n",
       "    }\n",
       "\n",
       "    .dataframe thead th {\n",
       "        text-align: right;\n",
       "    }\n",
       "</style>\n",
       "<table border=\"1\" class=\"dataframe\">\n",
       "  <thead>\n",
       "    <tr style=\"text-align: right;\">\n",
       "      <th></th>\n",
       "      <th>Cement</th>\n",
       "      <th>Slag</th>\n",
       "      <th>Fly ash</th>\n",
       "      <th>Water</th>\n",
       "      <th>SP</th>\n",
       "      <th>Coarse Aggr.</th>\n",
       "      <th>Fine Aggr.</th>\n",
       "      <th>SLUMP(cm)</th>\n",
       "      <th>FLOW(cm)</th>\n",
       "      <th>Compressive Strength (28-day)(Mpa)</th>\n",
       "    </tr>\n",
       "  </thead>\n",
       "  <tbody>\n",
       "    <tr>\n",
       "      <th>0</th>\n",
       "      <td>273.000</td>\n",
       "      <td>82.000</td>\n",
       "      <td>105.000</td>\n",
       "      <td>210.000</td>\n",
       "      <td>9.000</td>\n",
       "      <td>904.000</td>\n",
       "      <td>680.000</td>\n",
       "      <td>23.000</td>\n",
       "      <td>62.000</td>\n",
       "      <td>34.990</td>\n",
       "    </tr>\n",
       "    <tr>\n",
       "      <th>1</th>\n",
       "      <td>163.000</td>\n",
       "      <td>149.000</td>\n",
       "      <td>191.000</td>\n",
       "      <td>180.000</td>\n",
       "      <td>12.000</td>\n",
       "      <td>843.000</td>\n",
       "      <td>746.000</td>\n",
       "      <td>0.000</td>\n",
       "      <td>20.000</td>\n",
       "      <td>41.140</td>\n",
       "    </tr>\n",
       "    <tr>\n",
       "      <th>2</th>\n",
       "      <td>162.000</td>\n",
       "      <td>148.000</td>\n",
       "      <td>191.000</td>\n",
       "      <td>179.000</td>\n",
       "      <td>16.000</td>\n",
       "      <td>840.000</td>\n",
       "      <td>743.000</td>\n",
       "      <td>1.000</td>\n",
       "      <td>20.000</td>\n",
       "      <td>41.810</td>\n",
       "    </tr>\n",
       "    <tr>\n",
       "      <th>3</th>\n",
       "      <td>162.000</td>\n",
       "      <td>148.000</td>\n",
       "      <td>190.000</td>\n",
       "      <td>179.000</td>\n",
       "      <td>19.000</td>\n",
       "      <td>838.000</td>\n",
       "      <td>741.000</td>\n",
       "      <td>3.000</td>\n",
       "      <td>21.500</td>\n",
       "      <td>42.080</td>\n",
       "    </tr>\n",
       "    <tr>\n",
       "      <th>4</th>\n",
       "      <td>154.000</td>\n",
       "      <td>112.000</td>\n",
       "      <td>144.000</td>\n",
       "      <td>220.000</td>\n",
       "      <td>10.000</td>\n",
       "      <td>923.000</td>\n",
       "      <td>658.000</td>\n",
       "      <td>20.000</td>\n",
       "      <td>64.000</td>\n",
       "      <td>26.820</td>\n",
       "    </tr>\n",
       "  </tbody>\n",
       "</table>\n",
       "</div>"
      ],
      "text/plain": [
       "   Cement    Slag  Fly ash   Water     SP  Coarse Aggr.  Fine Aggr.  \\\n",
       "0 273.000  82.000  105.000 210.000  9.000       904.000     680.000   \n",
       "1 163.000 149.000  191.000 180.000 12.000       843.000     746.000   \n",
       "2 162.000 148.000  191.000 179.000 16.000       840.000     743.000   \n",
       "3 162.000 148.000  190.000 179.000 19.000       838.000     741.000   \n",
       "4 154.000 112.000  144.000 220.000 10.000       923.000     658.000   \n",
       "\n",
       "   SLUMP(cm)  FLOW(cm)  Compressive Strength (28-day)(Mpa)  \n",
       "0     23.000    62.000                              34.990  \n",
       "1      0.000    20.000                              41.140  \n",
       "2      1.000    20.000                              41.810  \n",
       "3      3.000    21.500                              42.080  \n",
       "4     20.000    64.000                              26.820  "
      ]
     },
     "execution_count": 3,
     "metadata": {},
     "output_type": "execute_result"
    }
   ],
   "source": [
    "df.head()"
   ]
  },
  {
   "cell_type": "code",
   "execution_count": 4,
   "metadata": {
    "colab": {
     "base_uri": "https://localhost:8080/"
    },
    "id": "zokDYRmKO31p",
    "outputId": "744c3bad-727e-44b5-8bce-a7b7387532d2"
   },
   "outputs": [
    {
     "data": {
      "text/plain": [
       "(103, 10)"
      ]
     },
     "execution_count": 4,
     "metadata": {},
     "output_type": "execute_result"
    }
   ],
   "source": [
    "df.shape"
   ]
  },
  {
   "cell_type": "code",
   "execution_count": 5,
   "metadata": {
    "colab": {
     "base_uri": "https://localhost:8080/"
    },
    "id": "T_s4kirhO-V5",
    "outputId": "87a0d31c-cdc2-423a-ea9a-e62df3d58624"
   },
   "outputs": [
    {
     "name": "stdout",
     "output_type": "stream",
     "text": [
      "<class 'pandas.core.frame.DataFrame'>\n",
      "RangeIndex: 103 entries, 0 to 102\n",
      "Data columns (total 10 columns):\n",
      " #   Column                              Non-Null Count  Dtype  \n",
      "---  ------                              --------------  -----  \n",
      " 0   Cement                              103 non-null    float64\n",
      " 1   Slag                                103 non-null    float64\n",
      " 2   Fly ash                             103 non-null    float64\n",
      " 3   Water                               103 non-null    float64\n",
      " 4   SP                                  103 non-null    float64\n",
      " 5   Coarse Aggr.                        103 non-null    float64\n",
      " 6   Fine Aggr.                          103 non-null    float64\n",
      " 7   SLUMP(cm)                           103 non-null    float64\n",
      " 8   FLOW(cm)                            103 non-null    float64\n",
      " 9   Compressive Strength (28-day)(Mpa)  103 non-null    float64\n",
      "dtypes: float64(10)\n",
      "memory usage: 8.2 KB\n"
     ]
    }
   ],
   "source": [
    "df.info()"
   ]
  },
  {
   "cell_type": "code",
   "execution_count": 6,
   "metadata": {
    "colab": {
     "base_uri": "https://localhost:8080/",
     "height": 300
    },
    "id": "0tjSgPpZPCCR",
    "outputId": "be4019d5-eb46-4c7f-84dc-edebe87f9788"
   },
   "outputs": [
    {
     "data": {
      "text/html": [
       "<div>\n",
       "<style scoped>\n",
       "    .dataframe tbody tr th:only-of-type {\n",
       "        vertical-align: middle;\n",
       "    }\n",
       "\n",
       "    .dataframe tbody tr th {\n",
       "        vertical-align: top;\n",
       "    }\n",
       "\n",
       "    .dataframe thead th {\n",
       "        text-align: right;\n",
       "    }\n",
       "</style>\n",
       "<table border=\"1\" class=\"dataframe\">\n",
       "  <thead>\n",
       "    <tr style=\"text-align: right;\">\n",
       "      <th></th>\n",
       "      <th>count</th>\n",
       "      <th>mean</th>\n",
       "      <th>std</th>\n",
       "      <th>min</th>\n",
       "      <th>25%</th>\n",
       "      <th>50%</th>\n",
       "      <th>75%</th>\n",
       "      <th>max</th>\n",
       "    </tr>\n",
       "  </thead>\n",
       "  <tbody>\n",
       "    <tr>\n",
       "      <th>Cement</th>\n",
       "      <td>103.000</td>\n",
       "      <td>229.894</td>\n",
       "      <td>78.877</td>\n",
       "      <td>137.000</td>\n",
       "      <td>152.000</td>\n",
       "      <td>248.000</td>\n",
       "      <td>303.900</td>\n",
       "      <td>374.000</td>\n",
       "    </tr>\n",
       "    <tr>\n",
       "      <th>Slag</th>\n",
       "      <td>103.000</td>\n",
       "      <td>77.974</td>\n",
       "      <td>60.461</td>\n",
       "      <td>0.000</td>\n",
       "      <td>0.050</td>\n",
       "      <td>100.000</td>\n",
       "      <td>125.000</td>\n",
       "      <td>193.000</td>\n",
       "    </tr>\n",
       "    <tr>\n",
       "      <th>Fly ash</th>\n",
       "      <td>103.000</td>\n",
       "      <td>149.015</td>\n",
       "      <td>85.418</td>\n",
       "      <td>0.000</td>\n",
       "      <td>115.500</td>\n",
       "      <td>164.000</td>\n",
       "      <td>235.950</td>\n",
       "      <td>260.000</td>\n",
       "    </tr>\n",
       "    <tr>\n",
       "      <th>Water</th>\n",
       "      <td>103.000</td>\n",
       "      <td>197.168</td>\n",
       "      <td>20.208</td>\n",
       "      <td>160.000</td>\n",
       "      <td>180.000</td>\n",
       "      <td>196.000</td>\n",
       "      <td>209.500</td>\n",
       "      <td>240.000</td>\n",
       "    </tr>\n",
       "    <tr>\n",
       "      <th>SP</th>\n",
       "      <td>103.000</td>\n",
       "      <td>8.540</td>\n",
       "      <td>2.808</td>\n",
       "      <td>4.400</td>\n",
       "      <td>6.000</td>\n",
       "      <td>8.000</td>\n",
       "      <td>10.000</td>\n",
       "      <td>19.000</td>\n",
       "    </tr>\n",
       "    <tr>\n",
       "      <th>Coarse Aggr.</th>\n",
       "      <td>103.000</td>\n",
       "      <td>883.979</td>\n",
       "      <td>88.391</td>\n",
       "      <td>708.000</td>\n",
       "      <td>819.500</td>\n",
       "      <td>879.000</td>\n",
       "      <td>952.800</td>\n",
       "      <td>1049.900</td>\n",
       "    </tr>\n",
       "    <tr>\n",
       "      <th>Fine Aggr.</th>\n",
       "      <td>103.000</td>\n",
       "      <td>739.605</td>\n",
       "      <td>63.342</td>\n",
       "      <td>640.600</td>\n",
       "      <td>684.500</td>\n",
       "      <td>742.700</td>\n",
       "      <td>788.000</td>\n",
       "      <td>902.000</td>\n",
       "    </tr>\n",
       "    <tr>\n",
       "      <th>SLUMP(cm)</th>\n",
       "      <td>103.000</td>\n",
       "      <td>18.049</td>\n",
       "      <td>8.751</td>\n",
       "      <td>0.000</td>\n",
       "      <td>14.500</td>\n",
       "      <td>21.500</td>\n",
       "      <td>24.000</td>\n",
       "      <td>29.000</td>\n",
       "    </tr>\n",
       "    <tr>\n",
       "      <th>FLOW(cm)</th>\n",
       "      <td>103.000</td>\n",
       "      <td>49.611</td>\n",
       "      <td>17.569</td>\n",
       "      <td>20.000</td>\n",
       "      <td>38.500</td>\n",
       "      <td>54.000</td>\n",
       "      <td>63.750</td>\n",
       "      <td>78.000</td>\n",
       "    </tr>\n",
       "    <tr>\n",
       "      <th>Compressive Strength (28-day)(Mpa)</th>\n",
       "      <td>103.000</td>\n",
       "      <td>36.039</td>\n",
       "      <td>7.837</td>\n",
       "      <td>17.190</td>\n",
       "      <td>30.900</td>\n",
       "      <td>35.520</td>\n",
       "      <td>41.205</td>\n",
       "      <td>58.530</td>\n",
       "    </tr>\n",
       "  </tbody>\n",
       "</table>\n",
       "</div>"
      ],
      "text/plain": [
       "                                     count    mean    std     min     25%  \\\n",
       "Cement                             103.000 229.894 78.877 137.000 152.000   \n",
       "Slag                               103.000  77.974 60.461   0.000   0.050   \n",
       "Fly ash                            103.000 149.015 85.418   0.000 115.500   \n",
       "Water                              103.000 197.168 20.208 160.000 180.000   \n",
       "SP                                 103.000   8.540  2.808   4.400   6.000   \n",
       "Coarse Aggr.                       103.000 883.979 88.391 708.000 819.500   \n",
       "Fine Aggr.                         103.000 739.605 63.342 640.600 684.500   \n",
       "SLUMP(cm)                          103.000  18.049  8.751   0.000  14.500   \n",
       "FLOW(cm)                           103.000  49.611 17.569  20.000  38.500   \n",
       "Compressive Strength (28-day)(Mpa) 103.000  36.039  7.837  17.190  30.900   \n",
       "\n",
       "                                       50%     75%      max  \n",
       "Cement                             248.000 303.900  374.000  \n",
       "Slag                               100.000 125.000  193.000  \n",
       "Fly ash                            164.000 235.950  260.000  \n",
       "Water                              196.000 209.500  240.000  \n",
       "SP                                   8.000  10.000   19.000  \n",
       "Coarse Aggr.                       879.000 952.800 1049.900  \n",
       "Fine Aggr.                         742.700 788.000  902.000  \n",
       "SLUMP(cm)                           21.500  24.000   29.000  \n",
       "FLOW(cm)                            54.000  63.750   78.000  \n",
       "Compressive Strength (28-day)(Mpa)  35.520  41.205   58.530  "
      ]
     },
     "execution_count": 6,
     "metadata": {},
     "output_type": "execute_result"
    }
   ],
   "source": [
    "df.describe().T"
   ]
  },
  {
   "cell_type": "code",
   "execution_count": 63,
   "metadata": {
    "colab": {
     "base_uri": "https://localhost:8080/",
     "height": 1000
    },
    "id": "L7UQCOqXPmuJ",
    "outputId": "e37980bb-da5a-47b3-8823-2a08a67137f3"
   },
   "outputs": [
    {
     "data": {
      "image/png": "[encoded data removed]",
      "text/plain": [
       "<Figure size 1800x1800 with 65 Axes>"
      ]
     },
     "metadata": {
      "needs_background": "light"
     },
     "output_type": "display_data"
    }
   ],
   "source": [
    "sns.pairplot(df,\n",
    "             corner=True);"
   ]
  },
  {
   "cell_type": "code",
   "execution_count": 8,
   "metadata": {
    "colab": {
     "base_uri": "https://localhost:8080/",
     "height": 363
    },
    "id": "DjflbTTjPuOx",
    "outputId": "db6878d7-c1e3-46fb-b968-aaeac1aded7f"
   },
   "outputs": [
    {
     "data": {
      "text/html": [
       "<div>\n",
       "<style scoped>\n",
       "    .dataframe tbody tr th:only-of-type {\n",
       "        vertical-align: middle;\n",
       "    }\n",
       "\n",
       "    .dataframe tbody tr th {\n",
       "        vertical-align: top;\n",
       "    }\n",
       "\n",
       "    .dataframe thead th {\n",
       "        text-align: right;\n",
       "    }\n",
       "</style>\n",
       "<table border=\"1\" class=\"dataframe\">\n",
       "  <thead>\n",
       "    <tr style=\"text-align: right;\">\n",
       "      <th></th>\n",
       "      <th>Cement</th>\n",
       "      <th>Slag</th>\n",
       "      <th>Fly ash</th>\n",
       "      <th>Water</th>\n",
       "      <th>SP</th>\n",
       "      <th>Coarse Aggr.</th>\n",
       "      <th>Fine Aggr.</th>\n",
       "      <th>SLUMP(cm)</th>\n",
       "      <th>FLOW(cm)</th>\n",
       "      <th>Compressive Strength (28-day)(Mpa)</th>\n",
       "    </tr>\n",
       "  </thead>\n",
       "  <tbody>\n",
       "    <tr>\n",
       "      <th>Cement</th>\n",
       "      <td>1.000</td>\n",
       "      <td>-0.244</td>\n",
       "      <td>-0.487</td>\n",
       "      <td>0.221</td>\n",
       "      <td>-0.106</td>\n",
       "      <td>-0.310</td>\n",
       "      <td>0.057</td>\n",
       "      <td>0.146</td>\n",
       "      <td>0.186</td>\n",
       "      <td>0.446</td>\n",
       "    </tr>\n",
       "    <tr>\n",
       "      <th>Slag</th>\n",
       "      <td>-0.244</td>\n",
       "      <td>1.000</td>\n",
       "      <td>-0.323</td>\n",
       "      <td>-0.027</td>\n",
       "      <td>0.307</td>\n",
       "      <td>-0.224</td>\n",
       "      <td>-0.184</td>\n",
       "      <td>-0.284</td>\n",
       "      <td>-0.327</td>\n",
       "      <td>-0.332</td>\n",
       "    </tr>\n",
       "    <tr>\n",
       "      <th>Fly ash</th>\n",
       "      <td>-0.487</td>\n",
       "      <td>-0.323</td>\n",
       "      <td>1.000</td>\n",
       "      <td>-0.241</td>\n",
       "      <td>-0.144</td>\n",
       "      <td>0.173</td>\n",
       "      <td>-0.283</td>\n",
       "      <td>-0.119</td>\n",
       "      <td>-0.055</td>\n",
       "      <td>0.444</td>\n",
       "    </tr>\n",
       "    <tr>\n",
       "      <th>Water</th>\n",
       "      <td>0.221</td>\n",
       "      <td>-0.027</td>\n",
       "      <td>-0.241</td>\n",
       "      <td>1.000</td>\n",
       "      <td>-0.155</td>\n",
       "      <td>-0.602</td>\n",
       "      <td>0.115</td>\n",
       "      <td>0.467</td>\n",
       "      <td>0.632</td>\n",
       "      <td>-0.254</td>\n",
       "    </tr>\n",
       "    <tr>\n",
       "      <th>SP</th>\n",
       "      <td>-0.106</td>\n",
       "      <td>0.307</td>\n",
       "      <td>-0.144</td>\n",
       "      <td>-0.155</td>\n",
       "      <td>1.000</td>\n",
       "      <td>-0.104</td>\n",
       "      <td>0.058</td>\n",
       "      <td>-0.213</td>\n",
       "      <td>-0.176</td>\n",
       "      <td>-0.038</td>\n",
       "    </tr>\n",
       "    <tr>\n",
       "      <th>Coarse Aggr.</th>\n",
       "      <td>-0.310</td>\n",
       "      <td>-0.224</td>\n",
       "      <td>0.173</td>\n",
       "      <td>-0.602</td>\n",
       "      <td>-0.104</td>\n",
       "      <td>1.000</td>\n",
       "      <td>-0.489</td>\n",
       "      <td>-0.188</td>\n",
       "      <td>-0.326</td>\n",
       "      <td>-0.161</td>\n",
       "    </tr>\n",
       "    <tr>\n",
       "      <th>Fine Aggr.</th>\n",
       "      <td>0.057</td>\n",
       "      <td>-0.184</td>\n",
       "      <td>-0.283</td>\n",
       "      <td>0.115</td>\n",
       "      <td>0.058</td>\n",
       "      <td>-0.489</td>\n",
       "      <td>1.000</td>\n",
       "      <td>0.202</td>\n",
       "      <td>0.190</td>\n",
       "      <td>-0.155</td>\n",
       "    </tr>\n",
       "    <tr>\n",
       "      <th>SLUMP(cm)</th>\n",
       "      <td>0.146</td>\n",
       "      <td>-0.284</td>\n",
       "      <td>-0.119</td>\n",
       "      <td>0.467</td>\n",
       "      <td>-0.213</td>\n",
       "      <td>-0.188</td>\n",
       "      <td>0.202</td>\n",
       "      <td>1.000</td>\n",
       "      <td>0.906</td>\n",
       "      <td>-0.223</td>\n",
       "    </tr>\n",
       "    <tr>\n",
       "      <th>FLOW(cm)</th>\n",
       "      <td>0.186</td>\n",
       "      <td>-0.327</td>\n",
       "      <td>-0.055</td>\n",
       "      <td>0.632</td>\n",
       "      <td>-0.176</td>\n",
       "      <td>-0.326</td>\n",
       "      <td>0.190</td>\n",
       "      <td>0.906</td>\n",
       "      <td>1.000</td>\n",
       "      <td>-0.124</td>\n",
       "    </tr>\n",
       "    <tr>\n",
       "      <th>Compressive Strength (28-day)(Mpa)</th>\n",
       "      <td>0.446</td>\n",
       "      <td>-0.332</td>\n",
       "      <td>0.444</td>\n",
       "      <td>-0.254</td>\n",
       "      <td>-0.038</td>\n",
       "      <td>-0.161</td>\n",
       "      <td>-0.155</td>\n",
       "      <td>-0.223</td>\n",
       "      <td>-0.124</td>\n",
       "      <td>1.000</td>\n",
       "    </tr>\n",
       "  </tbody>\n",
       "</table>\n",
       "</div>"
      ],
      "text/plain": [
       "                                    Cement   Slag  Fly ash  Water     SP  \\\n",
       "Cement                               1.000 -0.244   -0.487  0.221 -0.106   \n",
       "Slag                                -0.244  1.000   -0.323 -0.027  0.307   \n",
       "Fly ash                             -0.487 -0.323    1.000 -0.241 -0.144   \n",
       "Water                                0.221 -0.027   -0.241  1.000 -0.155   \n",
       "SP                                  -0.106  0.307   -0.144 -0.155  1.000   \n",
       "Coarse Aggr.                        -0.310 -0.224    0.173 -0.602 -0.104   \n",
       "Fine Aggr.                           0.057 -0.184   -0.283  0.115  0.058   \n",
       "SLUMP(cm)                            0.146 -0.284   -0.119  0.467 -0.213   \n",
       "FLOW(cm)                             0.186 -0.327   -0.055  0.632 -0.176   \n",
       "Compressive Strength (28-day)(Mpa)   0.446 -0.332    0.444 -0.254 -0.038   \n",
       "\n",
       "                                    Coarse Aggr.  Fine Aggr.  SLUMP(cm)  \\\n",
       "Cement                                    -0.310       0.057      0.146   \n",
       "Slag                                      -0.224      -0.184     -0.284   \n",
       "Fly ash                                    0.173      -0.283     -0.119   \n",
       "Water                                     -0.602       0.115      0.467   \n",
       "SP                                        -0.104       0.058     -0.213   \n",
       "Coarse Aggr.                               1.000      -0.489     -0.188   \n",
       "Fine Aggr.                                -0.489       1.000      0.202   \n",
       "SLUMP(cm)                                 -0.188       0.202      1.000   \n",
       "FLOW(cm)                                  -0.326       0.190      0.906   \n",
       "Compressive Strength (28-day)(Mpa)        -0.161      -0.155     -0.223   \n",
       "\n",
       "                                    FLOW(cm)  \\\n",
       "Cement                                 0.186   \n",
       "Slag                                  -0.327   \n",
       "Fly ash                               -0.055   \n",
       "Water                                  0.632   \n",
       "SP                                    -0.176   \n",
       "Coarse Aggr.                          -0.326   \n",
       "Fine Aggr.                             0.190   \n",
       "SLUMP(cm)                              0.906   \n",
       "FLOW(cm)                               1.000   \n",
       "Compressive Strength (28-day)(Mpa)    -0.124   \n",
       "\n",
       "                                    Compressive Strength (28-day)(Mpa)  \n",
       "Cement                                                           0.446  \n",
       "Slag                                                            -0.332  \n",
       "Fly ash                                                          0.444  \n",
       "Water                                                           -0.254  \n",
       "SP                                                              -0.038  \n",
       "Coarse Aggr.                                                    -0.161  \n",
       "Fine Aggr.                                                      -0.155  \n",
       "SLUMP(cm)                                                       -0.223  \n",
       "FLOW(cm)                                                        -0.124  \n",
       "Compressive Strength (28-day)(Mpa)                               1.000  "
      ]
     },
     "execution_count": 8,
     "metadata": {},
     "output_type": "execute_result"
    }
   ],
   "source": [
    "df.corr()"
   ]
  },
  {
   "cell_type": "code",
   "execution_count": 9,
   "metadata": {},
   "outputs": [
    {
     "data": {
      "text/plain": [
       "Cement                                0.446\n",
       "Slag                                 -0.332\n",
       "Fly ash                               0.444\n",
       "Water                                -0.254\n",
       "SP                                   -0.038\n",
       "Coarse Aggr.                         -0.161\n",
       "Fine Aggr.                           -0.155\n",
       "SLUMP(cm)                            -0.223\n",
       "FLOW(cm)                             -0.124\n",
       "Compressive Strength (28-day)(Mpa)    1.000\n",
       "Name: Compressive Strength (28-day)(Mpa), dtype: float64"
      ]
     },
     "execution_count": 9,
     "metadata": {},
     "output_type": "execute_result"
    }
   ],
   "source": [
    "df.corr()[\"Compressive Strength (28-day)(Mpa)\"]"
   ]
  },
  {
   "cell_type": "code",
   "execution_count": 41,
   "metadata": {},
   "outputs": [
    {
     "name": "stdout",
     "output_type": "stream",
     "text": [
      "Corr between Comp.Strength-Cement      : 0.45\n",
      "Corr between Comp.Strength-Slag        : -0.33\n",
      "Corr between Comp.Strength-Fly ash     : 0.44\n",
      "Corr between Comp.Strength-Water       : -0.25\n",
      "Corr between Comp.Strength-SP          : -0.04\n",
      "Corr between Comp.Strength-Coarse Aggr.: -0.16\n",
      "Corr between Comp.Strength-Fine Aggr.  : -0.15\n",
      "Corr between Comp.Strength-SLUMP(cm)   : -0.22\n",
      "Corr between Comp.Strength-FLOW(cm)    : -0.12\n"
     ]
    }
   ],
   "source": [
    "for i in df.drop(columns =\"Compressive Strength (28-day)(Mpa)\"):\n",
    "    \n",
    "    print(f\"Corr between Comp.Strength-{i:<12}: {round(df['Compressive Strength (28-day)(Mpa)'].corr(df[i]),2)}\") "
   ]
  },
  {
   "cell_type": "code",
   "execution_count": 29,
   "metadata": {
    "colab": {
     "base_uri": "https://localhost:8080/",
     "height": 461
    },
    "id": "FFdshBSQPzTS",
    "outputId": "953465ac-8697-40c2-c3ec-7bdbb5af79a7"
   },
   "outputs": [
    {
     "data": {
      "text/plain": [
       "<AxesSubplot:>"
      ]
     },
     "execution_count": 29,
     "metadata": {},
     "output_type": "execute_result"
    },
    {
     "data": {
      "image/png": "[encoded data removed]",
      "text/plain": [
       "<Figure size 720x432 with 2 Axes>"
      ]
     },
     "metadata": {
      "needs_background": "light"
     },
     "output_type": "display_data"
    }
   ],
   "source": [
    "sns.heatmap(df.corr(), annot = True,cmap=\"PiYG\")"
   ]
  },
  {
   "cell_type": "code",
   "execution_count": 46,
   "metadata": {},
   "outputs": [
    {
     "data": {
      "image/png": "[encoded data removed]",
      "text/plain": [
       "<Figure size 144x576 with 2 Axes>"
      ]
     },
     "metadata": {
      "needs_background": "light"
     },
     "output_type": "display_data"
    }
   ],
   "source": [
    "plt.figure(figsize=(2,8))\n",
    "sns.heatmap(df.corr()[['Compressive Strength (28-day)(Mpa)']].sort_values(by='Compressive Strength (28-day)(Mpa)', ascending=False), vmax = 1, annot=True, cmap=\"PiYG\")\n",
    "plt.show()"
   ]
  },
  {
   "cell_type": "code",
   "execution_count": 12,
   "metadata": {},
   "outputs": [
    {
     "data": {
      "image/png": "[encoded data removed]",
      "text/plain": [
       "<Figure size 576x360 with 1 Axes>"
      ]
     },
     "metadata": {
      "needs_background": "light"
     },
     "output_type": "display_data"
    }
   ],
   "source": [
    "plt.figure(figsize = (8,5))\n",
    "sns.distplot(df['Compressive Strength (28-day)(Mpa)'], kde = True, bins = 30)\n",
    "plt.show()"
   ]
  },
  {
   "cell_type": "code",
   "execution_count": 64,
   "metadata": {},
   "outputs": [
    {
     "data": {
      "image/png": "[encoded data removed]",
      "text/plain": [
       "<Figure size 1440x576 with 2 Axes>"
      ]
     },
     "metadata": {
      "needs_background": "light"
     },
     "output_type": "display_data"
    }
   ],
   "source": [
    "plt.figure(figsize=(20, 8))\n",
    "\n",
    "plt.subplot(1,2,1)\n",
    "plt.hist(df[\"Compressive Strength (28-day)(Mpa)\"], bins=50)\n",
    "\n",
    "plt.subplot(122)\n",
    "plt.boxplot(df[\"Compressive Strength (28-day)(Mpa)\"], whis=2.5)\n",
    "\n",
    "plt.show()"
   ]
  },
  {
   "cell_type": "code",
   "execution_count": 14,
   "metadata": {},
   "outputs": [],
   "source": [
    "def plot_relation(df, target_var):\n",
    "    fig, axs = plt.subplots(3, 3, figsize=(9, 9))\n",
    "    c = 0\n",
    "    for i in range(3):\n",
    "        for j in range(3):\n",
    "            if df.columns[c] != target_var:\n",
    "                sns.regplot(x=df.columns[c],\n",
    "                            y=target_var,\n",
    "                            data=df,\n",
    "                            ax=axs[i][j])\n",
    "            c += 1\n",
    "    plt.tight_layout()"
   ]
  },
  {
   "cell_type": "code",
   "execution_count": 15,
   "metadata": {},
   "outputs": [
    {
     "data": {
      "image/png": "[encoded data removed]",
      "text/plain": [
       "<Figure size 648x648 with 9 Axes>"
      ]
     },
     "metadata": {
      "needs_background": "light"
     },
     "output_type": "display_data"
    }
   ],
   "source": [
    "plot_relation(df,\"Compressive Strength (28-day)(Mpa)\")"
   ]
  },
  {
   "cell_type": "markdown",
   "metadata": {
    "id": "6mGpnc0Op9ib"
   },
   "source": [
    "# Data Preprocessing "
   ]
  },
  {
   "cell_type": "markdown",
   "metadata": {
    "id": "lQry6QMmLkKd"
   },
   "source": [
    "### Features and target variable"
   ]
  },
  {
   "cell_type": "code",
   "execution_count": 16,
   "metadata": {
    "id": "Q8WR47fMLzH1"
   },
   "outputs": [],
   "source": [
    "X = df.drop(columns =\"Compressive Strength (28-day)(Mpa)\")\n",
    "y = df[\"Compressive Strength (28-day)(Mpa)\"]"
   ]
  },
  {
   "cell_type": "markdown",
   "metadata": {
    "id": "2bgxIFqvLkKe"
   },
   "source": [
    "### Splitting data into training and testing"
   ]
  },
  {
   "cell_type": "code",
   "execution_count": 17,
   "metadata": {
    "id": "uUotDhZ_L0YN"
   },
   "outputs": [],
   "source": [
    "from sklearn.model_selection import train_test_split"
   ]
  },
  {
   "cell_type": "code",
   "execution_count": 18,
   "metadata": {
    "id": "WCw0pNzRQK1y"
   },
   "outputs": [],
   "source": [
    "X_train, X_test, y_train, y_test = train_test_split(X, y, test_size = 0.3, random_state =42)"
   ]
  },
  {
   "cell_type": "code",
   "execution_count": 19,
   "metadata": {
    "colab": {
     "base_uri": "https://localhost:8080/",
     "height": 520
    },
    "id": "WCJtksAiQN0J",
    "outputId": "a5aeab7f-4a49-45c6-c194-0308dc8aa5d1"
   },
   "outputs": [
    {
     "data": {
      "text/html": [
       "<div>\n",
       "<style scoped>\n",
       "    .dataframe tbody tr th:only-of-type {\n",
       "        vertical-align: middle;\n",
       "    }\n",
       "\n",
       "    .dataframe tbody tr th {\n",
       "        vertical-align: top;\n",
       "    }\n",
       "\n",
       "    .dataframe thead th {\n",
       "        text-align: right;\n",
       "    }\n",
       "</style>\n",
       "<table border=\"1\" class=\"dataframe\">\n",
       "  <thead>\n",
       "    <tr style=\"text-align: right;\">\n",
       "      <th></th>\n",
       "      <th>Cement</th>\n",
       "      <th>Slag</th>\n",
       "      <th>Fly ash</th>\n",
       "      <th>Water</th>\n",
       "      <th>SP</th>\n",
       "      <th>Coarse Aggr.</th>\n",
       "      <th>Fine Aggr.</th>\n",
       "      <th>SLUMP(cm)</th>\n",
       "      <th>FLOW(cm)</th>\n",
       "      <th>Compressive Strength (28-day)(Mpa)</th>\n",
       "    </tr>\n",
       "  </thead>\n",
       "  <tbody>\n",
       "    <tr>\n",
       "      <th>102</th>\n",
       "      <td>348.700</td>\n",
       "      <td>0.100</td>\n",
       "      <td>223.100</td>\n",
       "      <td>208.500</td>\n",
       "      <td>9.600</td>\n",
       "      <td>786.200</td>\n",
       "      <td>758.100</td>\n",
       "      <td>29.000</td>\n",
       "      <td>78.000</td>\n",
       "      <td>48.700</td>\n",
       "    </tr>\n",
       "    <tr>\n",
       "      <th>61</th>\n",
       "      <td>288.000</td>\n",
       "      <td>0.000</td>\n",
       "      <td>121.000</td>\n",
       "      <td>177.000</td>\n",
       "      <td>7.000</td>\n",
       "      <td>908.000</td>\n",
       "      <td>829.000</td>\n",
       "      <td>22.500</td>\n",
       "      <td>48.500</td>\n",
       "      <td>39.930</td>\n",
       "    </tr>\n",
       "    <tr>\n",
       "      <th>42</th>\n",
       "      <td>160.000</td>\n",
       "      <td>146.000</td>\n",
       "      <td>188.000</td>\n",
       "      <td>203.000</td>\n",
       "      <td>11.000</td>\n",
       "      <td>829.000</td>\n",
       "      <td>710.000</td>\n",
       "      <td>13.000</td>\n",
       "      <td>38.000</td>\n",
       "      <td>33.510</td>\n",
       "    </tr>\n",
       "    <tr>\n",
       "      <th>58</th>\n",
       "      <td>143.000</td>\n",
       "      <td>131.000</td>\n",
       "      <td>168.000</td>\n",
       "      <td>217.000</td>\n",
       "      <td>6.000</td>\n",
       "      <td>891.000</td>\n",
       "      <td>672.000</td>\n",
       "      <td>25.000</td>\n",
       "      <td>69.000</td>\n",
       "      <td>26.420</td>\n",
       "    </tr>\n",
       "    <tr>\n",
       "      <th>56</th>\n",
       "      <td>307.000</td>\n",
       "      <td>110.000</td>\n",
       "      <td>0.000</td>\n",
       "      <td>189.000</td>\n",
       "      <td>10.000</td>\n",
       "      <td>904.000</td>\n",
       "      <td>765.000</td>\n",
       "      <td>22.000</td>\n",
       "      <td>40.000</td>\n",
       "      <td>31.500</td>\n",
       "    </tr>\n",
       "  </tbody>\n",
       "</table>\n",
       "</div>"
      ],
      "text/plain": [
       "     Cement    Slag  Fly ash   Water     SP  Coarse Aggr.  Fine Aggr.  \\\n",
       "102 348.700   0.100  223.100 208.500  9.600       786.200     758.100   \n",
       "61  288.000   0.000  121.000 177.000  7.000       908.000     829.000   \n",
       "42  160.000 146.000  188.000 203.000 11.000       829.000     710.000   \n",
       "58  143.000 131.000  168.000 217.000  6.000       891.000     672.000   \n",
       "56  307.000 110.000    0.000 189.000 10.000       904.000     765.000   \n",
       "\n",
       "     SLUMP(cm)  FLOW(cm)  Compressive Strength (28-day)(Mpa)  \n",
       "102     29.000    78.000                              48.700  \n",
       "61      22.500    48.500                              39.930  \n",
       "42      13.000    38.000                              33.510  \n",
       "58      25.000    69.000                              26.420  \n",
       "56      22.000    40.000                              31.500  "
      ]
     },
     "execution_count": 19,
     "metadata": {},
     "output_type": "execute_result"
    }
   ],
   "source": [
    "df.sample(5)"
   ]
  },
  {
   "cell_type": "code",
   "execution_count": 20,
   "metadata": {
    "colab": {
     "base_uri": "https://localhost:8080/"
    },
    "id": "wWvIF3-nQYrJ",
    "outputId": "2ade4443-1575-49fe-c3ac-f7733e69682d"
   },
   "outputs": [
    {
     "name": "stdout",
     "output_type": "stream",
     "text": [
      "Train features shape :  (72, 9)\n",
      "Train target shape   :  (72,)\n",
      "Test features shape  :  (31, 9)\n",
      "Test target shape    :  (31,)\n"
     ]
    }
   ],
   "source": [
    "print(\"Train features shape : \", X_train.shape)\n",
    "print(\"Train target shape   : \", y_train.shape)\n",
    "print(\"Test features shape  : \", X_test.shape)\n",
    "print(\"Test target shape    : \", y_test.shape)"
   ]
  },
  {
   "cell_type": "markdown",
   "metadata": {
    "id": "4YkV6BW2qAQf"
   },
   "source": [
    "## Scaling"
   ]
  },
  {
   "cell_type": "code",
   "execution_count": 21,
   "metadata": {
    "id": "9eLa4YNQL2J1"
   },
   "outputs": [],
   "source": [
    "from sklearn.preprocessing import StandardScaler, MinMaxScaler, RobustScaler\n",
    "scaler = StandardScaler()"
   ]
  },
  {
   "cell_type": "code",
   "execution_count": 22,
   "metadata": {
    "colab": {
     "base_uri": "https://localhost:8080/"
    },
    "id": "2m2PZGQfP1Cg",
    "outputId": "d2a54b5b-c1d3-4306-9fed-f77d45c7591d"
   },
   "outputs": [
    {
     "data": {
      "text/plain": [
       "StandardScaler()"
      ]
     },
     "execution_count": 22,
     "metadata": {},
     "output_type": "execute_result"
    }
   ],
   "source": [
    "scaler.fit(X_train)"
   ]
  },
  {
   "cell_type": "code",
   "execution_count": 65,
   "metadata": {
    "colab": {
     "base_uri": "https://localhost:8080/"
    },
    "id": "31QlmsXnP6dY",
    "outputId": "255e109c-cfb6-4347-c48e-9fc1f786afb6",
    "scrolled": true
   },
   "outputs": [
    {
     "data": {
      "text/plain": [
       "array([[-1.01867817e+00,  4.89060387e-01, -7.01085388e-02,\n",
       "        -1.99267756e-01, -5.39878038e-01, -1.37532719e+00,\n",
       "         2.52572977e+00,  6.48505379e-01,  4.82444362e-01],\n",
       "       [ 8.52113706e-01, -6.26114653e-01,  1.06779252e+00,\n",
       "        -1.50862633e-01, -3.67117066e-01,  2.75612237e-01,\n",
       "        -1.40263561e+00,  1.08244950e+00,  9.92185022e-01],\n",
       "       [-8.80658652e-01,  1.86460669e+00, -1.63768284e+00,\n",
       "         5.26809088e-01,  1.18773168e+00, -7.54320879e-01,\n",
       "         1.20685410e+00,  5.61716555e-01,  2.93415534e-02],\n",
       "       [ 8.63406212e-01,  4.56309284e-01, -9.26635646e-02,\n",
       "         1.87973228e-01, -8.85399982e-01, -8.64461622e-02,\n",
       "        -1.35239273e+00, -2.48312469e-01, -1.32996687e+00],\n",
       "       [ 4.49347647e-01,  1.12422708e-01, -3.85878901e-01,\n",
       "        -1.02457510e-01, -8.85399982e-01, -6.13715675e-01,\n",
       "         7.67228879e-01,  1.02459028e+00,  5.95720064e-01],\n",
       "       [-1.03122540e+00,  1.61549362e-01, -3.40768849e-01,\n",
       "         2.36378351e-01,  1.51165851e-01, -2.97353967e-01,\n",
       "         1.37956401e+00,  5.61716555e-01,  3.12530809e-01],\n",
       "       [-1.11905601e+00, -1.27294893e+00,  5.96392476e-01,\n",
       "        -1.07540048e+00, -1.43823509e+00,  1.92772338e+00,\n",
       "         6.18070321e-01, -2.19382861e-01, -1.04677762e+00],\n",
       "       [-8.80658652e-01, -1.29587470e+00,  1.15914037e+00,\n",
       "        -1.07055997e+00,  1.18773168e+00,  1.82344119e+00,\n",
       "        -9.12767507e-01,  3.30279691e-01,  8.59794045e-02],\n",
       "       [ 5.74819939e-01,  3.25304874e-01, -2.05438694e-01,\n",
       "        -6.34913863e-01,  1.53325363e+00, -8.83208982e-01,\n",
       "         7.67228879e-01,  8.79942243e-01,  8.50590394e-01],\n",
       "       [-9.55942028e-01, -1.29587470e+00,  1.05764276e+00,\n",
       "         1.39568105e-01, -8.85399982e-01,  1.36647427e+00,\n",
       "        -8.97066606e-01, -7.11186196e-01, -8.20226213e-01],\n",
       "       [-8.01611108e-01,  1.04910424e+00,  1.04974850e+00,\n",
       "         1.58930154e-01, -5.05325843e-01, -2.55172406e-02,\n",
       "        -1.39007489e+00, -1.32594037e-01, -1.27332902e+00],\n",
       "       [-1.15669770e+00,  1.43884236e+00,  7.75704932e-01,\n",
       "         1.39810130e+00, -8.85399982e-01, -2.07835321e+00,\n",
       "         2.49099153e-01,  1.08244950e+00,  1.16209857e+00],\n",
       "       [-1.05631986e+00, -1.29587470e+00,  9.22312600e-01,\n",
       "         2.07577302e+00, -8.85399982e-01, -1.58623500e+00,\n",
       "         1.75638563e+00, -4.21890117e-01,  5.10763288e-01],\n",
       "       [ 7.75575607e-01,  4.23558182e-01, -1.63768284e+00,\n",
       "         3.81593719e-01, -8.85399982e-01, -3.09071068e-01,\n",
       "         8.77135185e-01,  6.77434987e-01,  5.39082213e-01],\n",
       "       [ 1.16453971e+00,  6.03689245e-01, -1.63768284e+00,\n",
       "        -5.40523873e-02,  4.96687795e-01, -7.89472180e-01,\n",
       "         1.12834960e+00,  8.51012635e-01,  9.92185022e-01],\n",
       "       [ 8.25764524e-01,  4.39933733e-01, -1.03941078e-01,\n",
       "         5.26809088e-01, -8.85399982e-01, -1.68465864e-01,\n",
       "        -1.43089723e+00,  9.66731067e-01,  1.16209857e+00],\n",
       "       [ 8.38311753e-01,  2.92553772e-01, -1.63768284e+00,\n",
       "         1.05926544e+00,  1.51165851e-01,  5.46277254e-01,\n",
       "        -8.81365705e-01, -3.64030901e-01, -5.56152232e-02],\n",
       "       [-1.11654656e+00, -7.96420386e-01,  1.05764276e+00,\n",
       "        -1.34162866e+00, -1.12726534e+00,  1.67580572e+00,\n",
       "         2.45762711e-02,  3.59209299e-01, -1.97209851e-01],\n",
       "       [-1.11905601e+00,  8.00195860e-01,  2.11829285e-01,\n",
       "        -6.83318986e-01,  1.18773168e+00, -1.68465864e-01,\n",
       "         5.31715367e-01,  6.48505379e-01,  1.99255107e-01],\n",
       "       [ 3.99158730e-01, -1.85817019e-02, -5.09931543e-01,\n",
       "         1.87973228e-01,  1.51165851e-01, -2.50485566e-01,\n",
       "         3.11902756e-01,  5.61716555e-01,  7.93952543e-01],\n",
       "       [ 1.21472863e+00, -1.29587470e+00,  2.45661824e-01,\n",
       "        -1.11896509e+00, -8.85399982e-01, -1.61435604e-02,\n",
       "         7.98630681e-01,  3.88138907e-01, -4.23761255e-01],\n",
       "       [ 1.56605105e+00, -1.29587470e+00, -1.63768284e+00,\n",
       "         1.78534229e+00, -8.85399982e-01,  8.62638962e-01,\n",
       "        -7.87160300e-01, -1.32594037e-01,  2.55892958e-01],\n",
       "       [-1.09396155e+00,  8.32946963e-01,  2.45661824e-01,\n",
       "        -1.11896509e+00,  8.42209739e-01, -2.78606607e-02,\n",
       "         6.88724375e-01, -2.09980738e+00, -1.66979398e+00],\n",
       "       [-8.43016964e-01,  1.12770689e+00,  5.05044621e-01,\n",
       "        -8.76939478e-01,  3.60638529e+00, -5.55130174e-01,\n",
       "        -2.11526025e-03, -1.75265208e+00, -1.58483720e+00],\n",
       "       [ 8.25764524e-01,  4.39933733e-01, -1.03941078e-01,\n",
       "         4.29998842e-01,  8.42209739e-01, -1.58623500e+00,\n",
       "         3.90407260e-01,  7.93153419e-01,  1.07714180e+00],\n",
       "       [-8.93205881e-01, -1.29587470e+00,  1.13658535e+00,\n",
       "        -1.11896509e+00, -5.39878038e-01,  1.75313858e+00,\n",
       "        -5.51646788e-01,  9.88428273e-02, -3.67123404e-01],\n",
       "       [-9.68489257e-01, -1.29587470e+00,  1.03508773e+00,\n",
       "         3.33188597e-01, -8.85399982e-01, -1.17613649e+00,\n",
       "         2.36872076e+00, -3.06171685e-01,  8.59794045e-02],\n",
       "       [-1.11780128e+00, -1.22709738e+00,  7.97132206e-01,\n",
       "        -1.55703146e-01, -1.33457851e+00,  1.92303654e+00,\n",
       "        -4.87273095e-01,  7.35294203e-01,  4.25806511e-01],\n",
       "       [-9.68489257e-01,  9.80326924e-01,  3.69714466e-01,\n",
       "        -1.40939583e+00,  3.26086335e+00,  6.86882457e-01,\n",
       "        -7.24356697e-01, -2.09980738e+00, -1.66979398e+00],\n",
       "       [-8.68111423e-01, -1.29587470e+00,  1.18169540e+00,\n",
       "        -1.40939583e+00,  1.18773168e+00,  1.91717799e+00,\n",
       "        -8.34263003e-01, -1.68756047e-02, -8.39341487e-02],\n",
       "       [ 2.86233667e-01, -5.13328044e-02, -5.43764082e-01,\n",
       "        -1.50862633e-01, -1.94356094e-01, -5.90281475e-01,\n",
       "         1.25395680e+00,  5.61716555e-01,  2.55892958e-01],\n",
       "       [-9.89819546e-01,  5.28361710e-01,  1.05538725e+00,\n",
       "        -1.44327942e+00, -7.12639010e-01,  1.33718152e+00,\n",
       "        -1.10902877e+00, -4.21890117e-01, -7.35269436e-01],\n",
       "       [ 9.76331275e-01,  5.05435938e-01, -1.63768284e+00,\n",
       "        -3.92888248e-01,  4.96687795e-01,  2.18198445e-01,\n",
       "         3.74706359e-01,  4.45998123e-01, -5.37036957e-01],\n",
       "       [-5.63213752e-01,  1.21613486e+00,  1.05989826e+00,\n",
       "        -8.76939478e-01, -3.67117066e-01,  4.08015470e-01,\n",
       "        -1.57377543e+00, -2.09980738e+00, -1.66979398e+00],\n",
       "       [ 1.16453971e+00, -1.29587470e+00,  4.26665906e-02,\n",
       "        -5.38103617e-01, -1.94356094e-01,  7.68902159e-01,\n",
       "        -5.04544086e-01,  2.72420475e-01,  6.80676841e-01],\n",
       "       [ 1.13944526e+00, -1.29587470e+00,  2.00551772e-01,\n",
       "        -4.41293371e-01,  1.51165851e-01, -2.27051366e-01,\n",
       "         5.47416268e-01,  6.19575771e-01,  5.95720064e-01],\n",
       "       [ 1.34020092e+00,  8.98449168e-01, -1.63768284e+00,\n",
       "         1.20448081e+00, -8.85399982e-01, -1.51593240e+00,\n",
       "         7.20126177e-01,  9.08871851e-01,  8.22271468e-01],\n",
       "       [ 6.37556086e-01,  2.10676016e-01, -3.06936310e-01,\n",
       "         4.78403965e-01,  1.51165851e-01, -2.78606607e-02,\n",
       "        -9.75571110e-01,  8.51012635e-01,  8.22271468e-01],\n",
       "       [ 5.87367169e-01,  1.77924913e-01, -3.29491336e-01,\n",
       "        -8.28534355e-01,  1.51165851e-01, -1.80182965e-01,\n",
       "         4.21809061e-01, -2.09980738e+00, -1.66979398e+00],\n",
       "       [ 7.37933920e-01, -1.29587470e+00, -2.73103772e-01,\n",
       "        -9.73749724e-01, -5.39878038e-01,  2.65066847e-01,\n",
       "         1.37956401e+00,  5.03857339e-01, -5.56152232e-02],\n",
       "       [ 2.36044750e-01,  3.58055977e-01,  1.06779252e+00,\n",
       "        -1.35615020e+00, -2.98012677e-01,  7.56013349e-01,\n",
       "        -1.52353255e+00, -1.86837052e+00, -1.66979398e+00],\n",
       "       [-1.11780128e+00, -1.10264319e+00,  9.12162838e-01,\n",
       "         5.17128064e-01, -1.26547412e+00,  1.58792747e+00,\n",
       "        -9.00206786e-01,  3.30279691e-01,  8.22271468e-01],\n",
       "       [-9.43394798e-01,  1.01307803e+00,  4.03547005e-01,\n",
       "         1.78534229e+00,  8.42209739e-01, -1.03553129e+00,\n",
       "        -9.12767507e-01,  5.61716555e-01,  8.78909319e-01],\n",
       "       [-1.08141432e+00,  8.49322514e-01,  2.56939336e-01,\n",
       "         9.62455195e-01, -8.85399982e-01,  6.58761416e-02,\n",
       "        -1.08547742e+00,  7.93153419e-01,  1.10546072e+00],\n",
       "       [ 1.29001201e+00, -1.29587470e+00,  2.79494362e-01,\n",
       "        -1.79663681e+00, -8.85399982e-01,  1.71330044e-01,\n",
       "         1.01844329e+00, -2.09980738e+00, -1.66979398e+00],\n",
       "       [-9.88564824e-01,  5.20173934e-01,  1.06553701e+00,\n",
       "        -1.40455532e+00, -7.12639010e-01,  1.34538349e+00,\n",
       "        -1.16084174e+00, -1.00048228e+00, -1.24501010e+00],\n",
       "       [ 1.05161465e+00,  7.34693655e-01, -1.63768284e+00,\n",
       "         3.81593719e-01,  8.42209739e-01, -4.61393372e-01,\n",
       "         2.64800053e-01,  4.45998123e-01, -2.72962977e-02],\n",
       "       [-1.00613094e+00,  4.89060387e-01, -7.01085388e-02,\n",
       "        -1.99267756e-01, -8.85399982e-01,  7.75932419e-02,\n",
       "         6.10219871e-01,  6.19575771e-01,  5.10763288e-01],\n",
       "       [ 1.71661780e+00, -1.29587470e+00,  4.71212082e-01,\n",
       "        -2.96078002e-01, -5.39878038e-01, -7.19169578e-01,\n",
       "         2.49099153e-01,  7.64223811e-01,  7.48642262e-01],\n",
       "       [-1.70485477e-01,  5.52925036e-01,  1.05764276e+00,\n",
       "         7.66414447e-02, -4.01669260e-01, -1.61435604e-02,\n",
       "        -1.44502804e+00,  1.08244950e+00,  8.22271468e-01],\n",
       "       [-1.11905601e+00,  8.00195860e-01,  2.11829285e-01,\n",
       "         1.93055765e+00, -8.85399982e-01, -1.91900065e-01,\n",
       "        -1.33669183e+00,  6.77434987e-01,  8.78909319e-01],\n",
       "       [ 7.75575607e-01,  4.07182630e-01, -1.63768284e+00,\n",
       "         1.64012692e+00,  1.51165851e-01, -3.32505268e-01,\n",
       "        -2.53329673e-01,  5.61716555e-01,  1.10546072e+00],\n",
       "       [-7.07506889e-01,  1.29637506e+00,  1.06328151e+00,\n",
       "        -1.48684403e+00, -4.01669260e-01,  7.87649520e-01,\n",
       "        -1.52353255e+00, -2.09980738e+00, -1.66979398e+00],\n",
       "       [-8.05375277e-01,  1.16045799e+00, -1.63768284e+00,\n",
       "        -7.31724109e-01,  1.18773168e+00,  1.61253338e+00,\n",
       "        -1.90526070e-01, -4.21890117e-01, -1.66979398e+00],\n",
       "       [ 1.06416188e+00, -1.29587470e+00,  1.77996746e-01,\n",
       "         4.78403965e-01, -8.85399982e-01, -4.02807870e-01,\n",
       "         2.49099153e-01,  3.88138907e-01,  8.22271468e-01],\n",
       "       [-8.30469735e-01,  1.14408244e+00,  5.16322134e-01,\n",
       "        -8.28534355e-01,  1.18773168e+00, -4.96544672e-01,\n",
       "         7.63892438e-02, -2.09980738e+00, -1.66979398e+00],\n",
       "       [ 1.59114551e+00,  1.02945358e+00, -1.63768284e+00,\n",
       "        -1.99267756e-01,  8.42209739e-01, -9.88662885e-01,\n",
       "         5.78818069e-01, -1.17405992e+00, -1.10341547e+00],\n",
       "       [ 1.01397296e+00, -1.29587470e+00, -2.49984870e-02,\n",
       "         1.01086032e+00,  4.96687795e-01, -1.15270229e+00,\n",
       "         9.87041490e-01, -5.95467764e-01, -1.97209851e-01],\n",
       "       [-8.43016964e-01,  1.12770689e+00,  5.16322134e-01,\n",
       "        -8.76939478e-01,  2.56981946e+00, -5.31695973e-01,\n",
       "         2.92865414e-02, -1.98408895e+00, -1.66979398e+00],\n",
       "       [-1.04377263e+00,  1.61897342e+00, -1.63768284e+00,\n",
       "        -2.47672879e-01,  8.42209739e-01,  8.86073162e-01,\n",
       "         1.23491946e-01, -1.68756047e-02, -1.97209851e-01],\n",
       "       [-4.37741460e-01, -1.29096203e+00,  1.06892027e+00,\n",
       "         1.79502331e+00,  1.16613656e-01, -1.22769173e+00,\n",
       "         1.10165807e+00,  9.66731067e-01,  1.61520138e+00],\n",
       "       [-7.17544672e-01,  1.35860216e+00,  1.05200400e+00,\n",
       "        -1.50620608e+00, -4.01669260e-01,  7.95851490e-01,\n",
       "        -1.56592498e+00, -2.09980738e+00, -1.66979398e+00],\n",
       "       [-1.04377263e+00,  4.39933733e-01, -9.26635646e-02,\n",
       "         5.75214211e-01, -8.85399982e-01, -1.21597463e-01,\n",
       "         3.74706359e-01,  6.77434987e-01,  9.92185022e-01],\n",
       "       [-1.07765015e+00,  2.07400905e-01,  1.06666477e+00,\n",
       "         1.78292203e-01, -8.16295593e-01,  9.30598143e-01,\n",
       "        -1.47642985e+00,  7.93153419e-01,  3.12530809e-01],\n",
       "       [-8.65601977e-01, -1.29096203e+00,  1.06892027e+00,\n",
       "         1.76113972e+00,  2.20270239e-01, -1.22300489e+00,\n",
       "         1.56954491e+00,  6.77434987e-01,  1.44528783e+00],\n",
       "       [ 9.51236817e-01,  3.41680425e-01, -1.63768284e+00,\n",
       "        -5.40523873e-02,  4.96687795e-01,  8.62638962e-01,\n",
       "        -5.67347689e-01,  2.14561259e-01, -2.72962977e-02],\n",
       "       [ 6.12461627e-01, -1.29587470e+00, -3.18213823e-01,\n",
       "         3.81593719e-01,  1.51165851e-01, -1.21597463e-01,\n",
       "         9.08536986e-01,  9.88428273e-02, -8.39341487e-02],\n",
       "       [ 1.05161465e+00,  5.38187040e-01, -1.63768284e+00,\n",
       "         1.10767056e+00,  4.96687795e-01, -1.07068259e+00,\n",
       "         7.51527978e-01,  5.61716555e-01,  4.82444362e-01],\n",
       "       [ 1.81699563e+00, -1.29587470e+00, -1.63768284e+00,\n",
       "        -3.44483125e-01, -5.39878038e-01,  1.49536238e+00,\n",
       "        -1.74825169e-01, -4.21890117e-01, -3.95442330e-01],\n",
       "       [ 9.36180141e-01, -1.29259959e+00,  1.06666477e+00,\n",
       "         1.90151458e+00, -9.06995103e-02, -1.23355028e+00,\n",
       "        -4.05628411e-01,  7.93153419e-01,  1.61520138e+00],\n",
       "       [ 1.41548430e+00,  9.31200270e-01, -1.63768284e+00,\n",
       "         1.34969618e+00,  8.42209739e-01, -1.35189299e+00,\n",
       "         9.20901446e-02,  3.30279691e-01,  6.52357915e-01],\n",
       "       [ 1.49955073e+00, -1.29423714e+00,  8.78330299e-01,\n",
       "         5.51011650e-01,  3.58479017e-01, -1.16207597e+00,\n",
       "         2.66370143e-01,  1.25602715e+00,  1.61520138e+00]])"
      ]
     },
     "execution_count": 65,
     "metadata": {},
     "output_type": "execute_result"
    }
   ],
   "source": [
    " X_train_scaled = scaler.transform(X_train) \n",
    " X_train_scaled"
   ]
  },
  {
   "cell_type": "code",
   "execution_count": 66,
   "metadata": {
    "colab": {
     "base_uri": "https://localhost:8080/"
    },
    "id": "Df1Jpp7xP9iD",
    "outputId": "a62e4516-08e5-4a7c-bc55-3637952a69a4",
    "scrolled": true
   },
   "outputs": [
    {
     "data": {
      "text/plain": [
       "array([[ 1.15199248, -1.2958747 ,  0.21182928, -0.34448313, -1.23092193,\n",
       "        -0.18018296,  0.51601447,  0.67743499,  0.59572006],\n",
       "       [-0.79282805, -1.2958747 ,  1.29447053, -0.68331899,  1.53325363,\n",
       "        -0.30907107,  1.34816221,  0.33027969,  0.25589296],\n",
       "       [ 0.87595344,  0.45630928, -1.63768284,  0.62361933,  0.49668779,\n",
       "        -0.05129486,  0.06068834,  0.79315342,  0.76563362],\n",
       "       [ 0.72538669,  0.24342712, -0.27310377, -0.44129337,  0.15116585,\n",
       "         0.21819845, -0.7086558 ,  0.79315342,  0.65235792],\n",
       "       [-0.86811142,  1.09495578,  0.4824896 ,  0.28478347,  0.84220974,\n",
       "        -0.66058408, -0.48884319, -0.59546776, -0.65031266],\n",
       "       [-1.05631986,  1.60259787,  0.9223126 ,  0.57521421,  0.84220974,\n",
       "        -1.5628008 , -0.41033868, -1.8105113 , -1.66979398],\n",
       "       [-0.92582868,  0.70358011,  1.06892027, -0.83337487, -0.64353462,\n",
       "         0.95403234, -1.39164498, -0.42189012, -0.45208018],\n",
       "       [ 1.1143508 ,  0.76744476, -1.63768284,  0.62361933, -0.88539998,\n",
       "        -0.28563687, -0.06491886, -0.07473482, -0.08393415],\n",
       "       [-1.05631986,  0.43993373, -0.10394108,  0.52680909,  0.49668779,\n",
       "        -1.5745179 ,  2.22741265,  0.7352942 ,  0.65235792],\n",
       "       [ 0.54972548,  0.0469205 , -0.45354398,  0.62361933,  0.15116585,\n",
       "         0.21819845, -0.95987021,  0.56171656,  0.70899577],\n",
       "       [ 1.01397296, -1.2958747 , -0.02499849, -1.40939583,  0.49668779,\n",
       "         0.33536945,  0.98704149,  0.27242048, -0.07260658],\n",
       "       [ 1.5033149 , -1.2958747 ,  0.36971447,  1.59172179, -0.88539998,\n",
       "        -1.17613649, -0.31613328,  0.21456126,  1.0771418 ],\n",
       "       [ 0.82952869, -1.2958747 ,  1.06779252,  1.89183356, -0.09069951,\n",
       "        -1.23120686, -0.28630156,  0.79315342,  1.55856353],\n",
       "       [-1.11278239, -0.29532852,  1.056515  , -0.70752155, -0.98905656,\n",
       "         1.55043275, -0.93788895,  0.7352942 ,  0.59572006],\n",
       "       [-0.88065865, -1.2958747 ,  0.47121208, -1.02215485,  0.84220974,\n",
       "         1.22586907,  0.75152798, -0.7111862 , -0.59367481],\n",
       "       [-0.9433948 ,  0.53818704, -0.01372097,  1.10767056,  0.49668779,\n",
       "         0.44082335, -1.30529003,  0.21456126,  0.82227147],\n",
       "       [-1.10525406, -1.28604937,  0.72495612, -0.40256927, -1.3691307 ,\n",
       "         1.29734338,  0.75466816,  0.61957577,  0.19925511],\n",
       "       [ 0.56227271,  0.16154936, -0.34076885,  0.23637835,  0.15116585,\n",
       "        -1.4807811 ,  1.34816221,  0.96673107,  1.04882287],\n",
       "       [-1.09396155,  0.83294696,  0.24566182,  0.86564495, -0.88539998,\n",
       "        -1.7619915 ,  1.48947032,  0.85101264,  0.99218502],\n",
       "       [ 0.9888785 ,  0.52181149, -0.036276  ,  0.9624552 ,  0.49668779,\n",
       "        -1.19957069, -0.8656648 ,  0.79315342,  1.16209857],\n",
       "       [ 0.37155483,  0.14517381,  1.06440926, -1.05603843, -0.33256487,\n",
       "         0.62712525, -1.49370084, -2.09980738, -1.66979398],\n",
       "       [ 1.00142573, -1.2958747 , -0.036276  ,  1.01086032,  0.49668779,\n",
       "         0.31193525, -0.95987021,  0.67743499,  0.70899577],\n",
       "       [-1.01867817,  1.65172452, -1.63768284, -0.68331899,  0.84220974,\n",
       "         1.01496127,  0.24909915, -2.09980738, -1.66979398],\n",
       "       [ 1.13944526,  0.78382031,  0.21182928,  0.67202446, -0.88539998,\n",
       "        -1.92603091, -0.28473147, -1.86837052, -1.66979398],\n",
       "       [ 0.86340621,  0.45630928, -1.63768284, -0.53810362, -0.88539998,\n",
       "        -0.07472906,  1.1597514 , -1.75265208, -1.66979398],\n",
       "       [ 0.23980892,  0.35805598,  1.05877051, -1.36583122, -0.29801268,\n",
       "         0.80639688, -1.5784857 , -2.09980738, -1.66979398],\n",
       "       [-0.88065865,  0.60368925,  0.04266659, -1.07055997,  2.22429751,\n",
       "         0.79233636, -0.33183418,  0.61957577,  0.28421188],\n",
       "       [ 0.81321729,  0.43993373, -0.10394108,  0.47840397, -0.88539998,\n",
       "        -1.6213863 ,  0.57881807,  0.67743499, -0.140572  ],\n",
       "       [-0.91830034, -1.2958747 ,  1.10275281, -0.82853436,  0.84220974,\n",
       "         1.60081628, -0.67725399,  0.33027969,  0.42580651],\n",
       "       [ 0.93868959, -1.2958747 , -0.05883103,  0.81723983, -0.88539998,\n",
       "         0.11274454, -0.30043238,  0.09884283,  0.0859794 ],\n",
       "       [-1.11654656, -0.56225   ,  1.01140495, -1.24965892, -1.05816095,\n",
       "         1.90077405, -0.58304859,  0.61957577,  0.17093618]])"
      ]
     },
     "execution_count": 66,
     "metadata": {},
     "output_type": "execute_result"
    }
   ],
   "source": [
    "X_test_scaled = scaler.transform(X_test)\n",
    "X_test_scaled"
   ]
  },
  {
   "cell_type": "code",
   "execution_count": 67,
   "metadata": {
    "colab": {
     "base_uri": "https://localhost:8080/",
     "height": 141
    },
    "id": "yehXZcWQQEFX",
    "outputId": "88d65391-153e-40a2-87b3-c65781825b15"
   },
   "outputs": [
    {
     "data": {
      "text/html": [
       "<div>\n",
       "<style scoped>\n",
       "    .dataframe tbody tr th:only-of-type {\n",
       "        vertical-align: middle;\n",
       "    }\n",
       "\n",
       "    .dataframe tbody tr th {\n",
       "        vertical-align: top;\n",
       "    }\n",
       "\n",
       "    .dataframe thead th {\n",
       "        text-align: right;\n",
       "    }\n",
       "</style>\n",
       "<table border=\"1\" class=\"dataframe\">\n",
       "  <thead>\n",
       "    <tr style=\"text-align: right;\">\n",
       "      <th></th>\n",
       "      <th>0</th>\n",
       "      <th>1</th>\n",
       "      <th>2</th>\n",
       "      <th>3</th>\n",
       "      <th>4</th>\n",
       "      <th>5</th>\n",
       "      <th>6</th>\n",
       "      <th>7</th>\n",
       "      <th>8</th>\n",
       "    </tr>\n",
       "  </thead>\n",
       "  <tbody>\n",
       "    <tr>\n",
       "      <th>mean</th>\n",
       "      <td>-0.000</td>\n",
       "      <td>-0.000</td>\n",
       "      <td>0.000</td>\n",
       "      <td>-0.000</td>\n",
       "      <td>-0.000</td>\n",
       "      <td>0.000</td>\n",
       "      <td>0.000</td>\n",
       "      <td>0.000</td>\n",
       "      <td>0.000</td>\n",
       "    </tr>\n",
       "    <tr>\n",
       "      <th>std</th>\n",
       "      <td>1.000</td>\n",
       "      <td>1.000</td>\n",
       "      <td>1.000</td>\n",
       "      <td>1.000</td>\n",
       "      <td>1.000</td>\n",
       "      <td>1.000</td>\n",
       "      <td>1.000</td>\n",
       "      <td>1.000</td>\n",
       "      <td>1.000</td>\n",
       "    </tr>\n",
       "  </tbody>\n",
       "</table>\n",
       "</div>"
      ],
      "text/plain": [
       "          0      1     2      3      4     5     6     7     8\n",
       "mean -0.000 -0.000 0.000 -0.000 -0.000 0.000 0.000 0.000 0.000\n",
       "std   1.000  1.000 1.000  1.000  1.000 1.000 1.000 1.000 1.000"
      ]
     },
     "execution_count": 67,
     "metadata": {},
     "output_type": "execute_result"
    }
   ],
   "source": [
    "pd.DataFrame(X_train_scaled).agg([\"mean\", \"std\"]).round()"
   ]
  },
  {
   "cell_type": "code",
   "execution_count": 68,
   "metadata": {
    "colab": {
     "base_uri": "https://localhost:8080/",
     "height": 141
    },
    "id": "6bWDwpASQHFY",
    "outputId": "72c52344-3227-4c9e-cbc9-a94c36ba9c63"
   },
   "outputs": [
    {
     "data": {
      "text/html": [
       "<div>\n",
       "<style scoped>\n",
       "    .dataframe tbody tr th:only-of-type {\n",
       "        vertical-align: middle;\n",
       "    }\n",
       "\n",
       "    .dataframe tbody tr th {\n",
       "        vertical-align: top;\n",
       "    }\n",
       "\n",
       "    .dataframe thead th {\n",
       "        text-align: right;\n",
       "    }\n",
       "</style>\n",
       "<table border=\"1\" class=\"dataframe\">\n",
       "  <thead>\n",
       "    <tr style=\"text-align: right;\">\n",
       "      <th></th>\n",
       "      <th>0</th>\n",
       "      <th>1</th>\n",
       "      <th>2</th>\n",
       "      <th>3</th>\n",
       "      <th>4</th>\n",
       "      <th>5</th>\n",
       "      <th>6</th>\n",
       "      <th>7</th>\n",
       "      <th>8</th>\n",
       "    </tr>\n",
       "  </thead>\n",
       "  <tbody>\n",
       "    <tr>\n",
       "      <th>mean</th>\n",
       "      <td>0.000</td>\n",
       "      <td>-0.000</td>\n",
       "      <td>0.000</td>\n",
       "      <td>0.000</td>\n",
       "      <td>-0.000</td>\n",
       "      <td>-0.000</td>\n",
       "      <td>-0.000</td>\n",
       "      <td>-0.000</td>\n",
       "      <td>0.000</td>\n",
       "    </tr>\n",
       "    <tr>\n",
       "      <th>std</th>\n",
       "      <td>1.000</td>\n",
       "      <td>1.000</td>\n",
       "      <td>1.000</td>\n",
       "      <td>1.000</td>\n",
       "      <td>1.000</td>\n",
       "      <td>1.000</td>\n",
       "      <td>1.000</td>\n",
       "      <td>1.000</td>\n",
       "      <td>1.000</td>\n",
       "    </tr>\n",
       "  </tbody>\n",
       "</table>\n",
       "</div>"
      ],
      "text/plain": [
       "         0      1     2     3      4      5      6      7     8\n",
       "mean 0.000 -0.000 0.000 0.000 -0.000 -0.000 -0.000 -0.000 0.000\n",
       "std  1.000  1.000 1.000 1.000  1.000  1.000  1.000  1.000 1.000"
      ]
     },
     "execution_count": 68,
     "metadata": {},
     "output_type": "execute_result"
    }
   ],
   "source": [
    "pd.DataFrame(X_test_scaled).agg([\"mean\", \"std\"]).round()"
   ]
  },
  {
   "cell_type": "markdown",
   "metadata": {
    "id": "pe_hobuSLkKf"
   },
   "source": [
    "##  1. Model Building (Linear Regression)"
   ]
  },
  {
   "cell_type": "code",
   "execution_count": 69,
   "metadata": {
    "id": "adaptive-emerald"
   },
   "outputs": [],
   "source": [
    "from sklearn.linear_model import LinearRegression\n",
    "\n",
    "lm = LinearRegression()"
   ]
  },
  {
   "cell_type": "code",
   "execution_count": 70,
   "metadata": {
    "colab": {
     "base_uri": "https://localhost:8080/"
    },
    "id": "former-register",
    "outputId": "5c8a48ac-8c80-4435-b685-ddb49abd6e35"
   },
   "outputs": [
    {
     "data": {
      "text/plain": [
       "LinearRegression()"
      ]
     },
     "execution_count": 70,
     "metadata": {},
     "output_type": "execute_result"
    }
   ],
   "source": [
    "lm.fit(X_train_scaled, y_train)"
   ]
  },
  {
   "cell_type": "code",
   "execution_count": 71,
   "metadata": {
    "id": "mineral-spoke"
   },
   "outputs": [],
   "source": [
    "y_pred = lm.predict(X_test_scaled)\n",
    "y_train_pred = lm.predict(X_train_scaled)"
   ]
  },
  {
   "cell_type": "code",
   "execution_count": 72,
   "metadata": {},
   "outputs": [
    {
     "data": {
      "text/plain": [
       "array([44.94299605, 41.16873674, 28.56272909, 39.21080389, 35.28236585,\n",
       "       39.4569656 , 37.25196776, 31.22714355, 28.76995244, 34.48046156,\n",
       "       44.52628261, 47.0561972 , 44.7391107 , 32.58856554, 34.15920803,\n",
       "       27.20438484, 28.58699026, 38.66529788, 30.64018029, 42.44209662,\n",
       "       49.25648715, 38.48521035, 21.29152264, 49.17364775, 33.7000398 ,\n",
       "       48.96117972, 31.63820909, 40.5501122 , 36.43202979, 38.77553078,\n",
       "       32.45505238])"
      ]
     },
     "execution_count": 72,
     "metadata": {},
     "output_type": "execute_result"
    }
   ],
   "source": [
    "y_pred"
   ]
  },
  {
   "cell_type": "code",
   "execution_count": 73,
   "metadata": {
    "scrolled": false
   },
   "outputs": [
    {
     "data": {
      "text/plain": [
       "array([30.52777817, 46.68351444, 18.34658935, 39.85543113, 36.00995385,\n",
       "       25.56571509, 28.46184421, 36.92007114, 41.37285362, 33.94559588,\n",
       "       35.30923505, 33.12662117, 33.23810272, 28.4508074 , 33.83339684,\n",
       "       39.53798731, 27.7250412 , 33.19962279, 31.44979332, 34.98731327,\n",
       "       46.56491413, 29.04240825, 36.32393935, 40.41545401, 42.70682213,\n",
       "       36.28311783, 37.66074791, 27.69289425, 38.46171029, 38.57425673,\n",
       "       34.48842703, 37.05655235, 30.34208725, 43.30974278, 44.20560274,\n",
       "       45.59476418, 32.3736416 , 36.52133486, 42.90604156, 39.13375205,\n",
       "       48.48557657, 29.07983506, 30.28676951, 28.01820161, 52.78994903,\n",
       "       37.66179421, 31.04013701, 28.32594377, 51.61476088, 39.87956122,\n",
       "       25.11477299, 26.81318739, 43.32830269, 17.57252471, 43.42888718,\n",
       "       40.45826983, 39.58361431, 42.62413225, 40.70482463, 17.38596773,\n",
       "       35.7053275 , 43.26452104, 26.75467457, 31.50154548, 33.20003987,\n",
       "       29.53404299, 36.17505049, 30.36803815, 35.02970499, 45.55423737,\n",
       "       33.89799327, 50.33233245])"
      ]
     },
     "execution_count": 73,
     "metadata": {},
     "output_type": "execute_result"
    }
   ],
   "source": [
    "y_train_pred"
   ]
  },
  {
   "cell_type": "markdown",
   "metadata": {
    "id": "emzJ9dsTLkKg"
   },
   "source": [
    "### 1.1 Interpret the model"
   ]
  },
  {
   "cell_type": "code",
   "execution_count": 74,
   "metadata": {
    "id": "G81OxjyLMCJd"
   },
   "outputs": [],
   "source": [
    "my_dict = {\"Actual\": y_test, \"Pred\": y_pred, \"Residual\":y_test-y_pred}"
   ]
  },
  {
   "cell_type": "code",
   "execution_count": 75,
   "metadata": {
    "colab": {
     "base_uri": "https://localhost:8080/",
     "height": 1000
    },
    "id": "C1z79jv9Sh7I",
    "outputId": "8c632c1a-508b-43b0-bd8e-37943338ac48"
   },
   "outputs": [],
   "source": [
    "comparing = pd.DataFrame(my_dict)"
   ]
  },
  {
   "cell_type": "code",
   "execution_count": 76,
   "metadata": {
    "colab": {
     "base_uri": "https://localhost:8080/",
     "height": 833
    },
    "id": "HJfBHAm_TyqI",
    "outputId": "85074e15-cb81-416b-c289-51e4f27faf70"
   },
   "outputs": [
    {
     "data": {
      "text/html": [
       "<div>\n",
       "<style scoped>\n",
       "    .dataframe tbody tr th:only-of-type {\n",
       "        vertical-align: middle;\n",
       "    }\n",
       "\n",
       "    .dataframe tbody tr th {\n",
       "        vertical-align: top;\n",
       "    }\n",
       "\n",
       "    .dataframe thead th {\n",
       "        text-align: right;\n",
       "    }\n",
       "</style>\n",
       "<table border=\"1\" class=\"dataframe\">\n",
       "  <thead>\n",
       "    <tr style=\"text-align: right;\">\n",
       "      <th></th>\n",
       "      <th>Actual</th>\n",
       "      <th>Pred</th>\n",
       "      <th>Residual</th>\n",
       "    </tr>\n",
       "  </thead>\n",
       "  <tbody>\n",
       "    <tr>\n",
       "      <th>30</th>\n",
       "      <td>45.820</td>\n",
       "      <td>44.943</td>\n",
       "      <td>0.877</td>\n",
       "    </tr>\n",
       "    <tr>\n",
       "      <th>67</th>\n",
       "      <td>40.340</td>\n",
       "      <td>41.169</td>\n",
       "      <td>-0.829</td>\n",
       "    </tr>\n",
       "    <tr>\n",
       "      <th>62</th>\n",
       "      <td>28.290</td>\n",
       "      <td>28.563</td>\n",
       "      <td>-0.273</td>\n",
       "    </tr>\n",
       "    <tr>\n",
       "      <th>47</th>\n",
       "      <td>43.010</td>\n",
       "      <td>39.211</td>\n",
       "      <td>3.799</td>\n",
       "    </tr>\n",
       "    <tr>\n",
       "      <th>42</th>\n",
       "      <td>33.510</td>\n",
       "      <td>35.282</td>\n",
       "      <td>-1.772</td>\n",
       "    </tr>\n",
       "    <tr>\n",
       "      <th>40</th>\n",
       "      <td>35.660</td>\n",
       "      <td>39.457</td>\n",
       "      <td>-3.797</td>\n",
       "    </tr>\n",
       "    <tr>\n",
       "      <th>90</th>\n",
       "      <td>35.520</td>\n",
       "      <td>37.252</td>\n",
       "      <td>-1.732</td>\n",
       "    </tr>\n",
       "    <tr>\n",
       "      <th>45</th>\n",
       "      <td>31.770</td>\n",
       "      <td>31.227</td>\n",
       "      <td>0.543</td>\n",
       "    </tr>\n",
       "    <tr>\n",
       "      <th>10</th>\n",
       "      <td>26.020</td>\n",
       "      <td>28.770</td>\n",
       "      <td>-2.750</td>\n",
       "    </tr>\n",
       "    <tr>\n",
       "      <th>0</th>\n",
       "      <td>34.990</td>\n",
       "      <td>34.480</td>\n",
       "      <td>0.510</td>\n",
       "    </tr>\n",
       "  </tbody>\n",
       "</table>\n",
       "</div>"
      ],
      "text/plain": [
       "    Actual   Pred  Residual\n",
       "30  45.820 44.943     0.877\n",
       "67  40.340 41.169    -0.829\n",
       "62  28.290 28.563    -0.273\n",
       "47  43.010 39.211     3.799\n",
       "42  33.510 35.282    -1.772\n",
       "40  35.660 39.457    -3.797\n",
       "90  35.520 37.252    -1.732\n",
       "45  31.770 31.227     0.543\n",
       "10  26.020 28.770    -2.750\n",
       "0   34.990 34.480     0.510"
      ]
     },
     "execution_count": 76,
     "metadata": {},
     "output_type": "execute_result"
    }
   ],
   "source": [
    "result_sample = comparing.head(10)\n",
    "result_sample"
   ]
  },
  {
   "cell_type": "code",
   "execution_count": 77,
   "metadata": {
    "colab": {
     "base_uri": "https://localhost:8080/",
     "height": 546
    },
    "id": "FQBfL3BISqUp",
    "outputId": "03a9f279-b117-4560-fc16-6ee756e58f54"
   },
   "outputs": [
    {
     "data": {
      "image/png": "[encoded data removed]",
      "text/plain": [
       "<Figure size 648x432 with 1 Axes>"
      ]
     },
     "metadata": {
      "needs_background": "light"
     },
     "output_type": "display_data"
    }
   ],
   "source": [
    "result_sample.plot(kind =\"bar\", figsize=(9,6))\n",
    "plt.show()"
   ]
  },
  {
   "cell_type": "code",
   "execution_count": null,
   "metadata": {},
   "outputs": [],
   "source": []
  },
  {
   "cell_type": "markdown",
   "metadata": {
    "id": "3fCcbzwNLkKg"
   },
   "source": [
    "### 1.2 Model Evaluation"
   ]
  },
  {
   "cell_type": "code",
   "execution_count": 78,
   "metadata": {
    "id": "69dd6a8c"
   },
   "outputs": [],
   "source": [
    "from sklearn.metrics import mean_absolute_error, mean_squared_error, r2_score\n",
    "\n",
    "def train_val(y_train, y_train_pred, y_test, y_pred, name):\n",
    "    \n",
    "    scores = {name+\"_train\": {\"R2\" : r2_score(y_train, y_train_pred),\n",
    "    \"mae\" : mean_absolute_error(y_train, y_train_pred),\n",
    "    \"mse\" : mean_squared_error(y_train, y_train_pred),                          \n",
    "    \"rmse\" : np.sqrt(mean_squared_error(y_train, y_train_pred))},\n",
    "    \n",
    "    name+\"_test\": {\"R2\" : r2_score(y_test, y_pred),\n",
    "    \"mae\" : mean_absolute_error(y_test, y_pred),\n",
    "    \"mse\" : mean_squared_error(y_test, y_pred),\n",
    "    \"rmse\" : np.sqrt(mean_squared_error(y_test, y_pred))}}\n",
    "    \n",
    "    return pd.DataFrame(scores)"
   ]
  },
  {
   "cell_type": "code",
   "execution_count": 79,
   "metadata": {
    "colab": {
     "base_uri": "https://localhost:8080/",
     "height": 175
    },
    "id": "e946a502",
    "outputId": "5ed2e138-969c-4b0f-f0d8-ba99a5a1f6fc"
   },
   "outputs": [
    {
     "data": {
      "text/html": [
       "<div>\n",
       "<style scoped>\n",
       "    .dataframe tbody tr th:only-of-type {\n",
       "        vertical-align: middle;\n",
       "    }\n",
       "\n",
       "    .dataframe tbody tr th {\n",
       "        vertical-align: top;\n",
       "    }\n",
       "\n",
       "    .dataframe thead th {\n",
       "        text-align: right;\n",
       "    }\n",
       "</style>\n",
       "<table border=\"1\" class=\"dataframe\">\n",
       "  <thead>\n",
       "    <tr style=\"text-align: right;\">\n",
       "      <th></th>\n",
       "      <th>linear_train</th>\n",
       "      <th>linear_test</th>\n",
       "    </tr>\n",
       "  </thead>\n",
       "  <tbody>\n",
       "    <tr>\n",
       "      <th>R2</th>\n",
       "      <td>0.900</td>\n",
       "      <td>0.921</td>\n",
       "    </tr>\n",
       "    <tr>\n",
       "      <th>mae</th>\n",
       "      <td>1.992</td>\n",
       "      <td>1.716</td>\n",
       "    </tr>\n",
       "    <tr>\n",
       "      <th>mse</th>\n",
       "      <td>6.237</td>\n",
       "      <td>4.439</td>\n",
       "    </tr>\n",
       "    <tr>\n",
       "      <th>rmse</th>\n",
       "      <td>2.497</td>\n",
       "      <td>2.107</td>\n",
       "    </tr>\n",
       "  </tbody>\n",
       "</table>\n",
       "</div>"
      ],
      "text/plain": [
       "      linear_train  linear_test\n",
       "R2           0.900        0.921\n",
       "mae          1.992        1.716\n",
       "mse          6.237        4.439\n",
       "rmse         2.497        2.107"
      ]
     },
     "execution_count": 79,
     "metadata": {},
     "output_type": "execute_result"
    }
   ],
   "source": [
    "ls =train_val(y_train, y_train_pred, y_test, y_pred, \"linear\")\n",
    "ls"
   ]
  },
  {
   "cell_type": "markdown",
   "metadata": {
    "id": "linear-operations"
   },
   "source": [
    "## <span style='color:red'> Multicolineratiy</span> "
   ]
  },
  {
   "cell_type": "markdown",
   "metadata": {
    "id": "4537b926"
   },
   "source": [
    "If there is a strong correlation between the independent variables, this situation is called **multicolineraty**.\n",
    " \n",
    "**Multicolineraty** prevents my model from detecting important features."
   ]
  },
  {
   "cell_type": "code",
   "execution_count": 80,
   "metadata": {
    "id": "empty-conflict"
   },
   "outputs": [],
   "source": [
    "def color_red(val):\n",
    "    if val > 0.90 and val < 0.99:\n",
    "        color = 'blue'\n",
    "    else:\n",
    "        color = 'pink'\n",
    "    return f'color: {color}'"
   ]
  },
  {
   "cell_type": "code",
   "execution_count": 81,
   "metadata": {
    "colab": {
     "base_uri": "https://localhost:8080/",
     "height": 363
    },
    "id": "portable-acceptance",
    "outputId": "d7150c41-55b8-4dfc-c4c6-0c5168071590"
   },
   "outputs": [
    {
     "data": {
      "text/html": [
       "<style  type=\"text/css\" >\n",
       "#T_0e01c_row0_col0,#T_0e01c_row0_col1,#T_0e01c_row0_col2,#T_0e01c_row0_col3,#T_0e01c_row0_col4,#T_0e01c_row0_col5,#T_0e01c_row0_col6,#T_0e01c_row0_col7,#T_0e01c_row0_col8,#T_0e01c_row0_col9,#T_0e01c_row1_col0,#T_0e01c_row1_col1,#T_0e01c_row1_col2,#T_0e01c_row1_col3,#T_0e01c_row1_col4,#T_0e01c_row1_col5,#T_0e01c_row1_col6,#T_0e01c_row1_col7,#T_0e01c_row1_col8,#T_0e01c_row1_col9,#T_0e01c_row2_col0,#T_0e01c_row2_col1,#T_0e01c_row2_col2,#T_0e01c_row2_col3,#T_0e01c_row2_col4,#T_0e01c_row2_col5,#T_0e01c_row2_col6,#T_0e01c_row2_col7,#T_0e01c_row2_col8,#T_0e01c_row2_col9,#T_0e01c_row3_col0,#T_0e01c_row3_col1,#T_0e01c_row3_col2,#T_0e01c_row3_col3,#T_0e01c_row3_col4,#T_0e01c_row3_col5,#T_0e01c_row3_col6,#T_0e01c_row3_col7,#T_0e01c_row3_col8,#T_0e01c_row3_col9,#T_0e01c_row4_col0,#T_0e01c_row4_col1,#T_0e01c_row4_col2,#T_0e01c_row4_col3,#T_0e01c_row4_col4,#T_0e01c_row4_col5,#T_0e01c_row4_col6,#T_0e01c_row4_col7,#T_0e01c_row4_col8,#T_0e01c_row4_col9,#T_0e01c_row5_col0,#T_0e01c_row5_col1,#T_0e01c_row5_col2,#T_0e01c_row5_col3,#T_0e01c_row5_col4,#T_0e01c_row5_col5,#T_0e01c_row5_col6,#T_0e01c_row5_col7,#T_0e01c_row5_col8,#T_0e01c_row5_col9,#T_0e01c_row6_col0,#T_0e01c_row6_col1,#T_0e01c_row6_col2,#T_0e01c_row6_col3,#T_0e01c_row6_col4,#T_0e01c_row6_col5,#T_0e01c_row6_col6,#T_0e01c_row6_col7,#T_0e01c_row6_col8,#T_0e01c_row6_col9,#T_0e01c_row7_col0,#T_0e01c_row7_col1,#T_0e01c_row7_col2,#T_0e01c_row7_col3,#T_0e01c_row7_col4,#T_0e01c_row7_col5,#T_0e01c_row7_col6,#T_0e01c_row7_col7,#T_0e01c_row7_col9,#T_0e01c_row8_col0,#T_0e01c_row8_col1,#T_0e01c_row8_col2,#T_0e01c_row8_col3,#T_0e01c_row8_col4,#T_0e01c_row8_col5,#T_0e01c_row8_col6,#T_0e01c_row8_col8,#T_0e01c_row8_col9,#T_0e01c_row9_col0,#T_0e01c_row9_col1,#T_0e01c_row9_col2,#T_0e01c_row9_col3,#T_0e01c_row9_col4,#T_0e01c_row9_col5,#T_0e01c_row9_col6,#T_0e01c_row9_col7,#T_0e01c_row9_col8,#T_0e01c_row9_col9{\n",
       "            color:  pink;\n",
       "        }#T_0e01c_row7_col8,#T_0e01c_row8_col7{\n",
       "            color:  blue;\n",
       "        }</style><table id=\"T_0e01c_\" ><thead>    <tr>        <th class=\"blank level0\" ></th>        <th class=\"col_heading level0 col0\" >Cement</th>        <th class=\"col_heading level0 col1\" >Slag</th>        <th class=\"col_heading level0 col2\" >Fly ash</th>        <th class=\"col_heading level0 col3\" >Water</th>        <th class=\"col_heading level0 col4\" >SP</th>        <th class=\"col_heading level0 col5\" >Coarse Aggr.</th>        <th class=\"col_heading level0 col6\" >Fine Aggr.</th>        <th class=\"col_heading level0 col7\" >SLUMP(cm)</th>        <th class=\"col_heading level0 col8\" >FLOW(cm)</th>        <th class=\"col_heading level0 col9\" >Compressive Strength (28-day)(Mpa)</th>    </tr></thead><tbody>\n",
       "                <tr>\n",
       "                        <th id=\"T_0e01c_level0_row0\" class=\"row_heading level0 row0\" >Cement</th>\n",
       "                        <td id=\"T_0e01c_row0_col0\" class=\"data row0 col0\" >1.000000</td>\n",
       "                        <td id=\"T_0e01c_row0_col1\" class=\"data row0 col1\" >-0.243553</td>\n",
       "                        <td id=\"T_0e01c_row0_col2\" class=\"data row0 col2\" >-0.486535</td>\n",
       "                        <td id=\"T_0e01c_row0_col3\" class=\"data row0 col3\" >0.221091</td>\n",
       "                        <td id=\"T_0e01c_row0_col4\" class=\"data row0 col4\" >-0.106387</td>\n",
       "                        <td id=\"T_0e01c_row0_col5\" class=\"data row0 col5\" >-0.309857</td>\n",
       "                        <td id=\"T_0e01c_row0_col6\" class=\"data row0 col6\" >0.056959</td>\n",
       "                        <td id=\"T_0e01c_row0_col7\" class=\"data row0 col7\" >0.145913</td>\n",
       "                        <td id=\"T_0e01c_row0_col8\" class=\"data row0 col8\" >0.186461</td>\n",
       "                        <td id=\"T_0e01c_row0_col9\" class=\"data row0 col9\" >0.445656</td>\n",
       "            </tr>\n",
       "            <tr>\n",
       "                        <th id=\"T_0e01c_level0_row1\" class=\"row_heading level0 row1\" >Slag</th>\n",
       "                        <td id=\"T_0e01c_row1_col0\" class=\"data row1 col0\" >-0.243553</td>\n",
       "                        <td id=\"T_0e01c_row1_col1\" class=\"data row1 col1\" >1.000000</td>\n",
       "                        <td id=\"T_0e01c_row1_col2\" class=\"data row1 col2\" >-0.322619</td>\n",
       "                        <td id=\"T_0e01c_row1_col3\" class=\"data row1 col3\" >-0.026775</td>\n",
       "                        <td id=\"T_0e01c_row1_col4\" class=\"data row1 col4\" >0.306504</td>\n",
       "                        <td id=\"T_0e01c_row1_col5\" class=\"data row1 col5\" >-0.223792</td>\n",
       "                        <td id=\"T_0e01c_row1_col6\" class=\"data row1 col6\" >-0.183522</td>\n",
       "                        <td id=\"T_0e01c_row1_col7\" class=\"data row1 col7\" >-0.284037</td>\n",
       "                        <td id=\"T_0e01c_row1_col8\" class=\"data row1 col8\" >-0.327231</td>\n",
       "                        <td id=\"T_0e01c_row1_col9\" class=\"data row1 col9\" >-0.331522</td>\n",
       "            </tr>\n",
       "            <tr>\n",
       "                        <th id=\"T_0e01c_level0_row2\" class=\"row_heading level0 row2\" >Fly ash</th>\n",
       "                        <td id=\"T_0e01c_row2_col0\" class=\"data row2 col0\" >-0.486535</td>\n",
       "                        <td id=\"T_0e01c_row2_col1\" class=\"data row2 col1\" >-0.322619</td>\n",
       "                        <td id=\"T_0e01c_row2_col2\" class=\"data row2 col2\" >1.000000</td>\n",
       "                        <td id=\"T_0e01c_row2_col3\" class=\"data row2 col3\" >-0.241321</td>\n",
       "                        <td id=\"T_0e01c_row2_col4\" class=\"data row2 col4\" >-0.143508</td>\n",
       "                        <td id=\"T_0e01c_row2_col5\" class=\"data row2 col5\" >0.172620</td>\n",
       "                        <td id=\"T_0e01c_row2_col6\" class=\"data row2 col6\" >-0.282854</td>\n",
       "                        <td id=\"T_0e01c_row2_col7\" class=\"data row2 col7\" >-0.118621</td>\n",
       "                        <td id=\"T_0e01c_row2_col8\" class=\"data row2 col8\" >-0.055423</td>\n",
       "                        <td id=\"T_0e01c_row2_col9\" class=\"data row2 col9\" >0.444380</td>\n",
       "            </tr>\n",
       "            <tr>\n",
       "                        <th id=\"T_0e01c_level0_row3\" class=\"row_heading level0 row3\" >Water</th>\n",
       "                        <td id=\"T_0e01c_row3_col0\" class=\"data row3 col0\" >0.221091</td>\n",
       "                        <td id=\"T_0e01c_row3_col1\" class=\"data row3 col1\" >-0.026775</td>\n",
       "                        <td id=\"T_0e01c_row3_col2\" class=\"data row3 col2\" >-0.241321</td>\n",
       "                        <td id=\"T_0e01c_row3_col3\" class=\"data row3 col3\" >1.000000</td>\n",
       "                        <td id=\"T_0e01c_row3_col4\" class=\"data row3 col4\" >-0.155456</td>\n",
       "                        <td id=\"T_0e01c_row3_col5\" class=\"data row3 col5\" >-0.602201</td>\n",
       "                        <td id=\"T_0e01c_row3_col6\" class=\"data row3 col6\" >0.114591</td>\n",
       "                        <td id=\"T_0e01c_row3_col7\" class=\"data row3 col7\" >0.466568</td>\n",
       "                        <td id=\"T_0e01c_row3_col8\" class=\"data row3 col8\" >0.632026</td>\n",
       "                        <td id=\"T_0e01c_row3_col9\" class=\"data row3 col9\" >-0.254320</td>\n",
       "            </tr>\n",
       "            <tr>\n",
       "                        <th id=\"T_0e01c_level0_row4\" class=\"row_heading level0 row4\" >SP</th>\n",
       "                        <td id=\"T_0e01c_row4_col0\" class=\"data row4 col0\" >-0.106387</td>\n",
       "                        <td id=\"T_0e01c_row4_col1\" class=\"data row4 col1\" >0.306504</td>\n",
       "                        <td id=\"T_0e01c_row4_col2\" class=\"data row4 col2\" >-0.143508</td>\n",
       "                        <td id=\"T_0e01c_row4_col3\" class=\"data row4 col3\" >-0.155456</td>\n",
       "                        <td id=\"T_0e01c_row4_col4\" class=\"data row4 col4\" >1.000000</td>\n",
       "                        <td id=\"T_0e01c_row4_col5\" class=\"data row4 col5\" >-0.104159</td>\n",
       "                        <td id=\"T_0e01c_row4_col6\" class=\"data row4 col6\" >0.058290</td>\n",
       "                        <td id=\"T_0e01c_row4_col7\" class=\"data row4 col7\" >-0.212902</td>\n",
       "                        <td id=\"T_0e01c_row4_col8\" class=\"data row4 col8\" >-0.176314</td>\n",
       "                        <td id=\"T_0e01c_row4_col9\" class=\"data row4 col9\" >-0.037909</td>\n",
       "            </tr>\n",
       "            <tr>\n",
       "                        <th id=\"T_0e01c_level0_row5\" class=\"row_heading level0 row5\" >Coarse Aggr.</th>\n",
       "                        <td id=\"T_0e01c_row5_col0\" class=\"data row5 col0\" >-0.309857</td>\n",
       "                        <td id=\"T_0e01c_row5_col1\" class=\"data row5 col1\" >-0.223792</td>\n",
       "                        <td id=\"T_0e01c_row5_col2\" class=\"data row5 col2\" >0.172620</td>\n",
       "                        <td id=\"T_0e01c_row5_col3\" class=\"data row5 col3\" >-0.602201</td>\n",
       "                        <td id=\"T_0e01c_row5_col4\" class=\"data row5 col4\" >-0.104159</td>\n",
       "                        <td id=\"T_0e01c_row5_col5\" class=\"data row5 col5\" >1.000000</td>\n",
       "                        <td id=\"T_0e01c_row5_col6\" class=\"data row5 col6\" >-0.488537</td>\n",
       "                        <td id=\"T_0e01c_row5_col7\" class=\"data row5 col7\" >-0.188157</td>\n",
       "                        <td id=\"T_0e01c_row5_col8\" class=\"data row5 col8\" >-0.325787</td>\n",
       "                        <td id=\"T_0e01c_row5_col9\" class=\"data row5 col9\" >-0.160610</td>\n",
       "            </tr>\n",
       "            <tr>\n",
       "                        <th id=\"T_0e01c_level0_row6\" class=\"row_heading level0 row6\" >Fine Aggr.</th>\n",
       "                        <td id=\"T_0e01c_row6_col0\" class=\"data row6 col0\" >0.056959</td>\n",
       "                        <td id=\"T_0e01c_row6_col1\" class=\"data row6 col1\" >-0.183522</td>\n",
       "                        <td id=\"T_0e01c_row6_col2\" class=\"data row6 col2\" >-0.282854</td>\n",
       "                        <td id=\"T_0e01c_row6_col3\" class=\"data row6 col3\" >0.114591</td>\n",
       "                        <td id=\"T_0e01c_row6_col4\" class=\"data row6 col4\" >0.058290</td>\n",
       "                        <td id=\"T_0e01c_row6_col5\" class=\"data row6 col5\" >-0.488537</td>\n",
       "                        <td id=\"T_0e01c_row6_col6\" class=\"data row6 col6\" >1.000000</td>\n",
       "                        <td id=\"T_0e01c_row6_col7\" class=\"data row6 col7\" >0.202272</td>\n",
       "                        <td id=\"T_0e01c_row6_col8\" class=\"data row6 col8\" >0.190370</td>\n",
       "                        <td id=\"T_0e01c_row6_col9\" class=\"data row6 col9\" >-0.154532</td>\n",
       "            </tr>\n",
       "            <tr>\n",
       "                        <th id=\"T_0e01c_level0_row7\" class=\"row_heading level0 row7\" >SLUMP(cm)</th>\n",
       "                        <td id=\"T_0e01c_row7_col0\" class=\"data row7 col0\" >0.145913</td>\n",
       "                        <td id=\"T_0e01c_row7_col1\" class=\"data row7 col1\" >-0.284037</td>\n",
       "                        <td id=\"T_0e01c_row7_col2\" class=\"data row7 col2\" >-0.118621</td>\n",
       "                        <td id=\"T_0e01c_row7_col3\" class=\"data row7 col3\" >0.466568</td>\n",
       "                        <td id=\"T_0e01c_row7_col4\" class=\"data row7 col4\" >-0.212902</td>\n",
       "                        <td id=\"T_0e01c_row7_col5\" class=\"data row7 col5\" >-0.188157</td>\n",
       "                        <td id=\"T_0e01c_row7_col6\" class=\"data row7 col6\" >0.202272</td>\n",
       "                        <td id=\"T_0e01c_row7_col7\" class=\"data row7 col7\" >1.000000</td>\n",
       "                        <td id=\"T_0e01c_row7_col8\" class=\"data row7 col8\" >0.906135</td>\n",
       "                        <td id=\"T_0e01c_row7_col9\" class=\"data row7 col9\" >-0.223499</td>\n",
       "            </tr>\n",
       "            <tr>\n",
       "                        <th id=\"T_0e01c_level0_row8\" class=\"row_heading level0 row8\" >FLOW(cm)</th>\n",
       "                        <td id=\"T_0e01c_row8_col0\" class=\"data row8 col0\" >0.186461</td>\n",
       "                        <td id=\"T_0e01c_row8_col1\" class=\"data row8 col1\" >-0.327231</td>\n",
       "                        <td id=\"T_0e01c_row8_col2\" class=\"data row8 col2\" >-0.055423</td>\n",
       "                        <td id=\"T_0e01c_row8_col3\" class=\"data row8 col3\" >0.632026</td>\n",
       "                        <td id=\"T_0e01c_row8_col4\" class=\"data row8 col4\" >-0.176314</td>\n",
       "                        <td id=\"T_0e01c_row8_col5\" class=\"data row8 col5\" >-0.325787</td>\n",
       "                        <td id=\"T_0e01c_row8_col6\" class=\"data row8 col6\" >0.190370</td>\n",
       "                        <td id=\"T_0e01c_row8_col7\" class=\"data row8 col7\" >0.906135</td>\n",
       "                        <td id=\"T_0e01c_row8_col8\" class=\"data row8 col8\" >1.000000</td>\n",
       "                        <td id=\"T_0e01c_row8_col9\" class=\"data row8 col9\" >-0.124189</td>\n",
       "            </tr>\n",
       "            <tr>\n",
       "                        <th id=\"T_0e01c_level0_row9\" class=\"row_heading level0 row9\" >Compressive Strength (28-day)(Mpa)</th>\n",
       "                        <td id=\"T_0e01c_row9_col0\" class=\"data row9 col0\" >0.445656</td>\n",
       "                        <td id=\"T_0e01c_row9_col1\" class=\"data row9 col1\" >-0.331522</td>\n",
       "                        <td id=\"T_0e01c_row9_col2\" class=\"data row9 col2\" >0.444380</td>\n",
       "                        <td id=\"T_0e01c_row9_col3\" class=\"data row9 col3\" >-0.254320</td>\n",
       "                        <td id=\"T_0e01c_row9_col4\" class=\"data row9 col4\" >-0.037909</td>\n",
       "                        <td id=\"T_0e01c_row9_col5\" class=\"data row9 col5\" >-0.160610</td>\n",
       "                        <td id=\"T_0e01c_row9_col6\" class=\"data row9 col6\" >-0.154532</td>\n",
       "                        <td id=\"T_0e01c_row9_col7\" class=\"data row9 col7\" >-0.223499</td>\n",
       "                        <td id=\"T_0e01c_row9_col8\" class=\"data row9 col8\" >-0.124189</td>\n",
       "                        <td id=\"T_0e01c_row9_col9\" class=\"data row9 col9\" >1.000000</td>\n",
       "            </tr>\n",
       "    </tbody></table>"
      ],
      "text/plain": [
       "<pandas.io.formats.style.Styler at 0x240b85f0ca0>"
      ]
     },
     "execution_count": 81,
     "metadata": {},
     "output_type": "execute_result"
    }
   ],
   "source": [
    "pd.DataFrame(df).corr().style.applymap(color_red)"
   ]
  },
  {
   "cell_type": "markdown",
   "metadata": {
    "id": "meaningful-israel"
   },
   "source": [
    "## <span style='color:red'> Cross Validation</span> "
   ]
  },
  {
   "cell_type": "markdown",
   "metadata": {
    "id": "a57f6b6a"
   },
   "source": [
    "We do cross-validation to check whether the one-time scores we receive are consistent or not\n",
    "\n",
    "cross validation is only applied to the train set."
   ]
  },
  {
   "cell_type": "code",
   "execution_count": 82,
   "metadata": {
    "id": "unusual-flexibility"
   },
   "outputs": [],
   "source": [
    "from sklearn.model_selection import cross_validate"
   ]
  },
  {
   "cell_type": "code",
   "execution_count": 83,
   "metadata": {
    "id": "visible-roller"
   },
   "outputs": [],
   "source": [
    "model = LinearRegression()\n",
    "scores = cross_validate(model,\n",
    "                        X_train_scaled,\n",
    "                        y_train, scoring = ['r2', 'neg_mean_absolute_error','neg_mean_squared_error', \\\n",
    "                                                            'neg_root_mean_squared_error'], cv = 5)"
   ]
  },
  {
   "cell_type": "code",
   "execution_count": 84,
   "metadata": {
    "colab": {
     "base_uri": "https://localhost:8080/",
     "height": 175
    },
    "id": "21ef03a4",
    "outputId": "57d1d228-204f-42c1-d1c4-cfc7b4739c0c"
   },
   "outputs": [
    {
     "data": {
      "text/plain": [
       "test_r2                             0.858\n",
       "test_neg_mean_absolute_error       -2.186\n",
       "test_neg_mean_squared_error        -7.764\n",
       "test_neg_root_mean_squared_error   -2.738\n",
       "dtype: float64"
      ]
     },
     "execution_count": 84,
     "metadata": {},
     "output_type": "execute_result"
    }
   ],
   "source": [
    "scores = pd.DataFrame(scores, index=range(1,6))\n",
    "scores.iloc[:, 2:].mean()"
   ]
  },
  {
   "cell_type": "code",
   "execution_count": 85,
   "metadata": {},
   "outputs": [
    {
     "data": {
      "text/html": [
       "<div>\n",
       "<style scoped>\n",
       "    .dataframe tbody tr th:only-of-type {\n",
       "        vertical-align: middle;\n",
       "    }\n",
       "\n",
       "    .dataframe tbody tr th {\n",
       "        vertical-align: top;\n",
       "    }\n",
       "\n",
       "    .dataframe thead th {\n",
       "        text-align: right;\n",
       "    }\n",
       "</style>\n",
       "<table border=\"1\" class=\"dataframe\">\n",
       "  <thead>\n",
       "    <tr style=\"text-align: right;\">\n",
       "      <th></th>\n",
       "      <th>linear_train</th>\n",
       "      <th>linear_test</th>\n",
       "    </tr>\n",
       "  </thead>\n",
       "  <tbody>\n",
       "    <tr>\n",
       "      <th>R2</th>\n",
       "      <td>0.900</td>\n",
       "      <td>0.921</td>\n",
       "    </tr>\n",
       "    <tr>\n",
       "      <th>mae</th>\n",
       "      <td>1.992</td>\n",
       "      <td>1.716</td>\n",
       "    </tr>\n",
       "    <tr>\n",
       "      <th>mse</th>\n",
       "      <td>6.237</td>\n",
       "      <td>4.439</td>\n",
       "    </tr>\n",
       "    <tr>\n",
       "      <th>rmse</th>\n",
       "      <td>2.497</td>\n",
       "      <td>2.107</td>\n",
       "    </tr>\n",
       "  </tbody>\n",
       "</table>\n",
       "</div>"
      ],
      "text/plain": [
       "      linear_train  linear_test\n",
       "R2           0.900        0.921\n",
       "mae          1.992        1.716\n",
       "mse          6.237        4.439\n",
       "rmse         2.497        2.107"
      ]
     },
     "execution_count": 85,
     "metadata": {},
     "output_type": "execute_result"
    }
   ],
   "source": [
    "train_val(y_train, y_train_pred, y_test, y_pred, \"linear\")"
   ]
  },
  {
   "cell_type": "markdown",
   "metadata": {
    "id": "IkKMCPoXLkKj"
   },
   "source": [
    "# 2. Regularization"
   ]
  },
  {
   "cell_type": "markdown",
   "metadata": {
    "id": "EnODVEgbLkKj"
   },
   "source": [
    "## 2.1 Ridge (Apply and evaluate)"
   ]
  },
  {
   "cell_type": "code",
   "execution_count": 86,
   "metadata": {
    "id": "involved-dylan"
   },
   "outputs": [],
   "source": [
    "from sklearn.linear_model import Ridge"
   ]
  },
  {
   "cell_type": "code",
   "execution_count": 87,
   "metadata": {
    "id": "romance-interpretation"
   },
   "outputs": [],
   "source": [
    "ridge_model = Ridge(alpha=1, random_state=42)"
   ]
  },
  {
   "cell_type": "code",
   "execution_count": 88,
   "metadata": {
    "colab": {
     "base_uri": "https://localhost:8080/"
    },
    "id": "genuine-george",
    "outputId": "42f53857-5ca1-4e78-905d-9354d639f7f4"
   },
   "outputs": [
    {
     "data": {
      "text/plain": [
       "Ridge(alpha=1, random_state=42)"
      ]
     },
     "execution_count": 88,
     "metadata": {},
     "output_type": "execute_result"
    }
   ],
   "source": [
    "ridge_model.fit(X_train_scaled, y_train)"
   ]
  },
  {
   "cell_type": "code",
   "execution_count": 89,
   "metadata": {
    "id": "executed-bottle"
   },
   "outputs": [],
   "source": [
    "y_pred = ridge_model.predict(X_test_scaled)\n",
    "y_train_pred = ridge_model.predict(X_train_scaled)"
   ]
  },
  {
   "cell_type": "code",
   "execution_count": 90,
   "metadata": {
    "colab": {
     "base_uri": "https://localhost:8080/",
     "height": 175
    },
    "id": "29a473f1",
    "outputId": "e02bf11f-d93b-46b9-ad65-aae657f3896b"
   },
   "outputs": [
    {
     "data": {
      "text/html": [
       "<div>\n",
       "<style scoped>\n",
       "    .dataframe tbody tr th:only-of-type {\n",
       "        vertical-align: middle;\n",
       "    }\n",
       "\n",
       "    .dataframe tbody tr th {\n",
       "        vertical-align: top;\n",
       "    }\n",
       "\n",
       "    .dataframe thead th {\n",
       "        text-align: right;\n",
       "    }\n",
       "</style>\n",
       "<table border=\"1\" class=\"dataframe\">\n",
       "  <thead>\n",
       "    <tr style=\"text-align: right;\">\n",
       "      <th></th>\n",
       "      <th>ridge_train</th>\n",
       "      <th>ridge_test</th>\n",
       "    </tr>\n",
       "  </thead>\n",
       "  <tbody>\n",
       "    <tr>\n",
       "      <th>R2</th>\n",
       "      <td>0.899</td>\n",
       "      <td>0.922</td>\n",
       "    </tr>\n",
       "    <tr>\n",
       "      <th>mae</th>\n",
       "      <td>2.003</td>\n",
       "      <td>1.699</td>\n",
       "    </tr>\n",
       "    <tr>\n",
       "      <th>mse</th>\n",
       "      <td>6.313</td>\n",
       "      <td>4.398</td>\n",
       "    </tr>\n",
       "    <tr>\n",
       "      <th>rmse</th>\n",
       "      <td>2.513</td>\n",
       "      <td>2.097</td>\n",
       "    </tr>\n",
       "  </tbody>\n",
       "</table>\n",
       "</div>"
      ],
      "text/plain": [
       "      ridge_train  ridge_test\n",
       "R2          0.899       0.922\n",
       "mae         2.003       1.699\n",
       "mse         6.313       4.398\n",
       "rmse        2.513       2.097"
      ]
     },
     "execution_count": 90,
     "metadata": {},
     "output_type": "execute_result"
    }
   ],
   "source": [
    "rs = train_val(y_train, y_train_pred, y_test, y_pred, \"ridge\")\n",
    "rs"
   ]
  },
  {
   "cell_type": "code",
   "execution_count": 91,
   "metadata": {
    "colab": {
     "base_uri": "https://localhost:8080/",
     "height": 175
    },
    "id": "earned-shoulder",
    "outputId": "259f417d-a3f2-4ae6-ed86-21149a29b159"
   },
   "outputs": [
    {
     "data": {
      "text/html": [
       "<div>\n",
       "<style scoped>\n",
       "    .dataframe tbody tr th:only-of-type {\n",
       "        vertical-align: middle;\n",
       "    }\n",
       "\n",
       "    .dataframe tbody tr th {\n",
       "        vertical-align: top;\n",
       "    }\n",
       "\n",
       "    .dataframe thead th {\n",
       "        text-align: right;\n",
       "    }\n",
       "</style>\n",
       "<table border=\"1\" class=\"dataframe\">\n",
       "  <thead>\n",
       "    <tr style=\"text-align: right;\">\n",
       "      <th></th>\n",
       "      <th>R2</th>\n",
       "      <th>mae</th>\n",
       "      <th>mse</th>\n",
       "      <th>rmse</th>\n",
       "    </tr>\n",
       "  </thead>\n",
       "  <tbody>\n",
       "    <tr>\n",
       "      <th>linear_train</th>\n",
       "      <td>0.900</td>\n",
       "      <td>1.992</td>\n",
       "      <td>6.237</td>\n",
       "      <td>2.497</td>\n",
       "    </tr>\n",
       "    <tr>\n",
       "      <th>linear_test</th>\n",
       "      <td>0.921</td>\n",
       "      <td>1.716</td>\n",
       "      <td>4.439</td>\n",
       "      <td>2.107</td>\n",
       "    </tr>\n",
       "    <tr>\n",
       "      <th>ridge_train</th>\n",
       "      <td>0.899</td>\n",
       "      <td>2.003</td>\n",
       "      <td>6.313</td>\n",
       "      <td>2.513</td>\n",
       "    </tr>\n",
       "    <tr>\n",
       "      <th>ridge_test</th>\n",
       "      <td>0.922</td>\n",
       "      <td>1.699</td>\n",
       "      <td>4.398</td>\n",
       "      <td>2.097</td>\n",
       "    </tr>\n",
       "  </tbody>\n",
       "</table>\n",
       "</div>"
      ],
      "text/plain": [
       "                R2   mae   mse  rmse\n",
       "linear_train 0.900 1.992 6.237 2.497\n",
       "linear_test  0.921 1.716 4.439 2.107\n",
       "ridge_train  0.899 2.003 6.313 2.513\n",
       "ridge_test   0.922 1.699 4.398 2.097"
      ]
     },
     "execution_count": 91,
     "metadata": {},
     "output_type": "execute_result"
    }
   ],
   "source": [
    "pd.concat([ls, rs], axis=1).T"
   ]
  },
  {
   "cell_type": "markdown",
   "metadata": {
    "id": "premier-center"
   },
   "source": [
    "## Choosing best alpha value with Cross-Validation"
   ]
  },
  {
   "cell_type": "code",
   "execution_count": 92,
   "metadata": {
    "id": "satisfied-maple"
   },
   "outputs": [],
   "source": [
    "from sklearn.linear_model import RidgeCV"
   ]
  },
  {
   "cell_type": "code",
   "execution_count": 93,
   "metadata": {
    "colab": {
     "base_uri": "https://localhost:8080/"
    },
    "id": "sharing-martial",
    "outputId": "fe83a3f5-d16e-4bd6-805e-6e929fb459af"
   },
   "outputs": [
    {
     "data": {
      "text/plain": [
       "array([0.01, 0.02, 0.03, 0.04, 0.05, 0.06, 0.07, 0.08, 0.09, 0.1 , 0.11,\n",
       "       0.12, 0.13, 0.14, 0.15, 0.16, 0.17, 0.18, 0.19, 0.2 , 0.21, 0.22,\n",
       "       0.23, 0.24, 0.25, 0.26, 0.27, 0.28, 0.29, 0.3 , 0.31, 0.32, 0.33,\n",
       "       0.34, 0.35, 0.36, 0.37, 0.38, 0.39, 0.4 , 0.41, 0.42, 0.43, 0.44,\n",
       "       0.45, 0.46, 0.47, 0.48, 0.49, 0.5 , 0.51, 0.52, 0.53, 0.54, 0.55,\n",
       "       0.56, 0.57, 0.58, 0.59, 0.6 , 0.61, 0.62, 0.63, 0.64, 0.65, 0.66,\n",
       "       0.67, 0.68, 0.69, 0.7 , 0.71, 0.72, 0.73, 0.74, 0.75, 0.76, 0.77,\n",
       "       0.78, 0.79, 0.8 , 0.81, 0.82, 0.83, 0.84, 0.85, 0.86, 0.87, 0.88,\n",
       "       0.89, 0.9 , 0.91, 0.92, 0.93, 0.94, 0.95, 0.96, 0.97, 0.98, 0.99,\n",
       "       1.  ])"
      ]
     },
     "execution_count": 93,
     "metadata": {},
     "output_type": "execute_result"
    }
   ],
   "source": [
    "alpha_space = np.linspace(0.01, 1, 100)\n",
    "alpha_space"
   ]
  },
  {
   "cell_type": "code",
   "execution_count": 94,
   "metadata": {
    "id": "miniature-wildlife"
   },
   "outputs": [],
   "source": [
    "ridge_cv_model = RidgeCV(alphas=alpha_space, cv = 5, scoring= \"neg_root_mean_squared_error\")"
   ]
  },
  {
   "cell_type": "code",
   "execution_count": 95,
   "metadata": {
    "colab": {
     "base_uri": "https://localhost:8080/"
    },
    "id": "steady-import",
    "outputId": "4349ab2a-e014-411d-8788-a43028e8db91"
   },
   "outputs": [
    {
     "data": {
      "text/plain": [
       "RidgeCV(alphas=array([0.01, 0.02, 0.03, 0.04, 0.05, 0.06, 0.07, 0.08, 0.09, 0.1 , 0.11,\n",
       "       0.12, 0.13, 0.14, 0.15, 0.16, 0.17, 0.18, 0.19, 0.2 , 0.21, 0.22,\n",
       "       0.23, 0.24, 0.25, 0.26, 0.27, 0.28, 0.29, 0.3 , 0.31, 0.32, 0.33,\n",
       "       0.34, 0.35, 0.36, 0.37, 0.38, 0.39, 0.4 , 0.41, 0.42, 0.43, 0.44,\n",
       "       0.45, 0.46, 0.47, 0.48, 0.49, 0.5 , 0.51, 0.52, 0.53, 0.54, 0.55,\n",
       "       0.56, 0.57, 0.58, 0.59, 0.6 , 0.61, 0.62, 0.63, 0.64, 0.65, 0.66,\n",
       "       0.67, 0.68, 0.69, 0.7 , 0.71, 0.72, 0.73, 0.74, 0.75, 0.76, 0.77,\n",
       "       0.78, 0.79, 0.8 , 0.81, 0.82, 0.83, 0.84, 0.85, 0.86, 0.87, 0.88,\n",
       "       0.89, 0.9 , 0.91, 0.92, 0.93, 0.94, 0.95, 0.96, 0.97, 0.98, 0.99,\n",
       "       1.  ]),\n",
       "        cv=5, scoring='neg_root_mean_squared_error')"
      ]
     },
     "execution_count": 95,
     "metadata": {},
     "output_type": "execute_result"
    }
   ],
   "source": [
    "ridge_cv_model.fit(X_train_scaled, y_train)"
   ]
  },
  {
   "cell_type": "code",
   "execution_count": 96,
   "metadata": {
    "colab": {
     "base_uri": "https://localhost:8080/"
    },
    "id": "italic-backup",
    "outputId": "a4c3df07-a0dd-4c13-de7d-65e6338610ac"
   },
   "outputs": [
    {
     "data": {
      "text/plain": [
       "0.42000000000000004"
      ]
     },
     "execution_count": 96,
     "metadata": {},
     "output_type": "execute_result"
    }
   ],
   "source": [
    "ridge_cv_model.alpha_ "
   ]
  },
  {
   "cell_type": "code",
   "execution_count": 97,
   "metadata": {
    "colab": {
     "base_uri": "https://localhost:8080/"
    },
    "id": "e4ff8617",
    "outputId": "2345369b-28fc-40a4-9568-ba490186277d"
   },
   "outputs": [
    {
     "data": {
      "text/plain": [
       "-2.7103368987598886"
      ]
     },
     "execution_count": 97,
     "metadata": {},
     "output_type": "execute_result"
    }
   ],
   "source": [
    "ridge_cv_model.best_score_"
   ]
  },
  {
   "cell_type": "code",
   "execution_count": 98,
   "metadata": {
    "id": "acknowledged-addition"
   },
   "outputs": [],
   "source": [
    "y_pred = ridge_cv_model.predict(X_test_scaled)\n",
    "y_train_pred = ridge_cv_model.predict(X_train_scaled)"
   ]
  },
  {
   "cell_type": "code",
   "execution_count": 99,
   "metadata": {
    "colab": {
     "base_uri": "https://localhost:8080/",
     "height": 175
    },
    "id": "c44c6386",
    "outputId": "f85fd185-53be-4f8b-86f1-189e4a71d476"
   },
   "outputs": [
    {
     "data": {
      "text/html": [
       "<div>\n",
       "<style scoped>\n",
       "    .dataframe tbody tr th:only-of-type {\n",
       "        vertical-align: middle;\n",
       "    }\n",
       "\n",
       "    .dataframe tbody tr th {\n",
       "        vertical-align: top;\n",
       "    }\n",
       "\n",
       "    .dataframe thead th {\n",
       "        text-align: right;\n",
       "    }\n",
       "</style>\n",
       "<table border=\"1\" class=\"dataframe\">\n",
       "  <thead>\n",
       "    <tr style=\"text-align: right;\">\n",
       "      <th></th>\n",
       "      <th>ridge_cv_train</th>\n",
       "      <th>ridge_cv_test</th>\n",
       "    </tr>\n",
       "  </thead>\n",
       "  <tbody>\n",
       "    <tr>\n",
       "      <th>R2</th>\n",
       "      <td>0.900</td>\n",
       "      <td>0.923</td>\n",
       "    </tr>\n",
       "    <tr>\n",
       "      <th>mae</th>\n",
       "      <td>1.999</td>\n",
       "      <td>1.694</td>\n",
       "    </tr>\n",
       "    <tr>\n",
       "      <th>mse</th>\n",
       "      <td>6.267</td>\n",
       "      <td>4.357</td>\n",
       "    </tr>\n",
       "    <tr>\n",
       "      <th>rmse</th>\n",
       "      <td>2.503</td>\n",
       "      <td>2.087</td>\n",
       "    </tr>\n",
       "  </tbody>\n",
       "</table>\n",
       "</div>"
      ],
      "text/plain": [
       "      ridge_cv_train  ridge_cv_test\n",
       "R2             0.900          0.923\n",
       "mae            1.999          1.694\n",
       "mse            6.267          4.357\n",
       "rmse           2.503          2.087"
      ]
     },
     "execution_count": 99,
     "metadata": {},
     "output_type": "execute_result"
    }
   ],
   "source": [
    "rcs = train_val(y_train, y_train_pred, y_test, y_pred, \"ridge_cv\")\n",
    "rcs"
   ]
  },
  {
   "cell_type": "code",
   "execution_count": 100,
   "metadata": {
    "colab": {
     "base_uri": "https://localhost:8080/",
     "height": 175
    },
    "id": "controlled-improvement",
    "outputId": "a5542348-b261-43e7-ecbc-58668da46336"
   },
   "outputs": [
    {
     "data": {
      "text/html": [
       "<div>\n",
       "<style scoped>\n",
       "    .dataframe tbody tr th:only-of-type {\n",
       "        vertical-align: middle;\n",
       "    }\n",
       "\n",
       "    .dataframe tbody tr th {\n",
       "        vertical-align: top;\n",
       "    }\n",
       "\n",
       "    .dataframe thead th {\n",
       "        text-align: right;\n",
       "    }\n",
       "</style>\n",
       "<table border=\"1\" class=\"dataframe\">\n",
       "  <thead>\n",
       "    <tr style=\"text-align: right;\">\n",
       "      <th></th>\n",
       "      <th>R2</th>\n",
       "      <th>mae</th>\n",
       "      <th>mse</th>\n",
       "      <th>rmse</th>\n",
       "    </tr>\n",
       "  </thead>\n",
       "  <tbody>\n",
       "    <tr>\n",
       "      <th>linear_train</th>\n",
       "      <td>0.900</td>\n",
       "      <td>1.992</td>\n",
       "      <td>6.237</td>\n",
       "      <td>2.497</td>\n",
       "    </tr>\n",
       "    <tr>\n",
       "      <th>linear_test</th>\n",
       "      <td>0.921</td>\n",
       "      <td>1.716</td>\n",
       "      <td>4.439</td>\n",
       "      <td>2.107</td>\n",
       "    </tr>\n",
       "    <tr>\n",
       "      <th>ridge_train</th>\n",
       "      <td>0.899</td>\n",
       "      <td>2.003</td>\n",
       "      <td>6.313</td>\n",
       "      <td>2.513</td>\n",
       "    </tr>\n",
       "    <tr>\n",
       "      <th>ridge_test</th>\n",
       "      <td>0.922</td>\n",
       "      <td>1.699</td>\n",
       "      <td>4.398</td>\n",
       "      <td>2.097</td>\n",
       "    </tr>\n",
       "    <tr>\n",
       "      <th>ridge_cv_train</th>\n",
       "      <td>0.900</td>\n",
       "      <td>1.999</td>\n",
       "      <td>6.267</td>\n",
       "      <td>2.503</td>\n",
       "    </tr>\n",
       "    <tr>\n",
       "      <th>ridge_cv_test</th>\n",
       "      <td>0.923</td>\n",
       "      <td>1.694</td>\n",
       "      <td>4.357</td>\n",
       "      <td>2.087</td>\n",
       "    </tr>\n",
       "  </tbody>\n",
       "</table>\n",
       "</div>"
      ],
      "text/plain": [
       "                  R2   mae   mse  rmse\n",
       "linear_train   0.900 1.992 6.237 2.497\n",
       "linear_test    0.921 1.716 4.439 2.107\n",
       "ridge_train    0.899 2.003 6.313 2.513\n",
       "ridge_test     0.922 1.699 4.398 2.097\n",
       "ridge_cv_train 0.900 1.999 6.267 2.503\n",
       "ridge_cv_test  0.923 1.694 4.357 2.087"
      ]
     },
     "execution_count": 100,
     "metadata": {},
     "output_type": "execute_result"
    }
   ],
   "source": [
    "pd.concat([ls, rs, rcs], axis = 1).T"
   ]
  },
  {
   "cell_type": "markdown",
   "metadata": {
    "id": "V6YuerUULkKl"
   },
   "source": [
    "## 2.2 Lasso (Apply and evalute)"
   ]
  },
  {
   "cell_type": "code",
   "execution_count": 101,
   "metadata": {
    "id": "chicken-station"
   },
   "outputs": [],
   "source": [
    "from sklearn.linear_model import Lasso, LassoCV"
   ]
  },
  {
   "cell_type": "code",
   "execution_count": 102,
   "metadata": {
    "colab": {
     "base_uri": "https://localhost:8080/"
    },
    "id": "palestinian-render",
    "outputId": "0cd18f23-72a9-4a99-c96a-36807d611bb3"
   },
   "outputs": [
    {
     "data": {
      "text/plain": [
       "Lasso(alpha=1, random_state=42)"
      ]
     },
     "execution_count": 102,
     "metadata": {},
     "output_type": "execute_result"
    }
   ],
   "source": [
    "lasso_model = Lasso(alpha=1, random_state=42)\n",
    "lasso_model.fit(X_train_scaled, y_train)"
   ]
  },
  {
   "cell_type": "code",
   "execution_count": 103,
   "metadata": {
    "id": "ed8c466b"
   },
   "outputs": [],
   "source": [
    "y_pred = lasso_model.predict(X_test_scaled)\n",
    "y_train_pred = lasso_model.predict(X_train_scaled)"
   ]
  },
  {
   "cell_type": "code",
   "execution_count": 104,
   "metadata": {
    "colab": {
     "base_uri": "https://localhost:8080/",
     "height": 175
    },
    "id": "0e5d3326",
    "outputId": "1d470e6f-7564-4703-828d-d564ac0ac315"
   },
   "outputs": [
    {
     "data": {
      "text/html": [
       "<div>\n",
       "<style scoped>\n",
       "    .dataframe tbody tr th:only-of-type {\n",
       "        vertical-align: middle;\n",
       "    }\n",
       "\n",
       "    .dataframe tbody tr th {\n",
       "        vertical-align: top;\n",
       "    }\n",
       "\n",
       "    .dataframe thead th {\n",
       "        text-align: right;\n",
       "    }\n",
       "</style>\n",
       "<table border=\"1\" class=\"dataframe\">\n",
       "  <thead>\n",
       "    <tr style=\"text-align: right;\">\n",
       "      <th></th>\n",
       "      <th>lasso_train</th>\n",
       "      <th>lasso_test</th>\n",
       "    </tr>\n",
       "  </thead>\n",
       "  <tbody>\n",
       "    <tr>\n",
       "      <th>R2</th>\n",
       "      <td>0.768</td>\n",
       "      <td>0.816</td>\n",
       "    </tr>\n",
       "    <tr>\n",
       "      <th>mae</th>\n",
       "      <td>3.016</td>\n",
       "      <td>2.588</td>\n",
       "    </tr>\n",
       "    <tr>\n",
       "      <th>mse</th>\n",
       "      <td>14.521</td>\n",
       "      <td>10.343</td>\n",
       "    </tr>\n",
       "    <tr>\n",
       "      <th>rmse</th>\n",
       "      <td>3.811</td>\n",
       "      <td>3.216</td>\n",
       "    </tr>\n",
       "  </tbody>\n",
       "</table>\n",
       "</div>"
      ],
      "text/plain": [
       "      lasso_train  lasso_test\n",
       "R2          0.768       0.816\n",
       "mae         3.016       2.588\n",
       "mse        14.521      10.343\n",
       "rmse        3.811       3.216"
      ]
     },
     "execution_count": 104,
     "metadata": {},
     "output_type": "execute_result"
    }
   ],
   "source": [
    "lss = train_val(y_train, y_train_pred, y_test, y_pred, \"lasso\")\n",
    "lss"
   ]
  },
  {
   "cell_type": "code",
   "execution_count": 105,
   "metadata": {
    "colab": {
     "base_uri": "https://localhost:8080/",
     "height": 175
    },
    "id": "careful-assignment",
    "outputId": "8e5163d5-ac25-4352-d70c-0ae9707f7148"
   },
   "outputs": [
    {
     "data": {
      "text/html": [
       "<div>\n",
       "<style scoped>\n",
       "    .dataframe tbody tr th:only-of-type {\n",
       "        vertical-align: middle;\n",
       "    }\n",
       "\n",
       "    .dataframe tbody tr th {\n",
       "        vertical-align: top;\n",
       "    }\n",
       "\n",
       "    .dataframe thead th {\n",
       "        text-align: right;\n",
       "    }\n",
       "</style>\n",
       "<table border=\"1\" class=\"dataframe\">\n",
       "  <thead>\n",
       "    <tr style=\"text-align: right;\">\n",
       "      <th></th>\n",
       "      <th>linear_train</th>\n",
       "      <th>linear_test</th>\n",
       "      <th>ridge_train</th>\n",
       "      <th>ridge_test</th>\n",
       "      <th>ridge_cv_train</th>\n",
       "      <th>ridge_cv_test</th>\n",
       "      <th>lasso_train</th>\n",
       "      <th>lasso_test</th>\n",
       "    </tr>\n",
       "  </thead>\n",
       "  <tbody>\n",
       "    <tr>\n",
       "      <th>R2</th>\n",
       "      <td>0.900</td>\n",
       "      <td>0.921</td>\n",
       "      <td>0.899</td>\n",
       "      <td>0.922</td>\n",
       "      <td>0.900</td>\n",
       "      <td>0.923</td>\n",
       "      <td>0.768</td>\n",
       "      <td>0.816</td>\n",
       "    </tr>\n",
       "    <tr>\n",
       "      <th>mae</th>\n",
       "      <td>1.992</td>\n",
       "      <td>1.716</td>\n",
       "      <td>2.003</td>\n",
       "      <td>1.699</td>\n",
       "      <td>1.999</td>\n",
       "      <td>1.694</td>\n",
       "      <td>3.016</td>\n",
       "      <td>2.588</td>\n",
       "    </tr>\n",
       "    <tr>\n",
       "      <th>mse</th>\n",
       "      <td>6.237</td>\n",
       "      <td>4.439</td>\n",
       "      <td>6.313</td>\n",
       "      <td>4.398</td>\n",
       "      <td>6.267</td>\n",
       "      <td>4.357</td>\n",
       "      <td>14.521</td>\n",
       "      <td>10.343</td>\n",
       "    </tr>\n",
       "    <tr>\n",
       "      <th>rmse</th>\n",
       "      <td>2.497</td>\n",
       "      <td>2.107</td>\n",
       "      <td>2.513</td>\n",
       "      <td>2.097</td>\n",
       "      <td>2.503</td>\n",
       "      <td>2.087</td>\n",
       "      <td>3.811</td>\n",
       "      <td>3.216</td>\n",
       "    </tr>\n",
       "  </tbody>\n",
       "</table>\n",
       "</div>"
      ],
      "text/plain": [
       "      linear_train  linear_test  ridge_train  ridge_test  ridge_cv_train  \\\n",
       "R2           0.900        0.921        0.899       0.922           0.900   \n",
       "mae          1.992        1.716        2.003       1.699           1.999   \n",
       "mse          6.237        4.439        6.313       4.398           6.267   \n",
       "rmse         2.497        2.107        2.513       2.097           2.503   \n",
       "\n",
       "      ridge_cv_test  lasso_train  lasso_test  \n",
       "R2            0.923        0.768       0.816  \n",
       "mae           1.694        3.016       2.588  \n",
       "mse           4.357       14.521      10.343  \n",
       "rmse          2.087        3.811       3.216  "
      ]
     },
     "execution_count": 105,
     "metadata": {},
     "output_type": "execute_result"
    }
   ],
   "source": [
    "pd.concat([ls, rs, rcs, lss], axis = 1)"
   ]
  },
  {
   "cell_type": "markdown",
   "metadata": {
    "id": "sporting-moral"
   },
   "source": [
    "### Choosing best alpha value with Cross-Validation"
   ]
  },
  {
   "cell_type": "code",
   "execution_count": 106,
   "metadata": {
    "id": "chemical-egypt"
   },
   "outputs": [],
   "source": [
    "lasso_cv_model = LassoCV(alphas = alpha_space, cv = 5, max_iter=100000, random_state=42) "
   ]
  },
  {
   "cell_type": "code",
   "execution_count": 107,
   "metadata": {
    "colab": {
     "base_uri": "https://localhost:8080/"
    },
    "id": "seeing-visit",
    "outputId": "85655985-bdd2-40fc-9af8-98a47808e620"
   },
   "outputs": [
    {
     "data": {
      "text/plain": [
       "LassoCV(alphas=array([0.01, 0.02, 0.03, 0.04, 0.05, 0.06, 0.07, 0.08, 0.09, 0.1 , 0.11,\n",
       "       0.12, 0.13, 0.14, 0.15, 0.16, 0.17, 0.18, 0.19, 0.2 , 0.21, 0.22,\n",
       "       0.23, 0.24, 0.25, 0.26, 0.27, 0.28, 0.29, 0.3 , 0.31, 0.32, 0.33,\n",
       "       0.34, 0.35, 0.36, 0.37, 0.38, 0.39, 0.4 , 0.41, 0.42, 0.43, 0.44,\n",
       "       0.45, 0.46, 0.47, 0.48, 0.49, 0.5 , 0.51, 0.52, 0.53, 0.54, 0.55,\n",
       "       0.56, 0.57, 0.58, 0.59, 0.6 , 0.61, 0.62, 0.63, 0.64, 0.65, 0.66,\n",
       "       0.67, 0.68, 0.69, 0.7 , 0.71, 0.72, 0.73, 0.74, 0.75, 0.76, 0.77,\n",
       "       0.78, 0.79, 0.8 , 0.81, 0.82, 0.83, 0.84, 0.85, 0.86, 0.87, 0.88,\n",
       "       0.89, 0.9 , 0.91, 0.92, 0.93, 0.94, 0.95, 0.96, 0.97, 0.98, 0.99,\n",
       "       1.  ]),\n",
       "        cv=5, max_iter=100000, random_state=42)"
      ]
     },
     "execution_count": 107,
     "metadata": {},
     "output_type": "execute_result"
    }
   ],
   "source": [
    "lasso_cv_model.fit(X_train_scaled, y_train)"
   ]
  },
  {
   "cell_type": "code",
   "execution_count": 108,
   "metadata": {
    "colab": {
     "base_uri": "https://localhost:8080/"
    },
    "id": "gentle-arlington",
    "outputId": "74031ff9-5ddc-4366-fded-7d9a6ecbf160"
   },
   "outputs": [
    {
     "data": {
      "text/plain": [
       "0.01"
      ]
     },
     "execution_count": 108,
     "metadata": {},
     "output_type": "execute_result"
    }
   ],
   "source": [
    "lasso_cv_model.alpha_"
   ]
  },
  {
   "cell_type": "code",
   "execution_count": 109,
   "metadata": {
    "colab": {
     "base_uri": "https://localhost:8080/"
    },
    "id": "38d213d1",
    "outputId": "c679d43d-dcf2-4e89-fe34-d6ecef7132b4"
   },
   "outputs": [
    {
     "data": {
      "text/plain": [
       "(array([99], dtype=int64),)"
      ]
     },
     "execution_count": 109,
     "metadata": {},
     "output_type": "execute_result"
    }
   ],
   "source": [
    "np.where(alpha_space[::-1]==lasso_cv_model.alpha_)"
   ]
  },
  {
   "cell_type": "code",
   "execution_count": 110,
   "metadata": {
    "colab": {
     "base_uri": "https://localhost:8080/"
    },
    "id": "3a309dac",
    "outputId": "5b552123-9db3-4d15-d789-a56cc46bb693"
   },
   "outputs": [
    {
     "data": {
      "text/plain": [
       "array([1.  , 0.99, 0.98, 0.97, 0.96, 0.95, 0.94, 0.93, 0.92, 0.91, 0.9 ,\n",
       "       0.89, 0.88, 0.87, 0.86, 0.85, 0.84, 0.83, 0.82, 0.81, 0.8 , 0.79,\n",
       "       0.78, 0.77, 0.76, 0.75, 0.74, 0.73, 0.72, 0.71, 0.7 , 0.69, 0.68,\n",
       "       0.67, 0.66, 0.65, 0.64, 0.63, 0.62, 0.61, 0.6 , 0.59, 0.58, 0.57,\n",
       "       0.56, 0.55, 0.54, 0.53, 0.52, 0.51, 0.5 , 0.49, 0.48, 0.47, 0.46,\n",
       "       0.45, 0.44, 0.43, 0.42, 0.41, 0.4 , 0.39, 0.38, 0.37, 0.36, 0.35,\n",
       "       0.34, 0.33, 0.32, 0.31, 0.3 , 0.29, 0.28, 0.27, 0.26, 0.25, 0.24,\n",
       "       0.23, 0.22, 0.21, 0.2 , 0.19, 0.18, 0.17, 0.16, 0.15, 0.14, 0.13,\n",
       "       0.12, 0.11, 0.1 , 0.09, 0.08, 0.07, 0.06, 0.05, 0.04, 0.03, 0.02,\n",
       "       0.01])"
      ]
     },
     "execution_count": 110,
     "metadata": {},
     "output_type": "execute_result"
    }
   ],
   "source": [
    "alpha_space[::-1]"
   ]
  },
  {
   "cell_type": "code",
   "execution_count": 111,
   "metadata": {
    "colab": {
     "base_uri": "https://localhost:8080/"
    },
    "id": "53756944",
    "outputId": "e1c574d6-fa0d-4145-d217-206eae8cdecf"
   },
   "outputs": [
    {
     "data": {
      "text/plain": [
       "7.686622513266667"
      ]
     },
     "execution_count": 111,
     "metadata": {},
     "output_type": "execute_result"
    }
   ],
   "source": [
    "lasso_cv_model.mse_path_[99].mean()"
   ]
  },
  {
   "cell_type": "code",
   "execution_count": 112,
   "metadata": {
    "id": "f611f2e0"
   },
   "outputs": [],
   "source": [
    "y_pred = lasso_cv_model.predict(X_test_scaled)  \n",
    "y_train_pred = lasso_cv_model.predict(X_train_scaled)"
   ]
  },
  {
   "cell_type": "code",
   "execution_count": 113,
   "metadata": {
    "colab": {
     "base_uri": "https://localhost:8080/",
     "height": 175
    },
    "id": "321f17f8",
    "outputId": "32373948-3760-4df3-e144-a3c99c4b4f40"
   },
   "outputs": [
    {
     "data": {
      "text/html": [
       "<div>\n",
       "<style scoped>\n",
       "    .dataframe tbody tr th:only-of-type {\n",
       "        vertical-align: middle;\n",
       "    }\n",
       "\n",
       "    .dataframe tbody tr th {\n",
       "        vertical-align: top;\n",
       "    }\n",
       "\n",
       "    .dataframe thead th {\n",
       "        text-align: right;\n",
       "    }\n",
       "</style>\n",
       "<table border=\"1\" class=\"dataframe\">\n",
       "  <thead>\n",
       "    <tr style=\"text-align: right;\">\n",
       "      <th></th>\n",
       "      <th>lasso_cv_train</th>\n",
       "      <th>lasso_cv_test</th>\n",
       "    </tr>\n",
       "  </thead>\n",
       "  <tbody>\n",
       "    <tr>\n",
       "      <th>R2</th>\n",
       "      <td>0.900</td>\n",
       "      <td>0.923</td>\n",
       "    </tr>\n",
       "    <tr>\n",
       "      <th>mae</th>\n",
       "      <td>1.998</td>\n",
       "      <td>1.687</td>\n",
       "    </tr>\n",
       "    <tr>\n",
       "      <th>mse</th>\n",
       "      <td>6.259</td>\n",
       "      <td>4.346</td>\n",
       "    </tr>\n",
       "    <tr>\n",
       "      <th>rmse</th>\n",
       "      <td>2.502</td>\n",
       "      <td>2.085</td>\n",
       "    </tr>\n",
       "  </tbody>\n",
       "</table>\n",
       "</div>"
      ],
      "text/plain": [
       "      lasso_cv_train  lasso_cv_test\n",
       "R2             0.900          0.923\n",
       "mae            1.998          1.687\n",
       "mse            6.259          4.346\n",
       "rmse           2.502          2.085"
      ]
     },
     "execution_count": 113,
     "metadata": {},
     "output_type": "execute_result"
    }
   ],
   "source": [
    "lcs = train_val(y_train, y_train_pred, y_test, y_pred, \"lasso_cv\")\n",
    "lcs"
   ]
  },
  {
   "cell_type": "code",
   "execution_count": 114,
   "metadata": {
    "colab": {
     "base_uri": "https://localhost:8080/",
     "height": 175
    },
    "id": "coral-bones",
    "outputId": "805ac3d4-6aea-4fbd-b363-887510e2af64"
   },
   "outputs": [
    {
     "data": {
      "text/html": [
       "<div>\n",
       "<style scoped>\n",
       "    .dataframe tbody tr th:only-of-type {\n",
       "        vertical-align: middle;\n",
       "    }\n",
       "\n",
       "    .dataframe tbody tr th {\n",
       "        vertical-align: top;\n",
       "    }\n",
       "\n",
       "    .dataframe thead th {\n",
       "        text-align: right;\n",
       "    }\n",
       "</style>\n",
       "<table border=\"1\" class=\"dataframe\">\n",
       "  <thead>\n",
       "    <tr style=\"text-align: right;\">\n",
       "      <th></th>\n",
       "      <th>linear_train</th>\n",
       "      <th>linear_test</th>\n",
       "      <th>ridge_train</th>\n",
       "      <th>ridge_test</th>\n",
       "      <th>ridge_cv_train</th>\n",
       "      <th>ridge_cv_test</th>\n",
       "      <th>lasso_train</th>\n",
       "      <th>lasso_test</th>\n",
       "      <th>lasso_cv_train</th>\n",
       "      <th>lasso_cv_test</th>\n",
       "    </tr>\n",
       "  </thead>\n",
       "  <tbody>\n",
       "    <tr>\n",
       "      <th>R2</th>\n",
       "      <td>0.900</td>\n",
       "      <td>0.921</td>\n",
       "      <td>0.899</td>\n",
       "      <td>0.922</td>\n",
       "      <td>0.900</td>\n",
       "      <td>0.923</td>\n",
       "      <td>0.768</td>\n",
       "      <td>0.816</td>\n",
       "      <td>0.900</td>\n",
       "      <td>0.923</td>\n",
       "    </tr>\n",
       "    <tr>\n",
       "      <th>mae</th>\n",
       "      <td>1.992</td>\n",
       "      <td>1.716</td>\n",
       "      <td>2.003</td>\n",
       "      <td>1.699</td>\n",
       "      <td>1.999</td>\n",
       "      <td>1.694</td>\n",
       "      <td>3.016</td>\n",
       "      <td>2.588</td>\n",
       "      <td>1.998</td>\n",
       "      <td>1.687</td>\n",
       "    </tr>\n",
       "    <tr>\n",
       "      <th>mse</th>\n",
       "      <td>6.237</td>\n",
       "      <td>4.439</td>\n",
       "      <td>6.313</td>\n",
       "      <td>4.398</td>\n",
       "      <td>6.267</td>\n",
       "      <td>4.357</td>\n",
       "      <td>14.521</td>\n",
       "      <td>10.343</td>\n",
       "      <td>6.259</td>\n",
       "      <td>4.346</td>\n",
       "    </tr>\n",
       "    <tr>\n",
       "      <th>rmse</th>\n",
       "      <td>2.497</td>\n",
       "      <td>2.107</td>\n",
       "      <td>2.513</td>\n",
       "      <td>2.097</td>\n",
       "      <td>2.503</td>\n",
       "      <td>2.087</td>\n",
       "      <td>3.811</td>\n",
       "      <td>3.216</td>\n",
       "      <td>2.502</td>\n",
       "      <td>2.085</td>\n",
       "    </tr>\n",
       "  </tbody>\n",
       "</table>\n",
       "</div>"
      ],
      "text/plain": [
       "      linear_train  linear_test  ridge_train  ridge_test  ridge_cv_train  \\\n",
       "R2           0.900        0.921        0.899       0.922           0.900   \n",
       "mae          1.992        1.716        2.003       1.699           1.999   \n",
       "mse          6.237        4.439        6.313       4.398           6.267   \n",
       "rmse         2.497        2.107        2.513       2.097           2.503   \n",
       "\n",
       "      ridge_cv_test  lasso_train  lasso_test  lasso_cv_train  lasso_cv_test  \n",
       "R2            0.923        0.768       0.816           0.900          0.923  \n",
       "mae           1.694        3.016       2.588           1.998          1.687  \n",
       "mse           4.357       14.521      10.343           6.259          4.346  \n",
       "rmse          2.087        3.811       3.216           2.502          2.085  "
      ]
     },
     "execution_count": 114,
     "metadata": {},
     "output_type": "execute_result"
    }
   ],
   "source": [
    "pd.concat([ls,rs, rcs, lss, lcs], axis = 1)"
   ]
  },
  {
   "cell_type": "markdown",
   "metadata": {
    "id": "B_4SjDxcLkKn"
   },
   "source": [
    "## 2.3 Elastic-Net (Apply and evaluate )\n",
    "* Use Gridsearch for hyperparameter tuning instead of ElacticnetCV"
   ]
  },
  {
   "cell_type": "code",
   "execution_count": 115,
   "metadata": {
    "id": "impossible-trailer"
   },
   "outputs": [],
   "source": [
    "from sklearn.linear_model import ElasticNet, ElasticNetCV"
   ]
  },
  {
   "cell_type": "code",
   "execution_count": 116,
   "metadata": {
    "colab": {
     "base_uri": "https://localhost:8080/"
    },
    "id": "accessible-performer",
    "outputId": "b3a03f32-2e80-492f-f2c0-809c82c764a6"
   },
   "outputs": [
    {
     "data": {
      "text/plain": [
       "ElasticNet(alpha=1, random_state=42)"
      ]
     },
     "execution_count": 116,
     "metadata": {},
     "output_type": "execute_result"
    }
   ],
   "source": [
    "elastic_model = ElasticNet(alpha=1, l1_ratio=0.5, random_state=42) # l1_ratio: 1: Lasso or 0:Ridge\n",
    "elastic_model.fit(X_train_scaled, y_train)"
   ]
  },
  {
   "cell_type": "code",
   "execution_count": 117,
   "metadata": {
    "id": "8e16ca02"
   },
   "outputs": [],
   "source": [
    "y_pred = elastic_model.predict(X_test_scaled)\n",
    "y_train_pred = elastic_model.predict(X_train_scaled)"
   ]
  },
  {
   "cell_type": "code",
   "execution_count": 118,
   "metadata": {
    "colab": {
     "base_uri": "https://localhost:8080/",
     "height": 175
    },
    "id": "d09dac01",
    "outputId": "146b93e9-8004-4329-91b8-1886a2ec445e"
   },
   "outputs": [
    {
     "data": {
      "text/html": [
       "<div>\n",
       "<style scoped>\n",
       "    .dataframe tbody tr th:only-of-type {\n",
       "        vertical-align: middle;\n",
       "    }\n",
       "\n",
       "    .dataframe tbody tr th {\n",
       "        vertical-align: top;\n",
       "    }\n",
       "\n",
       "    .dataframe thead th {\n",
       "        text-align: right;\n",
       "    }\n",
       "</style>\n",
       "<table border=\"1\" class=\"dataframe\">\n",
       "  <thead>\n",
       "    <tr style=\"text-align: right;\">\n",
       "      <th></th>\n",
       "      <th>elastic_train</th>\n",
       "      <th>elastic_test</th>\n",
       "    </tr>\n",
       "  </thead>\n",
       "  <tbody>\n",
       "    <tr>\n",
       "      <th>R2</th>\n",
       "      <td>0.625</td>\n",
       "      <td>0.625</td>\n",
       "    </tr>\n",
       "    <tr>\n",
       "      <th>mae</th>\n",
       "      <td>3.870</td>\n",
       "      <td>3.724</td>\n",
       "    </tr>\n",
       "    <tr>\n",
       "      <th>mse</th>\n",
       "      <td>23.448</td>\n",
       "      <td>21.153</td>\n",
       "    </tr>\n",
       "    <tr>\n",
       "      <th>rmse</th>\n",
       "      <td>4.842</td>\n",
       "      <td>4.599</td>\n",
       "    </tr>\n",
       "  </tbody>\n",
       "</table>\n",
       "</div>"
      ],
      "text/plain": [
       "      elastic_train  elastic_test\n",
       "R2            0.625         0.625\n",
       "mae           3.870         3.724\n",
       "mse          23.448        21.153\n",
       "rmse          4.842         4.599"
      ]
     },
     "execution_count": 118,
     "metadata": {},
     "output_type": "execute_result"
    }
   ],
   "source": [
    "es = train_val(y_train, y_train_pred, y_test, y_pred, \"elastic\")\n",
    "es"
   ]
  },
  {
   "cell_type": "code",
   "execution_count": 119,
   "metadata": {
    "colab": {
     "base_uri": "https://localhost:8080/",
     "height": 175
    },
    "id": "considerable-exhibit",
    "outputId": "3d4656ea-eb1e-4b42-8f79-4a396ac30450"
   },
   "outputs": [
    {
     "data": {
      "text/html": [
       "<div>\n",
       "<style scoped>\n",
       "    .dataframe tbody tr th:only-of-type {\n",
       "        vertical-align: middle;\n",
       "    }\n",
       "\n",
       "    .dataframe tbody tr th {\n",
       "        vertical-align: top;\n",
       "    }\n",
       "\n",
       "    .dataframe thead th {\n",
       "        text-align: right;\n",
       "    }\n",
       "</style>\n",
       "<table border=\"1\" class=\"dataframe\">\n",
       "  <thead>\n",
       "    <tr style=\"text-align: right;\">\n",
       "      <th></th>\n",
       "      <th>R2</th>\n",
       "      <th>mae</th>\n",
       "      <th>mse</th>\n",
       "      <th>rmse</th>\n",
       "    </tr>\n",
       "  </thead>\n",
       "  <tbody>\n",
       "    <tr>\n",
       "      <th>linear_train</th>\n",
       "      <td>0.900</td>\n",
       "      <td>1.992</td>\n",
       "      <td>6.237</td>\n",
       "      <td>2.497</td>\n",
       "    </tr>\n",
       "    <tr>\n",
       "      <th>linear_test</th>\n",
       "      <td>0.921</td>\n",
       "      <td>1.716</td>\n",
       "      <td>4.439</td>\n",
       "      <td>2.107</td>\n",
       "    </tr>\n",
       "    <tr>\n",
       "      <th>ridge_train</th>\n",
       "      <td>0.899</td>\n",
       "      <td>2.003</td>\n",
       "      <td>6.313</td>\n",
       "      <td>2.513</td>\n",
       "    </tr>\n",
       "    <tr>\n",
       "      <th>ridge_test</th>\n",
       "      <td>0.922</td>\n",
       "      <td>1.699</td>\n",
       "      <td>4.398</td>\n",
       "      <td>2.097</td>\n",
       "    </tr>\n",
       "    <tr>\n",
       "      <th>ridge_cv_train</th>\n",
       "      <td>0.900</td>\n",
       "      <td>1.999</td>\n",
       "      <td>6.267</td>\n",
       "      <td>2.503</td>\n",
       "    </tr>\n",
       "    <tr>\n",
       "      <th>ridge_cv_test</th>\n",
       "      <td>0.923</td>\n",
       "      <td>1.694</td>\n",
       "      <td>4.357</td>\n",
       "      <td>2.087</td>\n",
       "    </tr>\n",
       "    <tr>\n",
       "      <th>lasso_train</th>\n",
       "      <td>0.768</td>\n",
       "      <td>3.016</td>\n",
       "      <td>14.521</td>\n",
       "      <td>3.811</td>\n",
       "    </tr>\n",
       "    <tr>\n",
       "      <th>lasso_test</th>\n",
       "      <td>0.816</td>\n",
       "      <td>2.588</td>\n",
       "      <td>10.343</td>\n",
       "      <td>3.216</td>\n",
       "    </tr>\n",
       "    <tr>\n",
       "      <th>lasso_cv_train</th>\n",
       "      <td>0.900</td>\n",
       "      <td>1.998</td>\n",
       "      <td>6.259</td>\n",
       "      <td>2.502</td>\n",
       "    </tr>\n",
       "    <tr>\n",
       "      <th>lasso_cv_test</th>\n",
       "      <td>0.923</td>\n",
       "      <td>1.687</td>\n",
       "      <td>4.346</td>\n",
       "      <td>2.085</td>\n",
       "    </tr>\n",
       "    <tr>\n",
       "      <th>elastic_train</th>\n",
       "      <td>0.625</td>\n",
       "      <td>3.870</td>\n",
       "      <td>23.448</td>\n",
       "      <td>4.842</td>\n",
       "    </tr>\n",
       "    <tr>\n",
       "      <th>elastic_test</th>\n",
       "      <td>0.625</td>\n",
       "      <td>3.724</td>\n",
       "      <td>21.153</td>\n",
       "      <td>4.599</td>\n",
       "    </tr>\n",
       "  </tbody>\n",
       "</table>\n",
       "</div>"
      ],
      "text/plain": [
       "                  R2   mae    mse  rmse\n",
       "linear_train   0.900 1.992  6.237 2.497\n",
       "linear_test    0.921 1.716  4.439 2.107\n",
       "ridge_train    0.899 2.003  6.313 2.513\n",
       "ridge_test     0.922 1.699  4.398 2.097\n",
       "ridge_cv_train 0.900 1.999  6.267 2.503\n",
       "ridge_cv_test  0.923 1.694  4.357 2.087\n",
       "lasso_train    0.768 3.016 14.521 3.811\n",
       "lasso_test     0.816 2.588 10.343 3.216\n",
       "lasso_cv_train 0.900 1.998  6.259 2.502\n",
       "lasso_cv_test  0.923 1.687  4.346 2.085\n",
       "elastic_train  0.625 3.870 23.448 4.842\n",
       "elastic_test   0.625 3.724 21.153 4.599"
      ]
     },
     "execution_count": 119,
     "metadata": {},
     "output_type": "execute_result"
    }
   ],
   "source": [
    "pd.concat([ls,rs, rcs, lss, lcs, es], axis = 1).T"
   ]
  },
  {
   "cell_type": "markdown",
   "metadata": {
    "id": "f6314036"
   },
   "source": [
    "### Choosing best alpha and l1_ratio values with Cross-Validation"
   ]
  },
  {
   "cell_type": "code",
   "execution_count": 120,
   "metadata": {
    "id": "lasting-excellence"
   },
   "outputs": [],
   "source": [
    "elastic_cv_model = ElasticNetCV(alphas = alpha_space, l1_ratio=[0.1, 0.5, 0.7,0.9, 0.95, 1], cv = 5, \n",
    "                                max_iter = 100000,random_state=42)"
   ]
  },
  {
   "cell_type": "code",
   "execution_count": 121,
   "metadata": {
    "colab": {
     "base_uri": "https://localhost:8080/"
    },
    "id": "comparative-biodiversity",
    "outputId": "f240b6b4-c866-4042-cfde-d451f372c404"
   },
   "outputs": [
    {
     "data": {
      "text/plain": [
       "ElasticNetCV(alphas=array([0.01, 0.02, 0.03, 0.04, 0.05, 0.06, 0.07, 0.08, 0.09, 0.1 , 0.11,\n",
       "       0.12, 0.13, 0.14, 0.15, 0.16, 0.17, 0.18, 0.19, 0.2 , 0.21, 0.22,\n",
       "       0.23, 0.24, 0.25, 0.26, 0.27, 0.28, 0.29, 0.3 , 0.31, 0.32, 0.33,\n",
       "       0.34, 0.35, 0.36, 0.37, 0.38, 0.39, 0.4 , 0.41, 0.42, 0.43, 0.44,\n",
       "       0.45, 0.46, 0.47, 0.48, 0.49, 0.5 , 0.51, 0.52, 0.53, 0.54, 0.55,\n",
       "       0.56, 0.57, 0.58, 0.59, 0.6 , 0.61, 0.62, 0.63, 0.64, 0.65, 0.66,\n",
       "       0.67, 0.68, 0.69, 0.7 , 0.71, 0.72, 0.73, 0.74, 0.75, 0.76, 0.77,\n",
       "       0.78, 0.79, 0.8 , 0.81, 0.82, 0.83, 0.84, 0.85, 0.86, 0.87, 0.88,\n",
       "       0.89, 0.9 , 0.91, 0.92, 0.93, 0.94, 0.95, 0.96, 0.97, 0.98, 0.99,\n",
       "       1.  ]),\n",
       "             cv=5, l1_ratio=[0.1, 0.5, 0.7, 0.9, 0.95, 1], max_iter=100000,\n",
       "             random_state=42)"
      ]
     },
     "execution_count": 121,
     "metadata": {},
     "output_type": "execute_result"
    }
   ],
   "source": [
    "elastic_cv_model.fit(X_train_scaled, y_train)"
   ]
  },
  {
   "cell_type": "code",
   "execution_count": 122,
   "metadata": {
    "colab": {
     "base_uri": "https://localhost:8080/"
    },
    "id": "prostate-france",
    "outputId": "e89c68ab-094c-405d-dabc-1c22f0109cff"
   },
   "outputs": [
    {
     "data": {
      "text/plain": [
       "0.01"
      ]
     },
     "execution_count": 122,
     "metadata": {},
     "output_type": "execute_result"
    }
   ],
   "source": [
    "elastic_cv_model.alpha_"
   ]
  },
  {
   "cell_type": "code",
   "execution_count": 123,
   "metadata": {
    "colab": {
     "base_uri": "https://localhost:8080/"
    },
    "id": "peaceful-paper",
    "outputId": "854bbf7a-e8bb-4ac2-c9a1-90f43d82ced2"
   },
   "outputs": [
    {
     "data": {
      "text/plain": [
       "0.1"
      ]
     },
     "execution_count": 123,
     "metadata": {},
     "output_type": "execute_result"
    }
   ],
   "source": [
    "elastic_cv_model.l1_ratio_"
   ]
  },
  {
   "cell_type": "code",
   "execution_count": 124,
   "metadata": {
    "id": "002d5383"
   },
   "outputs": [],
   "source": [
    "y_pred = elastic_cv_model.predict(X_test_scaled)\n",
    "y_train_pred = elastic_cv_model.predict(X_train_scaled)"
   ]
  },
  {
   "cell_type": "code",
   "execution_count": 125,
   "metadata": {
    "colab": {
     "base_uri": "https://localhost:8080/",
     "height": 175
    },
    "id": "c589c932",
    "outputId": "e3fa22ff-2ed2-4b07-bca9-043040328a06"
   },
   "outputs": [
    {
     "data": {
      "text/html": [
       "<div>\n",
       "<style scoped>\n",
       "    .dataframe tbody tr th:only-of-type {\n",
       "        vertical-align: middle;\n",
       "    }\n",
       "\n",
       "    .dataframe tbody tr th {\n",
       "        vertical-align: top;\n",
       "    }\n",
       "\n",
       "    .dataframe thead th {\n",
       "        text-align: right;\n",
       "    }\n",
       "</style>\n",
       "<table border=\"1\" class=\"dataframe\">\n",
       "  <thead>\n",
       "    <tr style=\"text-align: right;\">\n",
       "      <th></th>\n",
       "      <th>elastic_cv_train</th>\n",
       "      <th>elastic_cv_test</th>\n",
       "    </tr>\n",
       "  </thead>\n",
       "  <tbody>\n",
       "    <tr>\n",
       "      <th>R2</th>\n",
       "      <td>0.899</td>\n",
       "      <td>0.923</td>\n",
       "    </tr>\n",
       "    <tr>\n",
       "      <th>mae</th>\n",
       "      <td>2.001</td>\n",
       "      <td>1.693</td>\n",
       "    </tr>\n",
       "    <tr>\n",
       "      <th>mse</th>\n",
       "      <td>6.287</td>\n",
       "      <td>4.367</td>\n",
       "    </tr>\n",
       "    <tr>\n",
       "      <th>rmse</th>\n",
       "      <td>2.507</td>\n",
       "      <td>2.090</td>\n",
       "    </tr>\n",
       "  </tbody>\n",
       "</table>\n",
       "</div>"
      ],
      "text/plain": [
       "      elastic_cv_train  elastic_cv_test\n",
       "R2               0.899            0.923\n",
       "mae              2.001            1.693\n",
       "mse              6.287            4.367\n",
       "rmse             2.507            2.090"
      ]
     },
     "execution_count": 125,
     "metadata": {},
     "output_type": "execute_result"
    }
   ],
   "source": [
    "ecs = train_val(y_train, y_train_pred, y_test, y_pred, \"elastic_cv\")\n",
    "ecs"
   ]
  },
  {
   "cell_type": "code",
   "execution_count": 126,
   "metadata": {
    "colab": {
     "base_uri": "https://localhost:8080/",
     "height": 239
    },
    "id": "56351c78",
    "outputId": "f6e65efe-dee7-4a5b-c575-e964540257e6"
   },
   "outputs": [
    {
     "data": {
      "text/html": [
       "<div>\n",
       "<style scoped>\n",
       "    .dataframe tbody tr th:only-of-type {\n",
       "        vertical-align: middle;\n",
       "    }\n",
       "\n",
       "    .dataframe tbody tr th {\n",
       "        vertical-align: top;\n",
       "    }\n",
       "\n",
       "    .dataframe thead th {\n",
       "        text-align: right;\n",
       "    }\n",
       "</style>\n",
       "<table border=\"1\" class=\"dataframe\">\n",
       "  <thead>\n",
       "    <tr style=\"text-align: right;\">\n",
       "      <th></th>\n",
       "      <th>R2</th>\n",
       "      <th>mae</th>\n",
       "      <th>mse</th>\n",
       "      <th>rmse</th>\n",
       "    </tr>\n",
       "  </thead>\n",
       "  <tbody>\n",
       "    <tr>\n",
       "      <th>linear_train</th>\n",
       "      <td>0.900</td>\n",
       "      <td>1.992</td>\n",
       "      <td>6.237</td>\n",
       "      <td>2.497</td>\n",
       "    </tr>\n",
       "    <tr>\n",
       "      <th>linear_test</th>\n",
       "      <td>0.921</td>\n",
       "      <td>1.716</td>\n",
       "      <td>4.439</td>\n",
       "      <td>2.107</td>\n",
       "    </tr>\n",
       "    <tr>\n",
       "      <th>ridge_train</th>\n",
       "      <td>0.899</td>\n",
       "      <td>2.003</td>\n",
       "      <td>6.313</td>\n",
       "      <td>2.513</td>\n",
       "    </tr>\n",
       "    <tr>\n",
       "      <th>ridge_test</th>\n",
       "      <td>0.922</td>\n",
       "      <td>1.699</td>\n",
       "      <td>4.398</td>\n",
       "      <td>2.097</td>\n",
       "    </tr>\n",
       "    <tr>\n",
       "      <th>ridge_cv_train</th>\n",
       "      <td>0.900</td>\n",
       "      <td>1.999</td>\n",
       "      <td>6.267</td>\n",
       "      <td>2.503</td>\n",
       "    </tr>\n",
       "    <tr>\n",
       "      <th>ridge_cv_test</th>\n",
       "      <td>0.923</td>\n",
       "      <td>1.694</td>\n",
       "      <td>4.357</td>\n",
       "      <td>2.087</td>\n",
       "    </tr>\n",
       "    <tr>\n",
       "      <th>lasso_train</th>\n",
       "      <td>0.768</td>\n",
       "      <td>3.016</td>\n",
       "      <td>14.521</td>\n",
       "      <td>3.811</td>\n",
       "    </tr>\n",
       "    <tr>\n",
       "      <th>lasso_test</th>\n",
       "      <td>0.816</td>\n",
       "      <td>2.588</td>\n",
       "      <td>10.343</td>\n",
       "      <td>3.216</td>\n",
       "    </tr>\n",
       "    <tr>\n",
       "      <th>lasso_cv_train</th>\n",
       "      <td>0.900</td>\n",
       "      <td>1.998</td>\n",
       "      <td>6.259</td>\n",
       "      <td>2.502</td>\n",
       "    </tr>\n",
       "    <tr>\n",
       "      <th>lasso_cv_test</th>\n",
       "      <td>0.923</td>\n",
       "      <td>1.687</td>\n",
       "      <td>4.346</td>\n",
       "      <td>2.085</td>\n",
       "    </tr>\n",
       "    <tr>\n",
       "      <th>elastic_train</th>\n",
       "      <td>0.625</td>\n",
       "      <td>3.870</td>\n",
       "      <td>23.448</td>\n",
       "      <td>4.842</td>\n",
       "    </tr>\n",
       "    <tr>\n",
       "      <th>elastic_test</th>\n",
       "      <td>0.625</td>\n",
       "      <td>3.724</td>\n",
       "      <td>21.153</td>\n",
       "      <td>4.599</td>\n",
       "    </tr>\n",
       "    <tr>\n",
       "      <th>elastic_cv_train</th>\n",
       "      <td>0.899</td>\n",
       "      <td>2.001</td>\n",
       "      <td>6.287</td>\n",
       "      <td>2.507</td>\n",
       "    </tr>\n",
       "    <tr>\n",
       "      <th>elastic_cv_test</th>\n",
       "      <td>0.923</td>\n",
       "      <td>1.693</td>\n",
       "      <td>4.367</td>\n",
       "      <td>2.090</td>\n",
       "    </tr>\n",
       "  </tbody>\n",
       "</table>\n",
       "</div>"
      ],
      "text/plain": [
       "                    R2   mae    mse  rmse\n",
       "linear_train     0.900 1.992  6.237 2.497\n",
       "linear_test      0.921 1.716  4.439 2.107\n",
       "ridge_train      0.899 2.003  6.313 2.513\n",
       "ridge_test       0.922 1.699  4.398 2.097\n",
       "ridge_cv_train   0.900 1.999  6.267 2.503\n",
       "ridge_cv_test    0.923 1.694  4.357 2.087\n",
       "lasso_train      0.768 3.016 14.521 3.811\n",
       "lasso_test       0.816 2.588 10.343 3.216\n",
       "lasso_cv_train   0.900 1.998  6.259 2.502\n",
       "lasso_cv_test    0.923 1.687  4.346 2.085\n",
       "elastic_train    0.625 3.870 23.448 4.842\n",
       "elastic_test     0.625 3.724 21.153 4.599\n",
       "elastic_cv_train 0.899 2.001  6.287 2.507\n",
       "elastic_cv_test  0.923 1.693  4.367 2.090"
      ]
     },
     "execution_count": 126,
     "metadata": {},
     "output_type": "execute_result"
    }
   ],
   "source": [
    "pd.concat([ls,rs, rcs, lss, lcs, es, ecs], axis = 1).T"
   ]
  },
  {
   "cell_type": "markdown",
   "metadata": {
    "id": "cdyyhDlHRJ4Z"
   },
   "source": [
    "## 2.4 Gridsearch"
   ]
  },
  {
   "cell_type": "code",
   "execution_count": 127,
   "metadata": {
    "id": "public-belgium"
   },
   "outputs": [],
   "source": [
    "from sklearn.model_selection import GridSearchCV"
   ]
  },
  {
   "cell_type": "code",
   "execution_count": 128,
   "metadata": {
    "id": "developmental-framework"
   },
   "outputs": [],
   "source": [
    "elastic_model = ElasticNet(max_iter=10000, random_state=42)"
   ]
  },
  {
   "cell_type": "code",
   "execution_count": 129,
   "metadata": {
    "id": "electronic-pollution"
   },
   "outputs": [],
   "source": [
    "param_grid = {\"alpha\":[0.01, 0.012, 0.2, 0.5, 0.6, 0.7, 1],\n",
    "            \"l1_ratio\":[0.1, 0.5, 0.7, 0.9, 0.95, 0.99, 1]}"
   ]
  },
  {
   "cell_type": "code",
   "execution_count": 130,
   "metadata": {
    "id": "recovered-ideal"
   },
   "outputs": [],
   "source": [
    "grid_model = GridSearchCV(estimator = elastic_model, param_grid = param_grid, scoring = 'neg_root_mean_squared_error',\n",
    "                         cv =5, verbose =2)"
   ]
  },
  {
   "cell_type": "code",
   "execution_count": 131,
   "metadata": {
    "colab": {
     "base_uri": "https://localhost:8080/"
    },
    "id": "pleasant-scout",
    "outputId": "9dce5bd8-199d-4580-e75d-473d5aaad57c"
   },
   "outputs": [
    {
     "name": "stdout",
     "output_type": "stream",
     "text": [
      "Fitting 5 folds for each of 49 candidates, totalling 245 fits\n",
      "[CV] END ...........................alpha=0.01, l1_ratio=0.1; total time=   0.0s\n",
      "[CV] END ...........................alpha=0.01, l1_ratio=0.1; total time=   0.0s\n",
      "[CV] END ...........................alpha=0.01, l1_ratio=0.1; total time=   0.0s\n",
      "[CV] END ...........................alpha=0.01, l1_ratio=0.1; total time=   0.0s\n",
      "[CV] END ...........................alpha=0.01, l1_ratio=0.1; total time=   0.0s\n",
      "[CV] END ...........................alpha=0.01, l1_ratio=0.5; total time=   0.0s\n",
      "[CV] END ...........................alpha=0.01, l1_ratio=0.5; total time=   0.0s\n",
      "[CV] END ...........................alpha=0.01, l1_ratio=0.5; total time=   0.0s\n",
      "[CV] END ...........................alpha=0.01, l1_ratio=0.5; total time=   0.0s\n",
      "[CV] END ...........................alpha=0.01, l1_ratio=0.5; total time=   0.0s\n",
      "[CV] END ...........................alpha=0.01, l1_ratio=0.7; total time=   0.0s\n",
      "[CV] END ...........................alpha=0.01, l1_ratio=0.7; total time=   0.0s\n",
      "[CV] END ...........................alpha=0.01, l1_ratio=0.7; total time=   0.0s\n",
      "[CV] END ...........................alpha=0.01, l1_ratio=0.7; total time=   0.0s\n",
      "[CV] END ...........................alpha=0.01, l1_ratio=0.7; total time=   0.0s\n",
      "[CV] END ...........................alpha=0.01, l1_ratio=0.9; total time=   0.0s\n",
      "[CV] END ...........................alpha=0.01, l1_ratio=0.9; total time=   0.0s\n",
      "[CV] END ...........................alpha=0.01, l1_ratio=0.9; total time=   0.0s\n",
      "[CV] END ...........................alpha=0.01, l1_ratio=0.9; total time=   0.0s\n",
      "[CV] END ...........................alpha=0.01, l1_ratio=0.9; total time=   0.0s\n",
      "[CV] END ..........................alpha=0.01, l1_ratio=0.95; total time=   0.0s\n",
      "[CV] END ..........................alpha=0.01, l1_ratio=0.95; total time=   0.0s\n",
      "[CV] END ..........................alpha=0.01, l1_ratio=0.95; total time=   0.0s\n",
      "[CV] END ..........................alpha=0.01, l1_ratio=0.95; total time=   0.0s\n",
      "[CV] END ..........................alpha=0.01, l1_ratio=0.95; total time=   0.0s\n",
      "[CV] END ..........................alpha=0.01, l1_ratio=0.99; total time=   0.0s\n",
      "[CV] END ..........................alpha=0.01, l1_ratio=0.99; total time=   0.0s\n",
      "[CV] END ..........................alpha=0.01, l1_ratio=0.99; total time=   0.0s\n",
      "[CV] END ..........................alpha=0.01, l1_ratio=0.99; total time=   0.0s\n",
      "[CV] END ..........................alpha=0.01, l1_ratio=0.99; total time=   0.0s\n",
      "[CV] END .............................alpha=0.01, l1_ratio=1; total time=   0.0s\n",
      "[CV] END .............................alpha=0.01, l1_ratio=1; total time=   0.0s\n",
      "[CV] END .............................alpha=0.01, l1_ratio=1; total time=   0.0s\n",
      "[CV] END .............................alpha=0.01, l1_ratio=1; total time=   0.0s\n",
      "[CV] END .............................alpha=0.01, l1_ratio=1; total time=   0.0s\n",
      "[CV] END ..........................alpha=0.012, l1_ratio=0.1; total time=   0.0s\n",
      "[CV] END ..........................alpha=0.012, l1_ratio=0.1; total time=   0.0s\n",
      "[CV] END ..........................alpha=0.012, l1_ratio=0.1; total time=   0.0s\n",
      "[CV] END ..........................alpha=0.012, l1_ratio=0.1; total time=   0.0s\n",
      "[CV] END ..........................alpha=0.012, l1_ratio=0.1; total time=   0.0s\n",
      "[CV] END ..........................alpha=0.012, l1_ratio=0.5; total time=   0.0s\n",
      "[CV] END ..........................alpha=0.012, l1_ratio=0.5; total time=   0.0s\n",
      "[CV] END ..........................alpha=0.012, l1_ratio=0.5; total time=   0.0s\n",
      "[CV] END ..........................alpha=0.012, l1_ratio=0.5; total time=   0.0s\n",
      "[CV] END ..........................alpha=0.012, l1_ratio=0.5; total time=   0.0s\n",
      "[CV] END ..........................alpha=0.012, l1_ratio=0.7; total time=   0.0s\n",
      "[CV] END ..........................alpha=0.012, l1_ratio=0.7; total time=   0.0s\n",
      "[CV] END ..........................alpha=0.012, l1_ratio=0.7; total time=   0.0s\n",
      "[CV] END ..........................alpha=0.012, l1_ratio=0.7; total time=   0.0s\n",
      "[CV] END ..........................alpha=0.012, l1_ratio=0.7; total time=   0.0s\n",
      "[CV] END ..........................alpha=0.012, l1_ratio=0.9; total time=   0.0s\n",
      "[CV] END ..........................alpha=0.012, l1_ratio=0.9; total time=   0.0s\n",
      "[CV] END ..........................alpha=0.012, l1_ratio=0.9; total time=   0.0s\n",
      "[CV] END ..........................alpha=0.012, l1_ratio=0.9; total time=   0.0s\n",
      "[CV] END ..........................alpha=0.012, l1_ratio=0.9; total time=   0.0s\n",
      "[CV] END .........................alpha=0.012, l1_ratio=0.95; total time=   0.0s\n",
      "[CV] END .........................alpha=0.012, l1_ratio=0.95; total time=   0.0s\n",
      "[CV] END .........................alpha=0.012, l1_ratio=0.95; total time=   0.0s\n",
      "[CV] END .........................alpha=0.012, l1_ratio=0.95; total time=   0.0s\n",
      "[CV] END .........................alpha=0.012, l1_ratio=0.95; total time=   0.0s\n",
      "[CV] END .........................alpha=0.012, l1_ratio=0.99; total time=   0.0s\n",
      "[CV] END .........................alpha=0.012, l1_ratio=0.99; total time=   0.0s\n",
      "[CV] END .........................alpha=0.012, l1_ratio=0.99; total time=   0.0s\n",
      "[CV] END .........................alpha=0.012, l1_ratio=0.99; total time=   0.0s\n",
      "[CV] END .........................alpha=0.012, l1_ratio=0.99; total time=   0.0s\n",
      "[CV] END ............................alpha=0.012, l1_ratio=1; total time=   0.0s\n",
      "[CV] END ............................alpha=0.012, l1_ratio=1; total time=   0.0s\n",
      "[CV] END ............................alpha=0.012, l1_ratio=1; total time=   0.0s\n",
      "[CV] END ............................alpha=0.012, l1_ratio=1; total time=   0.0s\n",
      "[CV] END ............................alpha=0.012, l1_ratio=1; total time=   0.0s\n",
      "[CV] END ............................alpha=0.2, l1_ratio=0.1; total time=   0.0s\n",
      "[CV] END ............................alpha=0.2, l1_ratio=0.1; total time=   0.0s\n",
      "[CV] END ............................alpha=0.2, l1_ratio=0.1; total time=   0.0s\n",
      "[CV] END ............................alpha=0.2, l1_ratio=0.1; total time=   0.0s\n",
      "[CV] END ............................alpha=0.2, l1_ratio=0.1; total time=   0.0s\n",
      "[CV] END ............................alpha=0.2, l1_ratio=0.5; total time=   0.0s\n",
      "[CV] END ............................alpha=0.2, l1_ratio=0.5; total time=   0.0s\n",
      "[CV] END ............................alpha=0.2, l1_ratio=0.5; total time=   0.0s\n",
      "[CV] END ............................alpha=0.2, l1_ratio=0.5; total time=   0.0s\n",
      "[CV] END ............................alpha=0.2, l1_ratio=0.5; total time=   0.0s\n",
      "[CV] END ............................alpha=0.2, l1_ratio=0.7; total time=   0.0s\n",
      "[CV] END ............................alpha=0.2, l1_ratio=0.7; total time=   0.0s\n",
      "[CV] END ............................alpha=0.2, l1_ratio=0.7; total time=   0.0s\n",
      "[CV] END ............................alpha=0.2, l1_ratio=0.7; total time=   0.0s\n",
      "[CV] END ............................alpha=0.2, l1_ratio=0.7; total time=   0.0s\n",
      "[CV] END ............................alpha=0.2, l1_ratio=0.9; total time=   0.0s\n",
      "[CV] END ............................alpha=0.2, l1_ratio=0.9; total time=   0.0s\n",
      "[CV] END ............................alpha=0.2, l1_ratio=0.9; total time=   0.0s\n",
      "[CV] END ............................alpha=0.2, l1_ratio=0.9; total time=   0.0s\n",
      "[CV] END ............................alpha=0.2, l1_ratio=0.9; total time=   0.0s\n",
      "[CV] END ...........................alpha=0.2, l1_ratio=0.95; total time=   0.0s\n",
      "[CV] END ...........................alpha=0.2, l1_ratio=0.95; total time=   0.0s\n",
      "[CV] END ...........................alpha=0.2, l1_ratio=0.95; total time=   0.0s\n",
      "[CV] END ...........................alpha=0.2, l1_ratio=0.95; total time=   0.0s\n",
      "[CV] END ...........................alpha=0.2, l1_ratio=0.95; total time=   0.0s\n",
      "[CV] END ...........................alpha=0.2, l1_ratio=0.99; total time=   0.0s\n",
      "[CV] END ...........................alpha=0.2, l1_ratio=0.99; total time=   0.0s\n",
      "[CV] END ...........................alpha=0.2, l1_ratio=0.99; total time=   0.0s\n",
      "[CV] END ...........................alpha=0.2, l1_ratio=0.99; total time=   0.0s\n",
      "[CV] END ...........................alpha=0.2, l1_ratio=0.99; total time=   0.0s\n",
      "[CV] END ..............................alpha=0.2, l1_ratio=1; total time=   0.0s\n",
      "[CV] END ..............................alpha=0.2, l1_ratio=1; total time=   0.0s\n",
      "[CV] END ..............................alpha=0.2, l1_ratio=1; total time=   0.0s\n",
      "[CV] END ..............................alpha=0.2, l1_ratio=1; total time=   0.0s\n",
      "[CV] END ..............................alpha=0.2, l1_ratio=1; total time=   0.0s\n",
      "[CV] END ............................alpha=0.5, l1_ratio=0.1; total time=   0.0s\n",
      "[CV] END ............................alpha=0.5, l1_ratio=0.1; total time=   0.0s\n",
      "[CV] END ............................alpha=0.5, l1_ratio=0.1; total time=   0.0s\n",
      "[CV] END ............................alpha=0.5, l1_ratio=0.1; total time=   0.0s\n",
      "[CV] END ............................alpha=0.5, l1_ratio=0.1; total time=   0.0s\n",
      "[CV] END ............................alpha=0.5, l1_ratio=0.5; total time=   0.0s\n",
      "[CV] END ............................alpha=0.5, l1_ratio=0.5; total time=   0.0s\n",
      "[CV] END ............................alpha=0.5, l1_ratio=0.5; total time=   0.0s\n",
      "[CV] END ............................alpha=0.5, l1_ratio=0.5; total time=   0.0s\n",
      "[CV] END ............................alpha=0.5, l1_ratio=0.5; total time=   0.0s\n",
      "[CV] END ............................alpha=0.5, l1_ratio=0.7; total time=   0.0s\n",
      "[CV] END ............................alpha=0.5, l1_ratio=0.7; total time=   0.0s\n",
      "[CV] END ............................alpha=0.5, l1_ratio=0.7; total time=   0.0s\n",
      "[CV] END ............................alpha=0.5, l1_ratio=0.7; total time=   0.0s\n",
      "[CV] END ............................alpha=0.5, l1_ratio=0.7; total time=   0.0s\n",
      "[CV] END ............................alpha=0.5, l1_ratio=0.9; total time=   0.0s\n",
      "[CV] END ............................alpha=0.5, l1_ratio=0.9; total time=   0.0s\n",
      "[CV] END ............................alpha=0.5, l1_ratio=0.9; total time=   0.0s\n",
      "[CV] END ............................alpha=0.5, l1_ratio=0.9; total time=   0.0s\n",
      "[CV] END ............................alpha=0.5, l1_ratio=0.9; total time=   0.0s\n",
      "[CV] END ...........................alpha=0.5, l1_ratio=0.95; total time=   0.0s\n",
      "[CV] END ...........................alpha=0.5, l1_ratio=0.95; total time=   0.0s\n",
      "[CV] END ...........................alpha=0.5, l1_ratio=0.95; total time=   0.0s\n",
      "[CV] END ...........................alpha=0.5, l1_ratio=0.95; total time=   0.0s\n",
      "[CV] END ...........................alpha=0.5, l1_ratio=0.95; total time=   0.0s\n",
      "[CV] END ...........................alpha=0.5, l1_ratio=0.99; total time=   0.0s\n",
      "[CV] END ...........................alpha=0.5, l1_ratio=0.99; total time=   0.0s\n",
      "[CV] END ...........................alpha=0.5, l1_ratio=0.99; total time=   0.0s\n",
      "[CV] END ...........................alpha=0.5, l1_ratio=0.99; total time=   0.0s\n",
      "[CV] END ...........................alpha=0.5, l1_ratio=0.99; total time=   0.0s\n",
      "[CV] END ..............................alpha=0.5, l1_ratio=1; total time=   0.0s\n",
      "[CV] END ..............................alpha=0.5, l1_ratio=1; total time=   0.0s\n",
      "[CV] END ..............................alpha=0.5, l1_ratio=1; total time=   0.0s\n",
      "[CV] END ..............................alpha=0.5, l1_ratio=1; total time=   0.0s\n",
      "[CV] END ..............................alpha=0.5, l1_ratio=1; total time=   0.0s\n",
      "[CV] END ............................alpha=0.6, l1_ratio=0.1; total time=   0.0s\n",
      "[CV] END ............................alpha=0.6, l1_ratio=0.1; total time=   0.0s\n",
      "[CV] END ............................alpha=0.6, l1_ratio=0.1; total time=   0.0s\n",
      "[CV] END ............................alpha=0.6, l1_ratio=0.1; total time=   0.0s\n",
      "[CV] END ............................alpha=0.6, l1_ratio=0.1; total time=   0.0s\n",
      "[CV] END ............................alpha=0.6, l1_ratio=0.5; total time=   0.0s\n",
      "[CV] END ............................alpha=0.6, l1_ratio=0.5; total time=   0.0s\n",
      "[CV] END ............................alpha=0.6, l1_ratio=0.5; total time=   0.0s\n",
      "[CV] END ............................alpha=0.6, l1_ratio=0.5; total time=   0.0s\n",
      "[CV] END ............................alpha=0.6, l1_ratio=0.5; total time=   0.0s\n",
      "[CV] END ............................alpha=0.6, l1_ratio=0.7; total time=   0.0s\n",
      "[CV] END ............................alpha=0.6, l1_ratio=0.7; total time=   0.0s\n",
      "[CV] END ............................alpha=0.6, l1_ratio=0.7; total time=   0.0s\n",
      "[CV] END ............................alpha=0.6, l1_ratio=0.7; total time=   0.0s\n",
      "[CV] END ............................alpha=0.6, l1_ratio=0.7; total time=   0.0s\n",
      "[CV] END ............................alpha=0.6, l1_ratio=0.9; total time=   0.0s\n",
      "[CV] END ............................alpha=0.6, l1_ratio=0.9; total time=   0.0s\n",
      "[CV] END ............................alpha=0.6, l1_ratio=0.9; total time=   0.0s\n",
      "[CV] END ............................alpha=0.6, l1_ratio=0.9; total time=   0.0s\n",
      "[CV] END ............................alpha=0.6, l1_ratio=0.9; total time=   0.0s\n",
      "[CV] END ...........................alpha=0.6, l1_ratio=0.95; total time=   0.0s\n",
      "[CV] END ...........................alpha=0.6, l1_ratio=0.95; total time=   0.0s\n",
      "[CV] END ...........................alpha=0.6, l1_ratio=0.95; total time=   0.0s\n",
      "[CV] END ...........................alpha=0.6, l1_ratio=0.95; total time=   0.0s\n",
      "[CV] END ...........................alpha=0.6, l1_ratio=0.95; total time=   0.0s\n",
      "[CV] END ...........................alpha=0.6, l1_ratio=0.99; total time=   0.0s\n",
      "[CV] END ...........................alpha=0.6, l1_ratio=0.99; total time=   0.0s\n",
      "[CV] END ...........................alpha=0.6, l1_ratio=0.99; total time=   0.0s\n",
      "[CV] END ...........................alpha=0.6, l1_ratio=0.99; total time=   0.0s\n",
      "[CV] END ...........................alpha=0.6, l1_ratio=0.99; total time=   0.0s\n",
      "[CV] END ..............................alpha=0.6, l1_ratio=1; total time=   0.0s\n",
      "[CV] END ..............................alpha=0.6, l1_ratio=1; total time=   0.0s\n",
      "[CV] END ..............................alpha=0.6, l1_ratio=1; total time=   0.0s\n",
      "[CV] END ..............................alpha=0.6, l1_ratio=1; total time=   0.0s\n",
      "[CV] END ..............................alpha=0.6, l1_ratio=1; total time=   0.0s\n",
      "[CV] END ............................alpha=0.7, l1_ratio=0.1; total time=   0.0s\n",
      "[CV] END ............................alpha=0.7, l1_ratio=0.1; total time=   0.0s\n",
      "[CV] END ............................alpha=0.7, l1_ratio=0.1; total time=   0.0s\n",
      "[CV] END ............................alpha=0.7, l1_ratio=0.1; total time=   0.0s\n",
      "[CV] END ............................alpha=0.7, l1_ratio=0.1; total time=   0.0s\n",
      "[CV] END ............................alpha=0.7, l1_ratio=0.5; total time=   0.0s\n",
      "[CV] END ............................alpha=0.7, l1_ratio=0.5; total time=   0.0s\n",
      "[CV] END ............................alpha=0.7, l1_ratio=0.5; total time=   0.0s\n",
      "[CV] END ............................alpha=0.7, l1_ratio=0.5; total time=   0.0s\n",
      "[CV] END ............................alpha=0.7, l1_ratio=0.5; total time=   0.0s\n",
      "[CV] END ............................alpha=0.7, l1_ratio=0.7; total time=   0.0s\n",
      "[CV] END ............................alpha=0.7, l1_ratio=0.7; total time=   0.0s\n",
      "[CV] END ............................alpha=0.7, l1_ratio=0.7; total time=   0.0s\n",
      "[CV] END ............................alpha=0.7, l1_ratio=0.7; total time=   0.0s\n",
      "[CV] END ............................alpha=0.7, l1_ratio=0.7; total time=   0.0s\n",
      "[CV] END ............................alpha=0.7, l1_ratio=0.9; total time=   0.0s\n",
      "[CV] END ............................alpha=0.7, l1_ratio=0.9; total time=   0.0s\n",
      "[CV] END ............................alpha=0.7, l1_ratio=0.9; total time=   0.0s\n",
      "[CV] END ............................alpha=0.7, l1_ratio=0.9; total time=   0.0s\n",
      "[CV] END ............................alpha=0.7, l1_ratio=0.9; total time=   0.0s\n",
      "[CV] END ...........................alpha=0.7, l1_ratio=0.95; total time=   0.0s\n",
      "[CV] END ...........................alpha=0.7, l1_ratio=0.95; total time=   0.0s\n",
      "[CV] END ...........................alpha=0.7, l1_ratio=0.95; total time=   0.0s\n",
      "[CV] END ...........................alpha=0.7, l1_ratio=0.95; total time=   0.0s\n",
      "[CV] END ...........................alpha=0.7, l1_ratio=0.95; total time=   0.0s\n",
      "[CV] END ...........................alpha=0.7, l1_ratio=0.99; total time=   0.0s\n",
      "[CV] END ...........................alpha=0.7, l1_ratio=0.99; total time=   0.0s\n",
      "[CV] END ...........................alpha=0.7, l1_ratio=0.99; total time=   0.0s\n",
      "[CV] END ...........................alpha=0.7, l1_ratio=0.99; total time=   0.0s\n",
      "[CV] END ...........................alpha=0.7, l1_ratio=0.99; total time=   0.0s\n",
      "[CV] END ..............................alpha=0.7, l1_ratio=1; total time=   0.0s\n",
      "[CV] END ..............................alpha=0.7, l1_ratio=1; total time=   0.0s\n",
      "[CV] END ..............................alpha=0.7, l1_ratio=1; total time=   0.0s\n",
      "[CV] END ..............................alpha=0.7, l1_ratio=1; total time=   0.0s\n",
      "[CV] END ..............................alpha=0.7, l1_ratio=1; total time=   0.0s\n",
      "[CV] END ..............................alpha=1, l1_ratio=0.1; total time=   0.0s\n",
      "[CV] END ..............................alpha=1, l1_ratio=0.1; total time=   0.0s\n",
      "[CV] END ..............................alpha=1, l1_ratio=0.1; total time=   0.0s\n",
      "[CV] END ..............................alpha=1, l1_ratio=0.1; total time=   0.0s\n",
      "[CV] END ..............................alpha=1, l1_ratio=0.1; total time=   0.0s\n",
      "[CV] END ..............................alpha=1, l1_ratio=0.5; total time=   0.0s\n",
      "[CV] END ..............................alpha=1, l1_ratio=0.5; total time=   0.0s\n",
      "[CV] END ..............................alpha=1, l1_ratio=0.5; total time=   0.0s\n",
      "[CV] END ..............................alpha=1, l1_ratio=0.5; total time=   0.0s\n",
      "[CV] END ..............................alpha=1, l1_ratio=0.5; total time=   0.0s\n",
      "[CV] END ..............................alpha=1, l1_ratio=0.7; total time=   0.0s\n",
      "[CV] END ..............................alpha=1, l1_ratio=0.7; total time=   0.0s\n"
     ]
    },
    {
     "name": "stdout",
     "output_type": "stream",
     "text": [
      "[CV] END ..............................alpha=1, l1_ratio=0.7; total time=   0.0s\n",
      "[CV] END ..............................alpha=1, l1_ratio=0.7; total time=   0.0s\n",
      "[CV] END ..............................alpha=1, l1_ratio=0.7; total time=   0.0s\n",
      "[CV] END ..............................alpha=1, l1_ratio=0.9; total time=   0.0s\n",
      "[CV] END ..............................alpha=1, l1_ratio=0.9; total time=   0.0s\n",
      "[CV] END ..............................alpha=1, l1_ratio=0.9; total time=   0.0s\n",
      "[CV] END ..............................alpha=1, l1_ratio=0.9; total time=   0.0s\n",
      "[CV] END ..............................alpha=1, l1_ratio=0.9; total time=   0.0s\n",
      "[CV] END .............................alpha=1, l1_ratio=0.95; total time=   0.0s\n",
      "[CV] END .............................alpha=1, l1_ratio=0.95; total time=   0.0s\n",
      "[CV] END .............................alpha=1, l1_ratio=0.95; total time=   0.0s\n",
      "[CV] END .............................alpha=1, l1_ratio=0.95; total time=   0.0s\n",
      "[CV] END .............................alpha=1, l1_ratio=0.95; total time=   0.0s\n",
      "[CV] END .............................alpha=1, l1_ratio=0.99; total time=   0.0s\n",
      "[CV] END .............................alpha=1, l1_ratio=0.99; total time=   0.0s\n",
      "[CV] END .............................alpha=1, l1_ratio=0.99; total time=   0.0s\n",
      "[CV] END .............................alpha=1, l1_ratio=0.99; total time=   0.0s\n",
      "[CV] END .............................alpha=1, l1_ratio=0.99; total time=   0.0s\n",
      "[CV] END ................................alpha=1, l1_ratio=1; total time=   0.0s\n",
      "[CV] END ................................alpha=1, l1_ratio=1; total time=   0.0s\n",
      "[CV] END ................................alpha=1, l1_ratio=1; total time=   0.0s\n",
      "[CV] END ................................alpha=1, l1_ratio=1; total time=   0.0s\n",
      "[CV] END ................................alpha=1, l1_ratio=1; total time=   0.0s\n"
     ]
    },
    {
     "data": {
      "text/plain": [
       "GridSearchCV(cv=5, estimator=ElasticNet(max_iter=10000, random_state=42),\n",
       "             param_grid={'alpha': [0.01, 0.012, 0.2, 0.5, 0.6, 0.7, 1],\n",
       "                         'l1_ratio': [0.1, 0.5, 0.7, 0.9, 0.95, 0.99, 1]},\n",
       "             scoring='neg_root_mean_squared_error', verbose=2)"
      ]
     },
     "execution_count": 131,
     "metadata": {},
     "output_type": "execute_result"
    }
   ],
   "source": [
    "grid_model.fit(X_train_scaled, y_train)"
   ]
  },
  {
   "cell_type": "code",
   "execution_count": 132,
   "metadata": {
    "colab": {
     "base_uri": "https://localhost:8080/"
    },
    "id": "short-snowboard",
    "outputId": "6cd80843-0f3c-49af-cb0e-ac519d5847ba"
   },
   "outputs": [
    {
     "data": {
      "text/plain": [
       "{'alpha': 0.01, 'l1_ratio': 0.1}"
      ]
     },
     "execution_count": 132,
     "metadata": {},
     "output_type": "execute_result"
    }
   ],
   "source": [
    "grid_model.best_params_"
   ]
  },
  {
   "cell_type": "code",
   "execution_count": 133,
   "metadata": {
    "colab": {
     "base_uri": "https://localhost:8080/",
     "height": 1000
    },
    "id": "personalized-separate",
    "outputId": "a6c9ef8e-000e-4469-9af7-65eb92da9425"
   },
   "outputs": [
    {
     "data": {
      "text/html": [
       "<div>\n",
       "<style scoped>\n",
       "    .dataframe tbody tr th:only-of-type {\n",
       "        vertical-align: middle;\n",
       "    }\n",
       "\n",
       "    .dataframe tbody tr th {\n",
       "        vertical-align: top;\n",
       "    }\n",
       "\n",
       "    .dataframe thead th {\n",
       "        text-align: right;\n",
       "    }\n",
       "</style>\n",
       "<table border=\"1\" class=\"dataframe\">\n",
       "  <thead>\n",
       "    <tr style=\"text-align: right;\">\n",
       "      <th></th>\n",
       "      <th>mean_fit_time</th>\n",
       "      <th>std_fit_time</th>\n",
       "      <th>mean_score_time</th>\n",
       "      <th>std_score_time</th>\n",
       "      <th>param_alpha</th>\n",
       "      <th>param_l1_ratio</th>\n",
       "      <th>params</th>\n",
       "      <th>split0_test_score</th>\n",
       "      <th>split1_test_score</th>\n",
       "      <th>split2_test_score</th>\n",
       "      <th>split3_test_score</th>\n",
       "      <th>split4_test_score</th>\n",
       "      <th>mean_test_score</th>\n",
       "      <th>std_test_score</th>\n",
       "      <th>rank_test_score</th>\n",
       "    </tr>\n",
       "  </thead>\n",
       "  <tbody>\n",
       "    <tr>\n",
       "      <th>0</th>\n",
       "      <td>0.002</td>\n",
       "      <td>0.001</td>\n",
       "      <td>0.001</td>\n",
       "      <td>0.001</td>\n",
       "      <td>0.010</td>\n",
       "      <td>0.100</td>\n",
       "      <td>{'alpha': 0.01, 'l1_ratio': 0.1}</td>\n",
       "      <td>-2.652</td>\n",
       "      <td>-3.060</td>\n",
       "      <td>-1.837</td>\n",
       "      <td>-3.328</td>\n",
       "      <td>-2.678</td>\n",
       "      <td>-2.711</td>\n",
       "      <td>0.504</td>\n",
       "      <td>1</td>\n",
       "    </tr>\n",
       "    <tr>\n",
       "      <th>1</th>\n",
       "      <td>0.002</td>\n",
       "      <td>0.000</td>\n",
       "      <td>0.000</td>\n",
       "      <td>0.000</td>\n",
       "      <td>0.010</td>\n",
       "      <td>0.500</td>\n",
       "      <td>{'alpha': 0.01, 'l1_ratio': 0.5}</td>\n",
       "      <td>-2.642</td>\n",
       "      <td>-3.073</td>\n",
       "      <td>-1.832</td>\n",
       "      <td>-3.335</td>\n",
       "      <td>-2.680</td>\n",
       "      <td>-2.713</td>\n",
       "      <td>0.510</td>\n",
       "      <td>3</td>\n",
       "    </tr>\n",
       "    <tr>\n",
       "      <th>2</th>\n",
       "      <td>0.002</td>\n",
       "      <td>0.001</td>\n",
       "      <td>0.000</td>\n",
       "      <td>0.000</td>\n",
       "      <td>0.010</td>\n",
       "      <td>0.700</td>\n",
       "      <td>{'alpha': 0.01, 'l1_ratio': 0.7}</td>\n",
       "      <td>-2.640</td>\n",
       "      <td>-3.080</td>\n",
       "      <td>-1.831</td>\n",
       "      <td>-3.342</td>\n",
       "      <td>-2.682</td>\n",
       "      <td>-2.715</td>\n",
       "      <td>0.513</td>\n",
       "      <td>5</td>\n",
       "    </tr>\n",
       "    <tr>\n",
       "      <th>3</th>\n",
       "      <td>0.001</td>\n",
       "      <td>0.000</td>\n",
       "      <td>0.000</td>\n",
       "      <td>0.000</td>\n",
       "      <td>0.010</td>\n",
       "      <td>0.900</td>\n",
       "      <td>{'alpha': 0.01, 'l1_ratio': 0.9}</td>\n",
       "      <td>-2.640</td>\n",
       "      <td>-3.089</td>\n",
       "      <td>-1.831</td>\n",
       "      <td>-3.352</td>\n",
       "      <td>-2.684</td>\n",
       "      <td>-2.719</td>\n",
       "      <td>0.517</td>\n",
       "      <td>7</td>\n",
       "    </tr>\n",
       "    <tr>\n",
       "      <th>4</th>\n",
       "      <td>0.001</td>\n",
       "      <td>0.000</td>\n",
       "      <td>0.001</td>\n",
       "      <td>0.000</td>\n",
       "      <td>0.010</td>\n",
       "      <td>0.950</td>\n",
       "      <td>{'alpha': 0.01, 'l1_ratio': 0.95}</td>\n",
       "      <td>-2.642</td>\n",
       "      <td>-3.091</td>\n",
       "      <td>-1.831</td>\n",
       "      <td>-3.354</td>\n",
       "      <td>-2.684</td>\n",
       "      <td>-2.720</td>\n",
       "      <td>0.517</td>\n",
       "      <td>9</td>\n",
       "    </tr>\n",
       "    <tr>\n",
       "      <th>5</th>\n",
       "      <td>0.001</td>\n",
       "      <td>0.000</td>\n",
       "      <td>0.000</td>\n",
       "      <td>0.000</td>\n",
       "      <td>0.010</td>\n",
       "      <td>0.990</td>\n",
       "      <td>{'alpha': 0.01, 'l1_ratio': 0.99}</td>\n",
       "      <td>-2.644</td>\n",
       "      <td>-3.094</td>\n",
       "      <td>-1.832</td>\n",
       "      <td>-3.357</td>\n",
       "      <td>-2.684</td>\n",
       "      <td>-2.722</td>\n",
       "      <td>0.518</td>\n",
       "      <td>11</td>\n",
       "    </tr>\n",
       "    <tr>\n",
       "      <th>6</th>\n",
       "      <td>0.001</td>\n",
       "      <td>0.000</td>\n",
       "      <td>0.000</td>\n",
       "      <td>0.000</td>\n",
       "      <td>0.010</td>\n",
       "      <td>1</td>\n",
       "      <td>{'alpha': 0.01, 'l1_ratio': 1}</td>\n",
       "      <td>-2.645</td>\n",
       "      <td>-3.094</td>\n",
       "      <td>-1.832</td>\n",
       "      <td>-3.358</td>\n",
       "      <td>-2.685</td>\n",
       "      <td>-2.723</td>\n",
       "      <td>0.518</td>\n",
       "      <td>12</td>\n",
       "    </tr>\n",
       "    <tr>\n",
       "      <th>7</th>\n",
       "      <td>0.001</td>\n",
       "      <td>0.000</td>\n",
       "      <td>0.000</td>\n",
       "      <td>0.000</td>\n",
       "      <td>0.012</td>\n",
       "      <td>0.100</td>\n",
       "      <td>{'alpha': 0.012, 'l1_ratio': 0.1}</td>\n",
       "      <td>-2.658</td>\n",
       "      <td>-3.053</td>\n",
       "      <td>-1.840</td>\n",
       "      <td>-3.330</td>\n",
       "      <td>-2.678</td>\n",
       "      <td>-2.712</td>\n",
       "      <td>0.502</td>\n",
       "      <td>2</td>\n",
       "    </tr>\n",
       "    <tr>\n",
       "      <th>8</th>\n",
       "      <td>0.001</td>\n",
       "      <td>0.000</td>\n",
       "      <td>0.000</td>\n",
       "      <td>0.000</td>\n",
       "      <td>0.012</td>\n",
       "      <td>0.500</td>\n",
       "      <td>{'alpha': 0.012, 'l1_ratio': 0.5}</td>\n",
       "      <td>-2.646</td>\n",
       "      <td>-3.068</td>\n",
       "      <td>-1.834</td>\n",
       "      <td>-3.338</td>\n",
       "      <td>-2.679</td>\n",
       "      <td>-2.713</td>\n",
       "      <td>0.509</td>\n",
       "      <td>4</td>\n",
       "    </tr>\n",
       "    <tr>\n",
       "      <th>9</th>\n",
       "      <td>0.001</td>\n",
       "      <td>0.000</td>\n",
       "      <td>0.000</td>\n",
       "      <td>0.000</td>\n",
       "      <td>0.012</td>\n",
       "      <td>0.700</td>\n",
       "      <td>{'alpha': 0.012, 'l1_ratio': 0.7}</td>\n",
       "      <td>-2.641</td>\n",
       "      <td>-3.076</td>\n",
       "      <td>-1.833</td>\n",
       "      <td>-3.345</td>\n",
       "      <td>-2.681</td>\n",
       "      <td>-2.715</td>\n",
       "      <td>0.512</td>\n",
       "      <td>6</td>\n",
       "    </tr>\n",
       "    <tr>\n",
       "      <th>10</th>\n",
       "      <td>0.001</td>\n",
       "      <td>0.000</td>\n",
       "      <td>0.000</td>\n",
       "      <td>0.000</td>\n",
       "      <td>0.012</td>\n",
       "      <td>0.900</td>\n",
       "      <td>{'alpha': 0.012, 'l1_ratio': 0.9}</td>\n",
       "      <td>-2.639</td>\n",
       "      <td>-3.084</td>\n",
       "      <td>-1.835</td>\n",
       "      <td>-3.356</td>\n",
       "      <td>-2.684</td>\n",
       "      <td>-2.720</td>\n",
       "      <td>0.515</td>\n",
       "      <td>8</td>\n",
       "    </tr>\n",
       "    <tr>\n",
       "      <th>11</th>\n",
       "      <td>0.001</td>\n",
       "      <td>0.000</td>\n",
       "      <td>0.001</td>\n",
       "      <td>0.000</td>\n",
       "      <td>0.012</td>\n",
       "      <td>0.950</td>\n",
       "      <td>{'alpha': 0.012, 'l1_ratio': 0.95}</td>\n",
       "      <td>-2.640</td>\n",
       "      <td>-3.087</td>\n",
       "      <td>-1.837</td>\n",
       "      <td>-3.361</td>\n",
       "      <td>-2.685</td>\n",
       "      <td>-2.722</td>\n",
       "      <td>0.516</td>\n",
       "      <td>10</td>\n",
       "    </tr>\n",
       "    <tr>\n",
       "      <th>12</th>\n",
       "      <td>0.001</td>\n",
       "      <td>0.000</td>\n",
       "      <td>0.001</td>\n",
       "      <td>0.000</td>\n",
       "      <td>0.012</td>\n",
       "      <td>0.990</td>\n",
       "      <td>{'alpha': 0.012, 'l1_ratio': 0.99}</td>\n",
       "      <td>-2.642</td>\n",
       "      <td>-3.089</td>\n",
       "      <td>-1.839</td>\n",
       "      <td>-3.367</td>\n",
       "      <td>-2.685</td>\n",
       "      <td>-2.724</td>\n",
       "      <td>0.517</td>\n",
       "      <td>13</td>\n",
       "    </tr>\n",
       "    <tr>\n",
       "      <th>13</th>\n",
       "      <td>0.001</td>\n",
       "      <td>0.000</td>\n",
       "      <td>0.000</td>\n",
       "      <td>0.000</td>\n",
       "      <td>0.012</td>\n",
       "      <td>1</td>\n",
       "      <td>{'alpha': 0.012, 'l1_ratio': 1}</td>\n",
       "      <td>-2.643</td>\n",
       "      <td>-3.090</td>\n",
       "      <td>-1.840</td>\n",
       "      <td>-3.368</td>\n",
       "      <td>-2.685</td>\n",
       "      <td>-2.725</td>\n",
       "      <td>0.518</td>\n",
       "      <td>14</td>\n",
       "    </tr>\n",
       "    <tr>\n",
       "      <th>14</th>\n",
       "      <td>0.001</td>\n",
       "      <td>0.000</td>\n",
       "      <td>0.000</td>\n",
       "      <td>0.000</td>\n",
       "      <td>0.200</td>\n",
       "      <td>0.100</td>\n",
       "      <td>{'alpha': 0.2, 'l1_ratio': 0.1}</td>\n",
       "      <td>-3.636</td>\n",
       "      <td>-3.138</td>\n",
       "      <td>-2.610</td>\n",
       "      <td>-4.071</td>\n",
       "      <td>-3.285</td>\n",
       "      <td>-3.348</td>\n",
       "      <td>0.490</td>\n",
       "      <td>25</td>\n",
       "    </tr>\n",
       "    <tr>\n",
       "      <th>15</th>\n",
       "      <td>0.001</td>\n",
       "      <td>0.000</td>\n",
       "      <td>0.000</td>\n",
       "      <td>0.000</td>\n",
       "      <td>0.200</td>\n",
       "      <td>0.500</td>\n",
       "      <td>{'alpha': 0.2, 'l1_ratio': 0.5}</td>\n",
       "      <td>-3.349</td>\n",
       "      <td>-3.041</td>\n",
       "      <td>-2.347</td>\n",
       "      <td>-3.742</td>\n",
       "      <td>-3.045</td>\n",
       "      <td>-3.105</td>\n",
       "      <td>0.458</td>\n",
       "      <td>20</td>\n",
       "    </tr>\n",
       "    <tr>\n",
       "      <th>16</th>\n",
       "      <td>0.000</td>\n",
       "      <td>0.000</td>\n",
       "      <td>0.000</td>\n",
       "      <td>0.000</td>\n",
       "      <td>0.200</td>\n",
       "      <td>0.700</td>\n",
       "      <td>{'alpha': 0.2, 'l1_ratio': 0.7}</td>\n",
       "      <td>-3.193</td>\n",
       "      <td>-3.019</td>\n",
       "      <td>-2.220</td>\n",
       "      <td>-3.599</td>\n",
       "      <td>-2.918</td>\n",
       "      <td>-2.990</td>\n",
       "      <td>0.450</td>\n",
       "      <td>19</td>\n",
       "    </tr>\n",
       "    <tr>\n",
       "      <th>17</th>\n",
       "      <td>0.000</td>\n",
       "      <td>0.000</td>\n",
       "      <td>0.003</td>\n",
       "      <td>0.006</td>\n",
       "      <td>0.200</td>\n",
       "      <td>0.900</td>\n",
       "      <td>{'alpha': 0.2, 'l1_ratio': 0.9}</td>\n",
       "      <td>-3.023</td>\n",
       "      <td>-3.039</td>\n",
       "      <td>-2.106</td>\n",
       "      <td>-3.503</td>\n",
       "      <td>-2.794</td>\n",
       "      <td>-2.893</td>\n",
       "      <td>0.456</td>\n",
       "      <td>18</td>\n",
       "    </tr>\n",
       "    <tr>\n",
       "      <th>18</th>\n",
       "      <td>0.000</td>\n",
       "      <td>0.000</td>\n",
       "      <td>0.000</td>\n",
       "      <td>0.000</td>\n",
       "      <td>0.200</td>\n",
       "      <td>0.950</td>\n",
       "      <td>{'alpha': 0.2, 'l1_ratio': 0.95}</td>\n",
       "      <td>-2.974</td>\n",
       "      <td>-3.033</td>\n",
       "      <td>-2.069</td>\n",
       "      <td>-3.486</td>\n",
       "      <td>-2.779</td>\n",
       "      <td>-2.868</td>\n",
       "      <td>0.462</td>\n",
       "      <td>17</td>\n",
       "    </tr>\n",
       "    <tr>\n",
       "      <th>19</th>\n",
       "      <td>0.003</td>\n",
       "      <td>0.006</td>\n",
       "      <td>0.000</td>\n",
       "      <td>0.000</td>\n",
       "      <td>0.200</td>\n",
       "      <td>0.990</td>\n",
       "      <td>{'alpha': 0.2, 'l1_ratio': 0.99}</td>\n",
       "      <td>-2.939</td>\n",
       "      <td>-3.030</td>\n",
       "      <td>-2.037</td>\n",
       "      <td>-3.475</td>\n",
       "      <td>-2.779</td>\n",
       "      <td>-2.852</td>\n",
       "      <td>0.468</td>\n",
       "      <td>16</td>\n",
       "    </tr>\n",
       "    <tr>\n",
       "      <th>20</th>\n",
       "      <td>0.002</td>\n",
       "      <td>0.002</td>\n",
       "      <td>0.000</td>\n",
       "      <td>0.000</td>\n",
       "      <td>0.200</td>\n",
       "      <td>1</td>\n",
       "      <td>{'alpha': 0.2, 'l1_ratio': 1}</td>\n",
       "      <td>-2.930</td>\n",
       "      <td>-3.029</td>\n",
       "      <td>-2.029</td>\n",
       "      <td>-3.472</td>\n",
       "      <td>-2.782</td>\n",
       "      <td>-2.848</td>\n",
       "      <td>0.470</td>\n",
       "      <td>15</td>\n",
       "    </tr>\n",
       "    <tr>\n",
       "      <th>21</th>\n",
       "      <td>0.002</td>\n",
       "      <td>0.002</td>\n",
       "      <td>0.000</td>\n",
       "      <td>0.001</td>\n",
       "      <td>0.500</td>\n",
       "      <td>0.100</td>\n",
       "      <td>{'alpha': 0.5, 'l1_ratio': 0.1}</td>\n",
       "      <td>-4.795</td>\n",
       "      <td>-3.757</td>\n",
       "      <td>-3.676</td>\n",
       "      <td>-5.429</td>\n",
       "      <td>-4.448</td>\n",
       "      <td>-4.421</td>\n",
       "      <td>0.656</td>\n",
       "      <td>42</td>\n",
       "    </tr>\n",
       "    <tr>\n",
       "      <th>22</th>\n",
       "      <td>0.001</td>\n",
       "      <td>0.000</td>\n",
       "      <td>0.000</td>\n",
       "      <td>0.000</td>\n",
       "      <td>0.500</td>\n",
       "      <td>0.500</td>\n",
       "      <td>{'alpha': 0.5, 'l1_ratio': 0.5}</td>\n",
       "      <td>-4.405</td>\n",
       "      <td>-3.509</td>\n",
       "      <td>-3.308</td>\n",
       "      <td>-4.872</td>\n",
       "      <td>-4.030</td>\n",
       "      <td>-4.025</td>\n",
       "      <td>0.573</td>\n",
       "      <td>36</td>\n",
       "    </tr>\n",
       "    <tr>\n",
       "      <th>23</th>\n",
       "      <td>0.001</td>\n",
       "      <td>0.000</td>\n",
       "      <td>0.001</td>\n",
       "      <td>0.000</td>\n",
       "      <td>0.500</td>\n",
       "      <td>0.700</td>\n",
       "      <td>{'alpha': 0.5, 'l1_ratio': 0.7}</td>\n",
       "      <td>-4.126</td>\n",
       "      <td>-3.374</td>\n",
       "      <td>-3.060</td>\n",
       "      <td>-4.507</td>\n",
       "      <td>-3.732</td>\n",
       "      <td>-3.760</td>\n",
       "      <td>0.516</td>\n",
       "      <td>33</td>\n",
       "    </tr>\n",
       "    <tr>\n",
       "      <th>24</th>\n",
       "      <td>0.001</td>\n",
       "      <td>0.000</td>\n",
       "      <td>0.000</td>\n",
       "      <td>0.000</td>\n",
       "      <td>0.500</td>\n",
       "      <td>0.900</td>\n",
       "      <td>{'alpha': 0.5, 'l1_ratio': 0.9}</td>\n",
       "      <td>-3.539</td>\n",
       "      <td>-3.186</td>\n",
       "      <td>-2.709</td>\n",
       "      <td>-4.046</td>\n",
       "      <td>-3.316</td>\n",
       "      <td>-3.359</td>\n",
       "      <td>0.438</td>\n",
       "      <td>27</td>\n",
       "    </tr>\n",
       "    <tr>\n",
       "      <th>25</th>\n",
       "      <td>0.001</td>\n",
       "      <td>0.000</td>\n",
       "      <td>0.000</td>\n",
       "      <td>0.001</td>\n",
       "      <td>0.500</td>\n",
       "      <td>0.950</td>\n",
       "      <td>{'alpha': 0.5, 'l1_ratio': 0.95}</td>\n",
       "      <td>-3.419</td>\n",
       "      <td>-3.160</td>\n",
       "      <td>-2.605</td>\n",
       "      <td>-3.920</td>\n",
       "      <td>-3.217</td>\n",
       "      <td>-3.264</td>\n",
       "      <td>0.425</td>\n",
       "      <td>23</td>\n",
       "    </tr>\n",
       "    <tr>\n",
       "      <th>26</th>\n",
       "      <td>0.000</td>\n",
       "      <td>0.000</td>\n",
       "      <td>0.000</td>\n",
       "      <td>0.000</td>\n",
       "      <td>0.500</td>\n",
       "      <td>0.990</td>\n",
       "      <td>{'alpha': 0.5, 'l1_ratio': 0.99}</td>\n",
       "      <td>-3.325</td>\n",
       "      <td>-3.142</td>\n",
       "      <td>-2.520</td>\n",
       "      <td>-3.824</td>\n",
       "      <td>-3.151</td>\n",
       "      <td>-3.192</td>\n",
       "      <td>0.418</td>\n",
       "      <td>22</td>\n",
       "    </tr>\n",
       "    <tr>\n",
       "      <th>27</th>\n",
       "      <td>0.003</td>\n",
       "      <td>0.006</td>\n",
       "      <td>0.000</td>\n",
       "      <td>0.000</td>\n",
       "      <td>0.500</td>\n",
       "      <td>1</td>\n",
       "      <td>{'alpha': 0.5, 'l1_ratio': 1}</td>\n",
       "      <td>-3.303</td>\n",
       "      <td>-3.138</td>\n",
       "      <td>-2.498</td>\n",
       "      <td>-3.801</td>\n",
       "      <td>-3.137</td>\n",
       "      <td>-3.176</td>\n",
       "      <td>0.417</td>\n",
       "      <td>21</td>\n",
       "    </tr>\n",
       "    <tr>\n",
       "      <th>28</th>\n",
       "      <td>0.000</td>\n",
       "      <td>0.000</td>\n",
       "      <td>0.000</td>\n",
       "      <td>0.000</td>\n",
       "      <td>0.600</td>\n",
       "      <td>0.100</td>\n",
       "      <td>{'alpha': 0.6, 'l1_ratio': 0.1}</td>\n",
       "      <td>-5.064</td>\n",
       "      <td>-3.924</td>\n",
       "      <td>-3.942</td>\n",
       "      <td>-5.774</td>\n",
       "      <td>-4.745</td>\n",
       "      <td>-4.690</td>\n",
       "      <td>0.702</td>\n",
       "      <td>45</td>\n",
       "    </tr>\n",
       "    <tr>\n",
       "      <th>29</th>\n",
       "      <td>0.003</td>\n",
       "      <td>0.006</td>\n",
       "      <td>0.000</td>\n",
       "      <td>0.000</td>\n",
       "      <td>0.600</td>\n",
       "      <td>0.500</td>\n",
       "      <td>{'alpha': 0.6, 'l1_ratio': 0.5}</td>\n",
       "      <td>-4.701</td>\n",
       "      <td>-3.672</td>\n",
       "      <td>-3.583</td>\n",
       "      <td>-5.231</td>\n",
       "      <td>-4.333</td>\n",
       "      <td>-4.304</td>\n",
       "      <td>0.623</td>\n",
       "      <td>41</td>\n",
       "    </tr>\n",
       "    <tr>\n",
       "      <th>30</th>\n",
       "      <td>0.000</td>\n",
       "      <td>0.000</td>\n",
       "      <td>0.000</td>\n",
       "      <td>0.000</td>\n",
       "      <td>0.600</td>\n",
       "      <td>0.700</td>\n",
       "      <td>{'alpha': 0.6, 'l1_ratio': 0.7}</td>\n",
       "      <td>-4.357</td>\n",
       "      <td>-3.518</td>\n",
       "      <td>-3.326</td>\n",
       "      <td>-4.847</td>\n",
       "      <td>-4.025</td>\n",
       "      <td>-4.015</td>\n",
       "      <td>0.553</td>\n",
       "      <td>35</td>\n",
       "    </tr>\n",
       "    <tr>\n",
       "      <th>31</th>\n",
       "      <td>0.000</td>\n",
       "      <td>0.000</td>\n",
       "      <td>0.003</td>\n",
       "      <td>0.006</td>\n",
       "      <td>0.600</td>\n",
       "      <td>0.900</td>\n",
       "      <td>{'alpha': 0.6, 'l1_ratio': 0.9}</td>\n",
       "      <td>-3.713</td>\n",
       "      <td>-3.288</td>\n",
       "      <td>-2.928</td>\n",
       "      <td>-4.316</td>\n",
       "      <td>-3.557</td>\n",
       "      <td>-3.561</td>\n",
       "      <td>0.462</td>\n",
       "      <td>31</td>\n",
       "    </tr>\n",
       "    <tr>\n",
       "      <th>32</th>\n",
       "      <td>0.000</td>\n",
       "      <td>0.000</td>\n",
       "      <td>0.000</td>\n",
       "      <td>0.000</td>\n",
       "      <td>0.600</td>\n",
       "      <td>0.950</td>\n",
       "      <td>{'alpha': 0.6, 'l1_ratio': 0.95}</td>\n",
       "      <td>-3.569</td>\n",
       "      <td>-3.259</td>\n",
       "      <td>-2.808</td>\n",
       "      <td>-4.160</td>\n",
       "      <td>-3.427</td>\n",
       "      <td>-3.445</td>\n",
       "      <td>0.440</td>\n",
       "      <td>28</td>\n",
       "    </tr>\n",
       "    <tr>\n",
       "      <th>33</th>\n",
       "      <td>0.003</td>\n",
       "      <td>0.006</td>\n",
       "      <td>0.000</td>\n",
       "      <td>0.000</td>\n",
       "      <td>0.600</td>\n",
       "      <td>0.990</td>\n",
       "      <td>{'alpha': 0.6, 'l1_ratio': 0.99}</td>\n",
       "      <td>-3.457</td>\n",
       "      <td>-3.242</td>\n",
       "      <td>-2.707</td>\n",
       "      <td>-4.036</td>\n",
       "      <td>-3.334</td>\n",
       "      <td>-3.355</td>\n",
       "      <td>0.426</td>\n",
       "      <td>26</td>\n",
       "    </tr>\n",
       "    <tr>\n",
       "      <th>34</th>\n",
       "      <td>0.000</td>\n",
       "      <td>0.000</td>\n",
       "      <td>0.000</td>\n",
       "      <td>0.000</td>\n",
       "      <td>0.600</td>\n",
       "      <td>1</td>\n",
       "      <td>{'alpha': 0.6, 'l1_ratio': 1}</td>\n",
       "      <td>-3.430</td>\n",
       "      <td>-3.239</td>\n",
       "      <td>-2.682</td>\n",
       "      <td>-4.006</td>\n",
       "      <td>-3.313</td>\n",
       "      <td>-3.334</td>\n",
       "      <td>0.423</td>\n",
       "      <td>24</td>\n",
       "    </tr>\n",
       "    <tr>\n",
       "      <th>35</th>\n",
       "      <td>0.000</td>\n",
       "      <td>0.000</td>\n",
       "      <td>0.000</td>\n",
       "      <td>0.000</td>\n",
       "      <td>0.700</td>\n",
       "      <td>0.100</td>\n",
       "      <td>{'alpha': 0.7, 'l1_ratio': 0.1}</td>\n",
       "      <td>-5.293</td>\n",
       "      <td>-4.067</td>\n",
       "      <td>-4.174</td>\n",
       "      <td>-6.075</td>\n",
       "      <td>-5.002</td>\n",
       "      <td>-4.922</td>\n",
       "      <td>0.744</td>\n",
       "      <td>46</td>\n",
       "    </tr>\n",
       "    <tr>\n",
       "      <th>36</th>\n",
       "      <td>0.003</td>\n",
       "      <td>0.006</td>\n",
       "      <td>0.000</td>\n",
       "      <td>0.000</td>\n",
       "      <td>0.700</td>\n",
       "      <td>0.500</td>\n",
       "      <td>{'alpha': 0.7, 'l1_ratio': 0.5}</td>\n",
       "      <td>-4.963</td>\n",
       "      <td>-3.824</td>\n",
       "      <td>-3.835</td>\n",
       "      <td>-5.565</td>\n",
       "      <td>-4.613</td>\n",
       "      <td>-4.560</td>\n",
       "      <td>0.670</td>\n",
       "      <td>44</td>\n",
       "    </tr>\n",
       "    <tr>\n",
       "      <th>37</th>\n",
       "      <td>0.000</td>\n",
       "      <td>0.000</td>\n",
       "      <td>0.000</td>\n",
       "      <td>0.000</td>\n",
       "      <td>0.700</td>\n",
       "      <td>0.700</td>\n",
       "      <td>{'alpha': 0.7, 'l1_ratio': 0.7}</td>\n",
       "      <td>-4.571</td>\n",
       "      <td>-3.664</td>\n",
       "      <td>-3.580</td>\n",
       "      <td>-5.182</td>\n",
       "      <td>-4.312</td>\n",
       "      <td>-4.262</td>\n",
       "      <td>0.595</td>\n",
       "      <td>39</td>\n",
       "    </tr>\n",
       "    <tr>\n",
       "      <th>38</th>\n",
       "      <td>0.003</td>\n",
       "      <td>0.006</td>\n",
       "      <td>0.000</td>\n",
       "      <td>0.000</td>\n",
       "      <td>0.700</td>\n",
       "      <td>0.900</td>\n",
       "      <td>{'alpha': 0.7, 'l1_ratio': 0.9}</td>\n",
       "      <td>-3.889</td>\n",
       "      <td>-3.407</td>\n",
       "      <td>-3.154</td>\n",
       "      <td>-4.610</td>\n",
       "      <td>-3.811</td>\n",
       "      <td>-3.774</td>\n",
       "      <td>0.497</td>\n",
       "      <td>34</td>\n",
       "    </tr>\n",
       "    <tr>\n",
       "      <th>39</th>\n",
       "      <td>0.000</td>\n",
       "      <td>0.000</td>\n",
       "      <td>0.000</td>\n",
       "      <td>0.000</td>\n",
       "      <td>0.700</td>\n",
       "      <td>0.950</td>\n",
       "      <td>{'alpha': 0.7, 'l1_ratio': 0.95}</td>\n",
       "      <td>-3.724</td>\n",
       "      <td>-3.381</td>\n",
       "      <td>-3.021</td>\n",
       "      <td>-4.431</td>\n",
       "      <td>-3.656</td>\n",
       "      <td>-3.643</td>\n",
       "      <td>0.466</td>\n",
       "      <td>32</td>\n",
       "    </tr>\n",
       "    <tr>\n",
       "      <th>40</th>\n",
       "      <td>0.000</td>\n",
       "      <td>0.000</td>\n",
       "      <td>0.000</td>\n",
       "      <td>0.000</td>\n",
       "      <td>0.700</td>\n",
       "      <td>0.990</td>\n",
       "      <td>{'alpha': 0.7, 'l1_ratio': 0.99}</td>\n",
       "      <td>-3.594</td>\n",
       "      <td>-3.369</td>\n",
       "      <td>-2.908</td>\n",
       "      <td>-4.285</td>\n",
       "      <td>-3.538</td>\n",
       "      <td>-3.539</td>\n",
       "      <td>0.444</td>\n",
       "      <td>30</td>\n",
       "    </tr>\n",
       "    <tr>\n",
       "      <th>41</th>\n",
       "      <td>0.000</td>\n",
       "      <td>0.000</td>\n",
       "      <td>0.000</td>\n",
       "      <td>0.000</td>\n",
       "      <td>0.700</td>\n",
       "      <td>1</td>\n",
       "      <td>{'alpha': 0.7, 'l1_ratio': 1}</td>\n",
       "      <td>-3.562</td>\n",
       "      <td>-3.368</td>\n",
       "      <td>-2.879</td>\n",
       "      <td>-4.248</td>\n",
       "      <td>-3.510</td>\n",
       "      <td>-3.514</td>\n",
       "      <td>0.440</td>\n",
       "      <td>29</td>\n",
       "    </tr>\n",
       "    <tr>\n",
       "      <th>42</th>\n",
       "      <td>0.003</td>\n",
       "      <td>0.006</td>\n",
       "      <td>0.000</td>\n",
       "      <td>0.000</td>\n",
       "      <td>1</td>\n",
       "      <td>0.100</td>\n",
       "      <td>{'alpha': 1, 'l1_ratio': 0.1}</td>\n",
       "      <td>-5.808</td>\n",
       "      <td>-4.401</td>\n",
       "      <td>-4.716</td>\n",
       "      <td>-6.777</td>\n",
       "      <td>-5.597</td>\n",
       "      <td>-5.460</td>\n",
       "      <td>0.842</td>\n",
       "      <td>49</td>\n",
       "    </tr>\n",
       "    <tr>\n",
       "      <th>43</th>\n",
       "      <td>0.000</td>\n",
       "      <td>0.000</td>\n",
       "      <td>0.000</td>\n",
       "      <td>0.000</td>\n",
       "      <td>1</td>\n",
       "      <td>0.500</td>\n",
       "      <td>{'alpha': 1, 'l1_ratio': 0.5}</td>\n",
       "      <td>-5.473</td>\n",
       "      <td>-4.220</td>\n",
       "      <td>-4.479</td>\n",
       "      <td>-6.420</td>\n",
       "      <td>-5.328</td>\n",
       "      <td>-5.184</td>\n",
       "      <td>0.782</td>\n",
       "      <td>48</td>\n",
       "    </tr>\n",
       "    <tr>\n",
       "      <th>44</th>\n",
       "      <td>0.004</td>\n",
       "      <td>0.006</td>\n",
       "      <td>0.000</td>\n",
       "      <td>0.000</td>\n",
       "      <td>1</td>\n",
       "      <td>0.700</td>\n",
       "      <td>{'alpha': 1, 'l1_ratio': 0.7}</td>\n",
       "      <td>-5.122</td>\n",
       "      <td>-4.062</td>\n",
       "      <td>-4.256</td>\n",
       "      <td>-6.115</td>\n",
       "      <td>-5.103</td>\n",
       "      <td>-4.932</td>\n",
       "      <td>0.732</td>\n",
       "      <td>47</td>\n",
       "    </tr>\n",
       "    <tr>\n",
       "      <th>45</th>\n",
       "      <td>0.001</td>\n",
       "      <td>0.000</td>\n",
       "      <td>0.000</td>\n",
       "      <td>0.000</td>\n",
       "      <td>1</td>\n",
       "      <td>0.900</td>\n",
       "      <td>{'alpha': 1, 'l1_ratio': 0.9}</td>\n",
       "      <td>-4.413</td>\n",
       "      <td>-3.834</td>\n",
       "      <td>-3.840</td>\n",
       "      <td>-5.558</td>\n",
       "      <td>-4.602</td>\n",
       "      <td>-4.449</td>\n",
       "      <td>0.633</td>\n",
       "      <td>43</td>\n",
       "    </tr>\n",
       "    <tr>\n",
       "      <th>46</th>\n",
       "      <td>0.002</td>\n",
       "      <td>0.004</td>\n",
       "      <td>0.000</td>\n",
       "      <td>0.000</td>\n",
       "      <td>1</td>\n",
       "      <td>0.950</td>\n",
       "      <td>{'alpha': 1, 'l1_ratio': 0.95}</td>\n",
       "      <td>-4.205</td>\n",
       "      <td>-3.841</td>\n",
       "      <td>-3.694</td>\n",
       "      <td>-5.360</td>\n",
       "      <td>-4.407</td>\n",
       "      <td>-4.302</td>\n",
       "      <td>0.587</td>\n",
       "      <td>40</td>\n",
       "    </tr>\n",
       "    <tr>\n",
       "      <th>47</th>\n",
       "      <td>0.000</td>\n",
       "      <td>0.000</td>\n",
       "      <td>0.000</td>\n",
       "      <td>0.000</td>\n",
       "      <td>1</td>\n",
       "      <td>0.990</td>\n",
       "      <td>{'alpha': 1, 'l1_ratio': 0.99}</td>\n",
       "      <td>-4.030</td>\n",
       "      <td>-3.878</td>\n",
       "      <td>-3.564</td>\n",
       "      <td>-5.188</td>\n",
       "      <td>-4.239</td>\n",
       "      <td>-4.180</td>\n",
       "      <td>0.550</td>\n",
       "      <td>38</td>\n",
       "    </tr>\n",
       "    <tr>\n",
       "      <th>48</th>\n",
       "      <td>0.003</td>\n",
       "      <td>0.006</td>\n",
       "      <td>0.000</td>\n",
       "      <td>0.000</td>\n",
       "      <td>1</td>\n",
       "      <td>1</td>\n",
       "      <td>{'alpha': 1, 'l1_ratio': 1}</td>\n",
       "      <td>-3.988</td>\n",
       "      <td>-3.894</td>\n",
       "      <td>-3.530</td>\n",
       "      <td>-5.143</td>\n",
       "      <td>-4.196</td>\n",
       "      <td>-4.150</td>\n",
       "      <td>0.541</td>\n",
       "      <td>37</td>\n",
       "    </tr>\n",
       "  </tbody>\n",
       "</table>\n",
       "</div>"
      ],
      "text/plain": [
       "    mean_fit_time  std_fit_time  mean_score_time  std_score_time param_alpha  \\\n",
       "0           0.002         0.001            0.001           0.001       0.010   \n",
       "1           0.002         0.000            0.000           0.000       0.010   \n",
       "2           0.002         0.001            0.000           0.000       0.010   \n",
       "3           0.001         0.000            0.000           0.000       0.010   \n",
       "4           0.001         0.000            0.001           0.000       0.010   \n",
       "5           0.001         0.000            0.000           0.000       0.010   \n",
       "6           0.001         0.000            0.000           0.000       0.010   \n",
       "7           0.001         0.000            0.000           0.000       0.012   \n",
       "8           0.001         0.000            0.000           0.000       0.012   \n",
       "9           0.001         0.000            0.000           0.000       0.012   \n",
       "10          0.001         0.000            0.000           0.000       0.012   \n",
       "11          0.001         0.000            0.001           0.000       0.012   \n",
       "12          0.001         0.000            0.001           0.000       0.012   \n",
       "13          0.001         0.000            0.000           0.000       0.012   \n",
       "14          0.001         0.000            0.000           0.000       0.200   \n",
       "15          0.001         0.000            0.000           0.000       0.200   \n",
       "16          0.000         0.000            0.000           0.000       0.200   \n",
       "17          0.000         0.000            0.003           0.006       0.200   \n",
       "18          0.000         0.000            0.000           0.000       0.200   \n",
       "19          0.003         0.006            0.000           0.000       0.200   \n",
       "20          0.002         0.002            0.000           0.000       0.200   \n",
       "21          0.002         0.002            0.000           0.001       0.500   \n",
       "22          0.001         0.000            0.000           0.000       0.500   \n",
       "23          0.001         0.000            0.001           0.000       0.500   \n",
       "24          0.001         0.000            0.000           0.000       0.500   \n",
       "25          0.001         0.000            0.000           0.001       0.500   \n",
       "26          0.000         0.000            0.000           0.000       0.500   \n",
       "27          0.003         0.006            0.000           0.000       0.500   \n",
       "28          0.000         0.000            0.000           0.000       0.600   \n",
       "29          0.003         0.006            0.000           0.000       0.600   \n",
       "30          0.000         0.000            0.000           0.000       0.600   \n",
       "31          0.000         0.000            0.003           0.006       0.600   \n",
       "32          0.000         0.000            0.000           0.000       0.600   \n",
       "33          0.003         0.006            0.000           0.000       0.600   \n",
       "34          0.000         0.000            0.000           0.000       0.600   \n",
       "35          0.000         0.000            0.000           0.000       0.700   \n",
       "36          0.003         0.006            0.000           0.000       0.700   \n",
       "37          0.000         0.000            0.000           0.000       0.700   \n",
       "38          0.003         0.006            0.000           0.000       0.700   \n",
       "39          0.000         0.000            0.000           0.000       0.700   \n",
       "40          0.000         0.000            0.000           0.000       0.700   \n",
       "41          0.000         0.000            0.000           0.000       0.700   \n",
       "42          0.003         0.006            0.000           0.000           1   \n",
       "43          0.000         0.000            0.000           0.000           1   \n",
       "44          0.004         0.006            0.000           0.000           1   \n",
       "45          0.001         0.000            0.000           0.000           1   \n",
       "46          0.002         0.004            0.000           0.000           1   \n",
       "47          0.000         0.000            0.000           0.000           1   \n",
       "48          0.003         0.006            0.000           0.000           1   \n",
       "\n",
       "   param_l1_ratio                              params  split0_test_score  \\\n",
       "0           0.100    {'alpha': 0.01, 'l1_ratio': 0.1}             -2.652   \n",
       "1           0.500    {'alpha': 0.01, 'l1_ratio': 0.5}             -2.642   \n",
       "2           0.700    {'alpha': 0.01, 'l1_ratio': 0.7}             -2.640   \n",
       "3           0.900    {'alpha': 0.01, 'l1_ratio': 0.9}             -2.640   \n",
       "4           0.950   {'alpha': 0.01, 'l1_ratio': 0.95}             -2.642   \n",
       "5           0.990   {'alpha': 0.01, 'l1_ratio': 0.99}             -2.644   \n",
       "6               1      {'alpha': 0.01, 'l1_ratio': 1}             -2.645   \n",
       "7           0.100   {'alpha': 0.012, 'l1_ratio': 0.1}             -2.658   \n",
       "8           0.500   {'alpha': 0.012, 'l1_ratio': 0.5}             -2.646   \n",
       "9           0.700   {'alpha': 0.012, 'l1_ratio': 0.7}             -2.641   \n",
       "10          0.900   {'alpha': 0.012, 'l1_ratio': 0.9}             -2.639   \n",
       "11          0.950  {'alpha': 0.012, 'l1_ratio': 0.95}             -2.640   \n",
       "12          0.990  {'alpha': 0.012, 'l1_ratio': 0.99}             -2.642   \n",
       "13              1     {'alpha': 0.012, 'l1_ratio': 1}             -2.643   \n",
       "14          0.100     {'alpha': 0.2, 'l1_ratio': 0.1}             -3.636   \n",
       "15          0.500     {'alpha': 0.2, 'l1_ratio': 0.5}             -3.349   \n",
       "16          0.700     {'alpha': 0.2, 'l1_ratio': 0.7}             -3.193   \n",
       "17          0.900     {'alpha': 0.2, 'l1_ratio': 0.9}             -3.023   \n",
       "18          0.950    {'alpha': 0.2, 'l1_ratio': 0.95}             -2.974   \n",
       "19          0.990    {'alpha': 0.2, 'l1_ratio': 0.99}             -2.939   \n",
       "20              1       {'alpha': 0.2, 'l1_ratio': 1}             -2.930   \n",
       "21          0.100     {'alpha': 0.5, 'l1_ratio': 0.1}             -4.795   \n",
       "22          0.500     {'alpha': 0.5, 'l1_ratio': 0.5}             -4.405   \n",
       "23          0.700     {'alpha': 0.5, 'l1_ratio': 0.7}             -4.126   \n",
       "24          0.900     {'alpha': 0.5, 'l1_ratio': 0.9}             -3.539   \n",
       "25          0.950    {'alpha': 0.5, 'l1_ratio': 0.95}             -3.419   \n",
       "26          0.990    {'alpha': 0.5, 'l1_ratio': 0.99}             -3.325   \n",
       "27              1       {'alpha': 0.5, 'l1_ratio': 1}             -3.303   \n",
       "28          0.100     {'alpha': 0.6, 'l1_ratio': 0.1}             -5.064   \n",
       "29          0.500     {'alpha': 0.6, 'l1_ratio': 0.5}             -4.701   \n",
       "30          0.700     {'alpha': 0.6, 'l1_ratio': 0.7}             -4.357   \n",
       "31          0.900     {'alpha': 0.6, 'l1_ratio': 0.9}             -3.713   \n",
       "32          0.950    {'alpha': 0.6, 'l1_ratio': 0.95}             -3.569   \n",
       "33          0.990    {'alpha': 0.6, 'l1_ratio': 0.99}             -3.457   \n",
       "34              1       {'alpha': 0.6, 'l1_ratio': 1}             -3.430   \n",
       "35          0.100     {'alpha': 0.7, 'l1_ratio': 0.1}             -5.293   \n",
       "36          0.500     {'alpha': 0.7, 'l1_ratio': 0.5}             -4.963   \n",
       "37          0.700     {'alpha': 0.7, 'l1_ratio': 0.7}             -4.571   \n",
       "38          0.900     {'alpha': 0.7, 'l1_ratio': 0.9}             -3.889   \n",
       "39          0.950    {'alpha': 0.7, 'l1_ratio': 0.95}             -3.724   \n",
       "40          0.990    {'alpha': 0.7, 'l1_ratio': 0.99}             -3.594   \n",
       "41              1       {'alpha': 0.7, 'l1_ratio': 1}             -3.562   \n",
       "42          0.100       {'alpha': 1, 'l1_ratio': 0.1}             -5.808   \n",
       "43          0.500       {'alpha': 1, 'l1_ratio': 0.5}             -5.473   \n",
       "44          0.700       {'alpha': 1, 'l1_ratio': 0.7}             -5.122   \n",
       "45          0.900       {'alpha': 1, 'l1_ratio': 0.9}             -4.413   \n",
       "46          0.950      {'alpha': 1, 'l1_ratio': 0.95}             -4.205   \n",
       "47          0.990      {'alpha': 1, 'l1_ratio': 0.99}             -4.030   \n",
       "48              1         {'alpha': 1, 'l1_ratio': 1}             -3.988   \n",
       "\n",
       "    split1_test_score  split2_test_score  split3_test_score  \\\n",
       "0              -3.060             -1.837             -3.328   \n",
       "1              -3.073             -1.832             -3.335   \n",
       "2              -3.080             -1.831             -3.342   \n",
       "3              -3.089             -1.831             -3.352   \n",
       "4              -3.091             -1.831             -3.354   \n",
       "5              -3.094             -1.832             -3.357   \n",
       "6              -3.094             -1.832             -3.358   \n",
       "7              -3.053             -1.840             -3.330   \n",
       "8              -3.068             -1.834             -3.338   \n",
       "9              -3.076             -1.833             -3.345   \n",
       "10             -3.084             -1.835             -3.356   \n",
       "11             -3.087             -1.837             -3.361   \n",
       "12             -3.089             -1.839             -3.367   \n",
       "13             -3.090             -1.840             -3.368   \n",
       "14             -3.138             -2.610             -4.071   \n",
       "15             -3.041             -2.347             -3.742   \n",
       "16             -3.019             -2.220             -3.599   \n",
       "17             -3.039             -2.106             -3.503   \n",
       "18             -3.033             -2.069             -3.486   \n",
       "19             -3.030             -2.037             -3.475   \n",
       "20             -3.029             -2.029             -3.472   \n",
       "21             -3.757             -3.676             -5.429   \n",
       "22             -3.509             -3.308             -4.872   \n",
       "23             -3.374             -3.060             -4.507   \n",
       "24             -3.186             -2.709             -4.046   \n",
       "25             -3.160             -2.605             -3.920   \n",
       "26             -3.142             -2.520             -3.824   \n",
       "27             -3.138             -2.498             -3.801   \n",
       "28             -3.924             -3.942             -5.774   \n",
       "29             -3.672             -3.583             -5.231   \n",
       "30             -3.518             -3.326             -4.847   \n",
       "31             -3.288             -2.928             -4.316   \n",
       "32             -3.259             -2.808             -4.160   \n",
       "33             -3.242             -2.707             -4.036   \n",
       "34             -3.239             -2.682             -4.006   \n",
       "35             -4.067             -4.174             -6.075   \n",
       "36             -3.824             -3.835             -5.565   \n",
       "37             -3.664             -3.580             -5.182   \n",
       "38             -3.407             -3.154             -4.610   \n",
       "39             -3.381             -3.021             -4.431   \n",
       "40             -3.369             -2.908             -4.285   \n",
       "41             -3.368             -2.879             -4.248   \n",
       "42             -4.401             -4.716             -6.777   \n",
       "43             -4.220             -4.479             -6.420   \n",
       "44             -4.062             -4.256             -6.115   \n",
       "45             -3.834             -3.840             -5.558   \n",
       "46             -3.841             -3.694             -5.360   \n",
       "47             -3.878             -3.564             -5.188   \n",
       "48             -3.894             -3.530             -5.143   \n",
       "\n",
       "    split4_test_score  mean_test_score  std_test_score  rank_test_score  \n",
       "0              -2.678           -2.711           0.504                1  \n",
       "1              -2.680           -2.713           0.510                3  \n",
       "2              -2.682           -2.715           0.513                5  \n",
       "3              -2.684           -2.719           0.517                7  \n",
       "4              -2.684           -2.720           0.517                9  \n",
       "5              -2.684           -2.722           0.518               11  \n",
       "6              -2.685           -2.723           0.518               12  \n",
       "7              -2.678           -2.712           0.502                2  \n",
       "8              -2.679           -2.713           0.509                4  \n",
       "9              -2.681           -2.715           0.512                6  \n",
       "10             -2.684           -2.720           0.515                8  \n",
       "11             -2.685           -2.722           0.516               10  \n",
       "12             -2.685           -2.724           0.517               13  \n",
       "13             -2.685           -2.725           0.518               14  \n",
       "14             -3.285           -3.348           0.490               25  \n",
       "15             -3.045           -3.105           0.458               20  \n",
       "16             -2.918           -2.990           0.450               19  \n",
       "17             -2.794           -2.893           0.456               18  \n",
       "18             -2.779           -2.868           0.462               17  \n",
       "19             -2.779           -2.852           0.468               16  \n",
       "20             -2.782           -2.848           0.470               15  \n",
       "21             -4.448           -4.421           0.656               42  \n",
       "22             -4.030           -4.025           0.573               36  \n",
       "23             -3.732           -3.760           0.516               33  \n",
       "24             -3.316           -3.359           0.438               27  \n",
       "25             -3.217           -3.264           0.425               23  \n",
       "26             -3.151           -3.192           0.418               22  \n",
       "27             -3.137           -3.176           0.417               21  \n",
       "28             -4.745           -4.690           0.702               45  \n",
       "29             -4.333           -4.304           0.623               41  \n",
       "30             -4.025           -4.015           0.553               35  \n",
       "31             -3.557           -3.561           0.462               31  \n",
       "32             -3.427           -3.445           0.440               28  \n",
       "33             -3.334           -3.355           0.426               26  \n",
       "34             -3.313           -3.334           0.423               24  \n",
       "35             -5.002           -4.922           0.744               46  \n",
       "36             -4.613           -4.560           0.670               44  \n",
       "37             -4.312           -4.262           0.595               39  \n",
       "38             -3.811           -3.774           0.497               34  \n",
       "39             -3.656           -3.643           0.466               32  \n",
       "40             -3.538           -3.539           0.444               30  \n",
       "41             -3.510           -3.514           0.440               29  \n",
       "42             -5.597           -5.460           0.842               49  \n",
       "43             -5.328           -5.184           0.782               48  \n",
       "44             -5.103           -4.932           0.732               47  \n",
       "45             -4.602           -4.449           0.633               43  \n",
       "46             -4.407           -4.302           0.587               40  \n",
       "47             -4.239           -4.180           0.550               38  \n",
       "48             -4.196           -4.150           0.541               37  "
      ]
     },
     "execution_count": 133,
     "metadata": {},
     "output_type": "execute_result"
    }
   ],
   "source": [
    "pd.DataFrame(grid_model.cv_results_)"
   ]
  },
  {
   "cell_type": "code",
   "execution_count": 134,
   "metadata": {
    "colab": {
     "base_uri": "https://localhost:8080/"
    },
    "id": "d43435bf",
    "outputId": "2b7cd21f-b2f6-47dd-a9cd-b4e73b1539db"
   },
   "outputs": [
    {
     "data": {
      "text/plain": [
       "0"
      ]
     },
     "execution_count": 134,
     "metadata": {},
     "output_type": "execute_result"
    }
   ],
   "source": [
    "grid_model.best_index_"
   ]
  },
  {
   "cell_type": "code",
   "execution_count": 135,
   "metadata": {
    "colab": {
     "base_uri": "https://localhost:8080/"
    },
    "id": "8f454deb",
    "outputId": "b9aab7e6-b866-40ea-f50f-b5ba0983fbdf"
   },
   "outputs": [
    {
     "data": {
      "text/plain": [
       "-2.7110491569224235"
      ]
     },
     "execution_count": 135,
     "metadata": {},
     "output_type": "execute_result"
    }
   ],
   "source": [
    "grid_model.best_score_"
   ]
  },
  {
   "cell_type": "markdown",
   "metadata": {
    "id": "fewer-defensive"
   },
   "source": [
    "## Using Best Hyper Parameters From GridSearch"
   ]
  },
  {
   "cell_type": "code",
   "execution_count": 136,
   "metadata": {
    "id": "baking-gossip"
   },
   "outputs": [],
   "source": [
    "y_pred = grid_model.predict(X_test_scaled)\n",
    "y_train_pred = grid_model.predict(X_train_scaled)"
   ]
  },
  {
   "cell_type": "code",
   "execution_count": 137,
   "metadata": {
    "colab": {
     "base_uri": "https://localhost:8080/",
     "height": 175
    },
    "id": "2a04b681",
    "outputId": "9ea716e7-f945-474e-8983-0159f694d1ab"
   },
   "outputs": [
    {
     "data": {
      "text/html": [
       "<div>\n",
       "<style scoped>\n",
       "    .dataframe tbody tr th:only-of-type {\n",
       "        vertical-align: middle;\n",
       "    }\n",
       "\n",
       "    .dataframe tbody tr th {\n",
       "        vertical-align: top;\n",
       "    }\n",
       "\n",
       "    .dataframe thead th {\n",
       "        text-align: right;\n",
       "    }\n",
       "</style>\n",
       "<table border=\"1\" class=\"dataframe\">\n",
       "  <thead>\n",
       "    <tr style=\"text-align: right;\">\n",
       "      <th></th>\n",
       "      <th>GridSearch_train</th>\n",
       "      <th>GridSearch_test</th>\n",
       "    </tr>\n",
       "  </thead>\n",
       "  <tbody>\n",
       "    <tr>\n",
       "      <th>R2</th>\n",
       "      <td>0.899</td>\n",
       "      <td>0.923</td>\n",
       "    </tr>\n",
       "    <tr>\n",
       "      <th>mae</th>\n",
       "      <td>2.001</td>\n",
       "      <td>1.693</td>\n",
       "    </tr>\n",
       "    <tr>\n",
       "      <th>mse</th>\n",
       "      <td>6.287</td>\n",
       "      <td>4.367</td>\n",
       "    </tr>\n",
       "    <tr>\n",
       "      <th>rmse</th>\n",
       "      <td>2.507</td>\n",
       "      <td>2.090</td>\n",
       "    </tr>\n",
       "  </tbody>\n",
       "</table>\n",
       "</div>"
      ],
      "text/plain": [
       "      GridSearch_train  GridSearch_test\n",
       "R2               0.899            0.923\n",
       "mae              2.001            1.693\n",
       "mse              6.287            4.367\n",
       "rmse             2.507            2.090"
      ]
     },
     "execution_count": 137,
     "metadata": {},
     "output_type": "execute_result"
    }
   ],
   "source": [
    "gs = train_val(y_train, y_train_pred, y_test, y_pred, \"GridSearch\")\n",
    "gs"
   ]
  },
  {
   "cell_type": "code",
   "execution_count": 138,
   "metadata": {
    "colab": {
     "base_uri": "https://localhost:8080/",
     "height": 239
    },
    "id": "gL__HjCfke6w",
    "outputId": "f02edb6c-5a20-45ac-c3ce-a4a9c6631529"
   },
   "outputs": [
    {
     "data": {
      "text/html": [
       "<div>\n",
       "<style scoped>\n",
       "    .dataframe tbody tr th:only-of-type {\n",
       "        vertical-align: middle;\n",
       "    }\n",
       "\n",
       "    .dataframe tbody tr th {\n",
       "        vertical-align: top;\n",
       "    }\n",
       "\n",
       "    .dataframe thead th {\n",
       "        text-align: right;\n",
       "    }\n",
       "</style>\n",
       "<table border=\"1\" class=\"dataframe\">\n",
       "  <thead>\n",
       "    <tr style=\"text-align: right;\">\n",
       "      <th></th>\n",
       "      <th>R2</th>\n",
       "      <th>mae</th>\n",
       "      <th>mse</th>\n",
       "      <th>rmse</th>\n",
       "    </tr>\n",
       "  </thead>\n",
       "  <tbody>\n",
       "    <tr>\n",
       "      <th>linear_train</th>\n",
       "      <td>0.900</td>\n",
       "      <td>1.992</td>\n",
       "      <td>6.237</td>\n",
       "      <td>2.497</td>\n",
       "    </tr>\n",
       "    <tr>\n",
       "      <th>linear_test</th>\n",
       "      <td>0.921</td>\n",
       "      <td>1.716</td>\n",
       "      <td>4.439</td>\n",
       "      <td>2.107</td>\n",
       "    </tr>\n",
       "    <tr>\n",
       "      <th>ridge_train</th>\n",
       "      <td>0.899</td>\n",
       "      <td>2.003</td>\n",
       "      <td>6.313</td>\n",
       "      <td>2.513</td>\n",
       "    </tr>\n",
       "    <tr>\n",
       "      <th>ridge_test</th>\n",
       "      <td>0.922</td>\n",
       "      <td>1.699</td>\n",
       "      <td>4.398</td>\n",
       "      <td>2.097</td>\n",
       "    </tr>\n",
       "    <tr>\n",
       "      <th>ridge_cv_train</th>\n",
       "      <td>0.900</td>\n",
       "      <td>1.999</td>\n",
       "      <td>6.267</td>\n",
       "      <td>2.503</td>\n",
       "    </tr>\n",
       "    <tr>\n",
       "      <th>ridge_cv_test</th>\n",
       "      <td>0.923</td>\n",
       "      <td>1.694</td>\n",
       "      <td>4.357</td>\n",
       "      <td>2.087</td>\n",
       "    </tr>\n",
       "    <tr>\n",
       "      <th>lasso_train</th>\n",
       "      <td>0.768</td>\n",
       "      <td>3.016</td>\n",
       "      <td>14.521</td>\n",
       "      <td>3.811</td>\n",
       "    </tr>\n",
       "    <tr>\n",
       "      <th>lasso_test</th>\n",
       "      <td>0.816</td>\n",
       "      <td>2.588</td>\n",
       "      <td>10.343</td>\n",
       "      <td>3.216</td>\n",
       "    </tr>\n",
       "    <tr>\n",
       "      <th>lasso_cv_train</th>\n",
       "      <td>0.900</td>\n",
       "      <td>1.998</td>\n",
       "      <td>6.259</td>\n",
       "      <td>2.502</td>\n",
       "    </tr>\n",
       "    <tr>\n",
       "      <th>lasso_cv_test</th>\n",
       "      <td>0.923</td>\n",
       "      <td>1.687</td>\n",
       "      <td>4.346</td>\n",
       "      <td>2.085</td>\n",
       "    </tr>\n",
       "    <tr>\n",
       "      <th>elastic_train</th>\n",
       "      <td>0.625</td>\n",
       "      <td>3.870</td>\n",
       "      <td>23.448</td>\n",
       "      <td>4.842</td>\n",
       "    </tr>\n",
       "    <tr>\n",
       "      <th>elastic_test</th>\n",
       "      <td>0.625</td>\n",
       "      <td>3.724</td>\n",
       "      <td>21.153</td>\n",
       "      <td>4.599</td>\n",
       "    </tr>\n",
       "    <tr>\n",
       "      <th>elastic_cv_train</th>\n",
       "      <td>0.899</td>\n",
       "      <td>2.001</td>\n",
       "      <td>6.287</td>\n",
       "      <td>2.507</td>\n",
       "    </tr>\n",
       "    <tr>\n",
       "      <th>elastic_cv_test</th>\n",
       "      <td>0.923</td>\n",
       "      <td>1.693</td>\n",
       "      <td>4.367</td>\n",
       "      <td>2.090</td>\n",
       "    </tr>\n",
       "    <tr>\n",
       "      <th>GridSearch_train</th>\n",
       "      <td>0.899</td>\n",
       "      <td>2.001</td>\n",
       "      <td>6.287</td>\n",
       "      <td>2.507</td>\n",
       "    </tr>\n",
       "    <tr>\n",
       "      <th>GridSearch_test</th>\n",
       "      <td>0.923</td>\n",
       "      <td>1.693</td>\n",
       "      <td>4.367</td>\n",
       "      <td>2.090</td>\n",
       "    </tr>\n",
       "  </tbody>\n",
       "</table>\n",
       "</div>"
      ],
      "text/plain": [
       "                    R2   mae    mse  rmse\n",
       "linear_train     0.900 1.992  6.237 2.497\n",
       "linear_test      0.921 1.716  4.439 2.107\n",
       "ridge_train      0.899 2.003  6.313 2.513\n",
       "ridge_test       0.922 1.699  4.398 2.097\n",
       "ridge_cv_train   0.900 1.999  6.267 2.503\n",
       "ridge_cv_test    0.923 1.694  4.357 2.087\n",
       "lasso_train      0.768 3.016 14.521 3.811\n",
       "lasso_test       0.816 2.588 10.343 3.216\n",
       "lasso_cv_train   0.900 1.998  6.259 2.502\n",
       "lasso_cv_test    0.923 1.687  4.346 2.085\n",
       "elastic_train    0.625 3.870 23.448 4.842\n",
       "elastic_test     0.625 3.724 21.153 4.599\n",
       "elastic_cv_train 0.899 2.001  6.287 2.507\n",
       "elastic_cv_test  0.923 1.693  4.367 2.090\n",
       "GridSearch_train 0.899 2.001  6.287 2.507\n",
       "GridSearch_test  0.923 1.693  4.367 2.090"
      ]
     },
     "execution_count": 138,
     "metadata": {},
     "output_type": "execute_result"
    }
   ],
   "source": [
    "pd.concat([ls,rs, rcs, lss, lcs, es, ecs, gs], axis = 1).T"
   ]
  }
 ],
 "metadata": {
  "colab": {
   "collapsed_sections": [],
   "name": "cement_slump_assignment1",
   "provenance": []
  },
  "kernelspec": {
   "display_name": "Python 3",
   "language": "python",
   "name": "python3"
  },
  "language_info": {
   "codemirror_mode": {
    "name": "ipython",
    "version": 3
   },
   "file_extension": ".py",
   "mimetype": "text/x-python",
   "name": "python",
   "nbconvert_exporter": "python",
   "pygments_lexer": "ipython3",
   "version": "3.8.8"
  },
  "toc": {
   "base_numbering": 1,
   "nav_menu": {},
   "number_sections": true,
   "sideBar": true,
   "skip_h1_title": false,
   "title_cell": "Table of Contents",
   "title_sidebar": "Contents",
   "toc_cell": false,
   "toc_position": {
    "height": "calc(100% - 180px)",
    "left": "10px",
    "top": "150px",
    "width": "170.719px"
   },
   "toc_section_display": true,
   "toc_window_display": true
  }
 },
 "nbformat": 4,
 "nbformat_minor": 1
}
